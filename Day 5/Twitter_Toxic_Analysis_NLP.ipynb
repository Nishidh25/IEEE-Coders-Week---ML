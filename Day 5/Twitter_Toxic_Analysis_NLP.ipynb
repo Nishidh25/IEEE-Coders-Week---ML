{
  "nbformat": 4,
  "nbformat_minor": 0,
  "metadata": {
    "colab": {
      "name": "Twitter Toxic Analysis - NLP.ipynb",
      "provenance": [],
      "collapsed_sections": [
        "EFGTb5kltdur",
        "VU_2pmbcvKnG",
        "gkfg9nRDsfC3",
        "XqSDpZVDxtrx"
      ],
      "authorship_tag": "ABX9TyNW5F2QiJyPSCGhk4LYRRgi",
      "include_colab_link": true
    },
    "kernelspec": {
      "name": "python3",
      "display_name": "Python 3"
    }
  },
  "cells": [
    {
      "cell_type": "markdown",
      "metadata": {
        "id": "view-in-github",
        "colab_type": "text"
      },
      "source": [
        "<a href=\"https://colab.research.google.com/github/Nishidh25/IEEE-Coders-Week---ML/blob/master/Day%205/Twitter_Toxic_Analysis_NLP.ipynb\" target=\"_parent\"><img src=\"https://colab.research.google.com/assets/colab-badge.svg\" alt=\"Open In Colab\"/></a>"
      ]
    },
    {
      "cell_type": "markdown",
      "metadata": {
        "id": "EFGTb5kltdur",
        "colab_type": "text"
      },
      "source": [
        "# Scraping Twitter tweets for classification"
      ]
    },
    {
      "cell_type": "code",
      "metadata": {
        "id": "9fy3M4blDA0J",
        "colab_type": "code",
        "colab": {}
      },
      "source": [
        "from tweepy import OAuthHandler \n",
        "from textblob import TextBlob \n",
        "import re\n",
        "import tweepy \n",
        "import csv"
      ],
      "execution_count": 0,
      "outputs": []
    },
    {
      "cell_type": "markdown",
      "metadata": {
        "id": "KDs9xfRnuGKV",
        "colab_type": "text"
      },
      "source": [
        "## Getting data from Twitter's Api and doing sentiment analysis on it\n"
      ]
    },
    {
      "cell_type": "code",
      "metadata": {
        "id": "ucp6XY4mDfTU",
        "colab_type": "code",
        "colab": {}
      },
      "source": [
        "class TwitterClient(object): \n",
        "    ''' \n",
        "    Generic Twitter Class for sentiment analysis. \n",
        "    '''\n",
        "    def __init__(self): \n",
        "        ''' \n",
        "        Class constructor or initialization method. \n",
        "        '''\n",
        "        # keys and tokens from the Twitter Dev Console \n",
        "        consumer_key = \"kNOwqjB6YjrJsMYAicZhsk4bE\"\n",
        "        consumer_secret = \"l6mTxAkAfyQ2JIkYpvIWdRrwTCCWUgJb69MQp7u6gYUYEauTwB\"\n",
        "        access_token = \"2277900324-hoUKCi6WFjPuAOyxAXfU6TxW5m8REhSJoLXubTr\"\n",
        "        access_token_secret = \"UkUBLNl36yUbiNy3frVcmBXriGqXBE5Cj8jXLJVAqvygD\"\n",
        "  \n",
        "        # attempt authentication \n",
        "        try: \n",
        "            # create OAuthHandler object \n",
        "            self.auth = OAuthHandler(consumer_key, consumer_secret) \n",
        "            # set access token and secret \n",
        "            self.auth.set_access_token(access_token, access_token_secret) \n",
        "            # create tweepy API object to fetch tweets \n",
        "            self.api = tweepy.API(self.auth) \n",
        "        except: \n",
        "            print(\"Error: Authentication Failed\") \n",
        "  \n",
        "    def clean_tweet(self, tweet): \n",
        "        ''' \n",
        "        Utility function to clean tweet text by removing links, special characters \n",
        "        using simple regex statements. \n",
        "        '''\n",
        "        tweet = ' '.join(re.sub(\"(@[A-Za-z0-9]+)|([^0-9A-Za-z \\t])|(\\w+:\\/\\/\\S+)\", \" \", tweet).split()) \n",
        "        \n",
        "        return ' '.join(word for word in tweet.split() if word[0]!='@' and word!='RT')\n",
        "  \n",
        "    def get_tweet_sentiment(self, tweet): \n",
        "        ''' \n",
        "        Utility function to classify sentiment of passed tweet \n",
        "        using textblob's sentiment method \n",
        "        '''\n",
        "        # create TextBlob object of passed tweet text \n",
        "        analysis = TextBlob(self.clean_tweet(tweet)) \n",
        "        # set sentiment \n",
        "        if analysis.sentiment.polarity > 0: \n",
        "            return 'not-toxic'\n",
        "        elif analysis.sentiment.polarity == 0: \n",
        "            return 'neutral'\n",
        "        else: \n",
        "            return 'toxic'\n",
        "  \n",
        "    def get_tweets(self, query, count = 10000): \n",
        "        ''' \n",
        "        Main function to fetch tweets and parse them. \n",
        "        '''\n",
        "        # empty list to store parsed tweets \n",
        "        tweets = [] \n",
        "  \n",
        "        try: \n",
        "            # call twitter api to fetch tweets \n",
        "            fetched_tweets = self.api.search(q = query, count = count) \n",
        "  \n",
        "            # parsing tweets one by one \n",
        "            for tweet in fetched_tweets: \n",
        "                # empty dictionary to store required params of a tweet \n",
        "                parsed_tweet = {} \n",
        "  \n",
        "                # saving text of tweet \n",
        "                parsed_tweet['text'] = self.clean_tweet(tweet.text)\n",
        "                # saving sentiment of tweet \n",
        "                parsed_tweet['sentiment'] = self.get_tweet_sentiment(tweet.text) \n",
        "  \n",
        "                # appending parsed tweet to tweets list \n",
        "                if tweet.retweet_count > 0: \n",
        "                    # if tweet has retweets, ensure that it is appended only once \n",
        "                    if parsed_tweet not in tweets: \n",
        "                        tweets.append(parsed_tweet) \n",
        "                else: \n",
        "                    tweets.append(parsed_tweet) \n",
        "  \n",
        "            # return parsed tweets \n",
        "            return tweets \n",
        "  \n",
        "        except tweepy.TweepError as e: \n",
        "            # print error (if any) \n",
        "            print(\"Error : \" + str(e)) "
      ],
      "execution_count": 0,
      "outputs": []
    },
    {
      "cell_type": "code",
      "metadata": {
        "id": "aI_kWhiwWwKa",
        "colab_type": "code",
        "colab": {}
      },
      "source": [
        "# creating object of TwitterClient Class \n",
        "api = TwitterClient() \n",
        "\n",
        "def create_set(words,string):\n",
        "\n",
        "  for query in words:\n",
        "\n",
        "    tweets = api.get_tweets(query = query, count = 10000) \n",
        "      \n",
        "    # picking positive tweets from tweets \n",
        "    ptweets = [tweet for tweet in tweets if tweet['sentiment'] == 'not-toxic'] \n",
        "\n",
        "    # picking negative tweets from tweets \n",
        "    ntweets = [tweet for tweet in tweets if tweet['sentiment'] == 'toxic'] \n",
        "    \n",
        "\n",
        "\n",
        "    if string == \"negative\":\n",
        "      # Writing Positive tweets from negative sentiments to csv - For future reference \n",
        "      for tweet in ptweets: \n",
        "          filename = 'positive_from_negative.csv'\n",
        "          with open (filename, 'a+', newline='') as csvFile:\n",
        "            csvWriter = csv.writer(csvFile)  \n",
        "            #writing a csv file\n",
        "            csvWriter.writerow([tweet['text'],tweet['sentiment']]) \n",
        "          \n",
        "        \n",
        "      # Writing negative tweets to csv \n",
        "      for tweet in ntweets:\n",
        "          filename = 'negative.csv'\n",
        "          with open (filename, 'a+', newline='') as csvFile:\n",
        "            csvWriter = csv.writer(csvFile)  \n",
        "            #writing a csv file\n",
        "            csvWriter.writerow([tweet['text'],tweet['sentiment']]) \n",
        "          \n",
        "\n",
        "\n",
        "    elif string == \"positive\":\n",
        "      # Writing Positive tweets to csv  \n",
        "      for tweet in ptweets: \n",
        "          filename = 'positive.csv'\n",
        "          with open (filename, 'a+', newline='') as csvFile:\n",
        "            csvWriter = csv.writer(csvFile)  \n",
        "            #writing a csv file\n",
        "            csvWriter.writerow([tweet['text'],tweet['sentiment']]) \n",
        "          \n",
        "        \n",
        "      # Writing Negative tweets from positive sentiments to csv - For future reference\n",
        "      for tweet in ntweets:\n",
        "          filename = 'negative_from_positive.csv'\n",
        "          with open (filename, 'a+', newline='') as csvFile:\n",
        "            csvWriter = csv.writer(csvFile)  \n",
        "            #writing a csv file\n",
        "            csvWriter.writerow([tweet['text'],tweet['sentiment']])  "
      ],
      "execution_count": 0,
      "outputs": []
    },
    {
      "cell_type": "markdown",
      "metadata": {
        "id": "-jIBevpvu1uN",
        "colab_type": "text"
      },
      "source": [
        "### Getting Relevant tweets for toxic and not-toxic datasets\n",
        "\n",
        "We take some possible key words for both cases and get tweets related to them.\n",
        "\n",
        "Logic :\n",
        "* Tweets with negative sentiment on toxic_words will give us data for toxic tweets\n",
        "\n",
        "* Tweets with positive sentiment on non-toxic_words will give us data for non-toxic tweets"
      ]
    },
    {
      "cell_type": "code",
      "metadata": {
        "id": "bNZBD09wHQ_d",
        "colab_type": "code",
        "colab": {}
      },
      "source": [
        "toxic_words=[\"faggot\",\"nigger\",\"moron\",\"wanker\",\"suck\",\"pig\",\"fuck\",\"shit\",\"bullshit\",\"gay\",\"die\",\"bitch\"]\n",
        "random_words = [\"talk\",\"aricle\",\"well\",\"thanks\",\"fact\",\"see\",\"thank you\",\"good\"]\n",
        "\n",
        "create_set(toxic_words,\"negative\")\n",
        "create_set(random_words,\"positive\")"
      ],
      "execution_count": 0,
      "outputs": []
    },
    {
      "cell_type": "markdown",
      "metadata": {
        "id": "VU_2pmbcvKnG",
        "colab_type": "text"
      },
      "source": [
        "# Data Preparation"
      ]
    },
    {
      "cell_type": "markdown",
      "metadata": {
        "id": "aUd0Kf5Vvw9t",
        "colab_type": "text"
      },
      "source": [
        "## Imports"
      ]
    },
    {
      "cell_type": "code",
      "metadata": {
        "id": "EQGss-E6aEBY",
        "colab_type": "code",
        "colab": {
          "base_uri": "https://localhost:8080/",
          "height": 70
        },
        "outputId": "acf4dd04-bb9d-4705-b572-185a074b777c"
      },
      "source": [
        "import pandas as pd\n",
        "import numpy as np\n",
        "from sklearn.utils import shuffle\n",
        "import seaborn as sns\n",
        "import matplotlib.pyplot as plt"
      ],
      "execution_count": 1,
      "outputs": [
        {
          "output_type": "stream",
          "text": [
            "/usr/local/lib/python3.6/dist-packages/statsmodels/tools/_testing.py:19: FutureWarning: pandas.util.testing is deprecated. Use the functions in the public API at pandas.testing instead.\n",
            "  import pandas.util.testing as tm\n"
          ],
          "name": "stderr"
        }
      ]
    },
    {
      "cell_type": "markdown",
      "metadata": {
        "id": "zEtGeTZXvzf4",
        "colab_type": "text"
      },
      "source": [
        "## Loading data"
      ]
    },
    {
      "cell_type": "code",
      "metadata": {
        "id": "hiJxXOc-aOzO",
        "colab_type": "code",
        "colab": {}
      },
      "source": [
        "positive_data = pd.read_csv(\"positive.csv\")\n",
        "negative_data = pd.read_csv(\"negative.csv\")"
      ],
      "execution_count": 0,
      "outputs": []
    },
    {
      "cell_type": "code",
      "metadata": {
        "id": "7-eF_yoXacBL",
        "colab_type": "code",
        "colab": {
          "base_uri": "https://localhost:8080/",
          "height": 195
        },
        "outputId": "db154db8-5cf2-4640-e899-ecf30e3d0cd8"
      },
      "source": [
        "positive_data.head()"
      ],
      "execution_count": 3,
      "outputs": [
        {
          "output_type": "execute_result",
          "data": {
            "text/html": [
              "<div>\n",
              "<style scoped>\n",
              "    .dataframe tbody tr th:only-of-type {\n",
              "        vertical-align: middle;\n",
              "    }\n",
              "\n",
              "    .dataframe tbody tr th {\n",
              "        vertical-align: top;\n",
              "    }\n",
              "\n",
              "    .dataframe thead th {\n",
              "        text-align: right;\n",
              "    }\n",
              "</style>\n",
              "<table border=\"1\" class=\"dataframe\">\n",
              "  <thead>\n",
              "    <tr style=\"text-align: right;\">\n",
              "      <th></th>\n",
              "      <th>Why is the guy that lit the fire still able to walk talk and breath That was attempted murder</th>\n",
              "      <th>not-toxic</th>\n",
              "    </tr>\n",
              "  </thead>\n",
              "  <tbody>\n",
              "    <tr>\n",
              "      <th>0</th>\n",
              "      <td>People still think it s weird to talk to yours...</td>\n",
              "      <td>not-toxic</td>\n",
              "    </tr>\n",
              "    <tr>\n",
              "      <th>1</th>\n",
              "      <td>i really want to talk to someone about my feel...</td>\n",
              "      <td>not-toxic</td>\n",
              "    </tr>\n",
              "    <tr>\n",
              "      <th>2</th>\n",
              "      <td>I love listening to the old heads talk</td>\n",
              "      <td>not-toxic</td>\n",
              "    </tr>\n",
              "    <tr>\n",
              "      <th>3</th>\n",
              "      <td>Ah Thank you I finally feel normal It irks me ...</td>\n",
              "      <td>not-toxic</td>\n",
              "    </tr>\n",
              "    <tr>\n",
              "      <th>4</th>\n",
              "      <td>Kind of thinking about coloring my hair like s...</td>\n",
              "      <td>not-toxic</td>\n",
              "    </tr>\n",
              "  </tbody>\n",
              "</table>\n",
              "</div>"
            ],
            "text/plain": [
              "  Why is the guy that lit the fire still able to walk talk and breath That was attempted murder  not-toxic\n",
              "0  People still think it s weird to talk to yours...                                             not-toxic\n",
              "1  i really want to talk to someone about my feel...                                             not-toxic\n",
              "2             I love listening to the old heads talk                                             not-toxic\n",
              "3  Ah Thank you I finally feel normal It irks me ...                                             not-toxic\n",
              "4  Kind of thinking about coloring my hair like s...                                             not-toxic"
            ]
          },
          "metadata": {
            "tags": []
          },
          "execution_count": 3
        }
      ]
    },
    {
      "cell_type": "code",
      "metadata": {
        "id": "HCne2RebvmUt",
        "colab_type": "code",
        "colab": {
          "base_uri": "https://localhost:8080/",
          "height": 195
        },
        "outputId": "7d4deebd-5661-47e7-d914-d01f223c5c42"
      },
      "source": [
        "negative_data.head()"
      ],
      "execution_count": 4,
      "outputs": [
        {
          "output_type": "execute_result",
          "data": {
            "text/html": [
              "<div>\n",
              "<style scoped>\n",
              "    .dataframe tbody tr th:only-of-type {\n",
              "        vertical-align: middle;\n",
              "    }\n",
              "\n",
              "    .dataframe tbody tr th {\n",
              "        vertical-align: top;\n",
              "    }\n",
              "\n",
              "    .dataframe thead th {\n",
              "        text-align: right;\n",
              "    }\n",
              "</style>\n",
              "<table border=\"1\" class=\"dataframe\">\n",
              "  <thead>\n",
              "    <tr style=\"text-align: right;\">\n",
              "      <th></th>\n",
              "      <th>comment down below like and subscribe to join faggot kins</th>\n",
              "      <th>toxic</th>\n",
              "    </tr>\n",
              "  </thead>\n",
              "  <tbody>\n",
              "    <tr>\n",
              "      <th>0</th>\n",
              "      <td>If he does come up to me starting shit again I...</td>\n",
              "      <td>toxic</td>\n",
              "    </tr>\n",
              "    <tr>\n",
              "      <th>1</th>\n",
              "      <td>You had a fucking chance to be absolutely anyb...</td>\n",
              "      <td>toxic</td>\n",
              "    </tr>\n",
              "    <tr>\n",
              "      <th>2</th>\n",
              "      <td>These faggot ass cops ain t got shit else to d...</td>\n",
              "      <td>toxic</td>\n",
              "    </tr>\n",
              "    <tr>\n",
              "      <th>3</th>\n",
              "      <td>All I m hearing is you can play online now wit...</td>\n",
              "      <td>toxic</td>\n",
              "    </tr>\n",
              "    <tr>\n",
              "      <th>4</th>\n",
              "      <td>The worst thing about some Texas locals gettin...</td>\n",
              "      <td>toxic</td>\n",
              "    </tr>\n",
              "  </tbody>\n",
              "</table>\n",
              "</div>"
            ],
            "text/plain": [
              "  comment down below like and subscribe to join faggot kins  toxic\n",
              "0  If he does come up to me starting shit again I...         toxic\n",
              "1  You had a fucking chance to be absolutely anyb...         toxic\n",
              "2  These faggot ass cops ain t got shit else to d...         toxic\n",
              "3  All I m hearing is you can play online now wit...         toxic\n",
              "4  The worst thing about some Texas locals gettin...         toxic"
            ]
          },
          "metadata": {
            "tags": []
          },
          "execution_count": 4
        }
      ]
    },
    {
      "cell_type": "code",
      "metadata": {
        "id": "rNxKjMPXaw5h",
        "colab_type": "code",
        "colab": {
          "base_uri": "https://localhost:8080/",
          "height": 402
        },
        "outputId": "2e53cd4d-c324-41ac-dab5-6a579986b845"
      },
      "source": [
        "# Adding proper indexes to the data\n",
        "\n",
        "index_data = positive_data.columns\n",
        "positive_data.columns = ['text','toxic']\n",
        "positive_data.append({'text' : index_data[0] , 'toxic' : index_data[1] } , ignore_index=True)\n",
        "\n",
        "index_data = negative_data.columns\n",
        "negative_data.columns = ['text','toxic']\n",
        "negative_data.append({'text' : index_data[0] , 'toxic' : index_data[1] } , ignore_index=True)"
      ],
      "execution_count": 5,
      "outputs": [
        {
          "output_type": "execute_result",
          "data": {
            "text/html": [
              "<div>\n",
              "<style scoped>\n",
              "    .dataframe tbody tr th:only-of-type {\n",
              "        vertical-align: middle;\n",
              "    }\n",
              "\n",
              "    .dataframe tbody tr th {\n",
              "        vertical-align: top;\n",
              "    }\n",
              "\n",
              "    .dataframe thead th {\n",
              "        text-align: right;\n",
              "    }\n",
              "</style>\n",
              "<table border=\"1\" class=\"dataframe\">\n",
              "  <thead>\n",
              "    <tr style=\"text-align: right;\">\n",
              "      <th></th>\n",
              "      <th>text</th>\n",
              "      <th>toxic</th>\n",
              "    </tr>\n",
              "  </thead>\n",
              "  <tbody>\n",
              "    <tr>\n",
              "      <th>0</th>\n",
              "      <td>If he does come up to me starting shit again I...</td>\n",
              "      <td>toxic</td>\n",
              "    </tr>\n",
              "    <tr>\n",
              "      <th>1</th>\n",
              "      <td>You had a fucking chance to be absolutely anyb...</td>\n",
              "      <td>toxic</td>\n",
              "    </tr>\n",
              "    <tr>\n",
              "      <th>2</th>\n",
              "      <td>These faggot ass cops ain t got shit else to d...</td>\n",
              "      <td>toxic</td>\n",
              "    </tr>\n",
              "    <tr>\n",
              "      <th>3</th>\n",
              "      <td>All I m hearing is you can play online now wit...</td>\n",
              "      <td>toxic</td>\n",
              "    </tr>\n",
              "    <tr>\n",
              "      <th>4</th>\n",
              "      <td>The worst thing about some Texas locals gettin...</td>\n",
              "      <td>toxic</td>\n",
              "    </tr>\n",
              "    <tr>\n",
              "      <th>...</th>\n",
              "      <td>...</td>\n",
              "      <td>...</td>\n",
              "    </tr>\n",
              "    <tr>\n",
              "      <th>249</th>\n",
              "      <td>I really dgaf about that video y all throw in ...</td>\n",
              "      <td>toxic</td>\n",
              "    </tr>\n",
              "    <tr>\n",
              "      <th>250</th>\n",
              "      <td>Bitch I get so wasted when I do this show</td>\n",
              "      <td>toxic</td>\n",
              "    </tr>\n",
              "    <tr>\n",
              "      <th>251</th>\n",
              "      <td>trying really hard not to subtweet my ex frien...</td>\n",
              "      <td>toxic</td>\n",
              "    </tr>\n",
              "    <tr>\n",
              "      <th>252</th>\n",
              "      <td>adamaris h You know who s crazy Me bitch so st...</td>\n",
              "      <td>toxic</td>\n",
              "    </tr>\n",
              "    <tr>\n",
              "      <th>253</th>\n",
              "      <td>comment down below like and subscribe to join ...</td>\n",
              "      <td>toxic</td>\n",
              "    </tr>\n",
              "  </tbody>\n",
              "</table>\n",
              "<p>254 rows × 2 columns</p>\n",
              "</div>"
            ],
            "text/plain": [
              "                                                  text  toxic\n",
              "0    If he does come up to me starting shit again I...  toxic\n",
              "1    You had a fucking chance to be absolutely anyb...  toxic\n",
              "2    These faggot ass cops ain t got shit else to d...  toxic\n",
              "3    All I m hearing is you can play online now wit...  toxic\n",
              "4    The worst thing about some Texas locals gettin...  toxic\n",
              "..                                                 ...    ...\n",
              "249  I really dgaf about that video y all throw in ...  toxic\n",
              "250          Bitch I get so wasted when I do this show  toxic\n",
              "251  trying really hard not to subtweet my ex frien...  toxic\n",
              "252  adamaris h You know who s crazy Me bitch so st...  toxic\n",
              "253  comment down below like and subscribe to join ...  toxic\n",
              "\n",
              "[254 rows x 2 columns]"
            ]
          },
          "metadata": {
            "tags": []
          },
          "execution_count": 5
        }
      ]
    },
    {
      "cell_type": "markdown",
      "metadata": {
        "id": "7f5Bsuopvvk1",
        "colab_type": "text"
      },
      "source": [
        "## Merging toxic and not-toxic data into one dataframe"
      ]
    },
    {
      "cell_type": "code",
      "metadata": {
        "id": "2EoYQGdDdZdP",
        "colab_type": "code",
        "colab": {
          "base_uri": "https://localhost:8080/",
          "height": 195
        },
        "outputId": "962f3a88-e06b-40ed-93b3-842490d33cd8"
      },
      "source": [
        "data = pd.concat([negative_data, positive_data])\n",
        "data.head()"
      ],
      "execution_count": 6,
      "outputs": [
        {
          "output_type": "execute_result",
          "data": {
            "text/html": [
              "<div>\n",
              "<style scoped>\n",
              "    .dataframe tbody tr th:only-of-type {\n",
              "        vertical-align: middle;\n",
              "    }\n",
              "\n",
              "    .dataframe tbody tr th {\n",
              "        vertical-align: top;\n",
              "    }\n",
              "\n",
              "    .dataframe thead th {\n",
              "        text-align: right;\n",
              "    }\n",
              "</style>\n",
              "<table border=\"1\" class=\"dataframe\">\n",
              "  <thead>\n",
              "    <tr style=\"text-align: right;\">\n",
              "      <th></th>\n",
              "      <th>text</th>\n",
              "      <th>toxic</th>\n",
              "    </tr>\n",
              "  </thead>\n",
              "  <tbody>\n",
              "    <tr>\n",
              "      <th>0</th>\n",
              "      <td>If he does come up to me starting shit again I...</td>\n",
              "      <td>toxic</td>\n",
              "    </tr>\n",
              "    <tr>\n",
              "      <th>1</th>\n",
              "      <td>You had a fucking chance to be absolutely anyb...</td>\n",
              "      <td>toxic</td>\n",
              "    </tr>\n",
              "    <tr>\n",
              "      <th>2</th>\n",
              "      <td>These faggot ass cops ain t got shit else to d...</td>\n",
              "      <td>toxic</td>\n",
              "    </tr>\n",
              "    <tr>\n",
              "      <th>3</th>\n",
              "      <td>All I m hearing is you can play online now wit...</td>\n",
              "      <td>toxic</td>\n",
              "    </tr>\n",
              "    <tr>\n",
              "      <th>4</th>\n",
              "      <td>The worst thing about some Texas locals gettin...</td>\n",
              "      <td>toxic</td>\n",
              "    </tr>\n",
              "  </tbody>\n",
              "</table>\n",
              "</div>"
            ],
            "text/plain": [
              "                                                text  toxic\n",
              "0  If he does come up to me starting shit again I...  toxic\n",
              "1  You had a fucking chance to be absolutely anyb...  toxic\n",
              "2  These faggot ass cops ain t got shit else to d...  toxic\n",
              "3  All I m hearing is you can play online now wit...  toxic\n",
              "4  The worst thing about some Texas locals gettin...  toxic"
            ]
          },
          "metadata": {
            "tags": []
          },
          "execution_count": 6
        }
      ]
    },
    {
      "cell_type": "markdown",
      "metadata": {
        "id": "_H2eOJ-PwZKA",
        "colab_type": "text"
      },
      "source": [
        "## Visualisation \n",
        "\n",
        "Number of toxic , not-toxic messages"
      ]
    },
    {
      "cell_type": "code",
      "metadata": {
        "id": "3yrWDEilqV_T",
        "colab_type": "code",
        "colab": {
          "base_uri": "https://localhost:8080/",
          "height": 312
        },
        "outputId": "d834db3a-143c-432e-e60f-cde591488f5e"
      },
      "source": [
        "sns.countplot(data.toxic)\n",
        "plt.xlabel('toxic')\n",
        "plt.title('Number of toxic , not-toxic messages')"
      ],
      "execution_count": 7,
      "outputs": [
        {
          "output_type": "execute_result",
          "data": {
            "text/plain": [
              "Text(0.5, 1.0, 'Number of toxic , not-toxic messages')"
            ]
          },
          "metadata": {
            "tags": []
          },
          "execution_count": 7
        },
        {
          "output_type": "display_data",
          "data": {
            "image/png": "[encoded data removed]",
            "text/plain": [
              "<Figure size 432x288 with 1 Axes>"
            ]
          },
          "metadata": {
            "tags": [],
            "needs_background": "light"
          }
        }
      ]
    },
    {
      "cell_type": "markdown",
      "metadata": {
        "id": "gkfg9nRDsfC3",
        "colab_type": "text"
      },
      "source": [
        "# Using spaCy for NLP"
      ]
    },
    {
      "cell_type": "code",
      "metadata": {
        "id": "945bZBploBGM",
        "colab_type": "code",
        "colab": {
          "base_uri": "https://localhost:8080/",
          "height": 34
        },
        "outputId": "a794624e-d978-43ad-af42-c91f5de8c839"
      },
      "source": [
        "import spacy\n",
        "\n",
        "# Create an empty model\n",
        "nlp = spacy.blank(\"en\")\n",
        "\n",
        "# Create the TextCategorizer with exclusive classes and \"bow\" architecture\n",
        "textcat = nlp.create_pipe(\n",
        "              \"textcat\",\n",
        "              config={\n",
        "                \"exclusive_classes\": True,\n",
        "                \"architecture\": \"bow\"})\n",
        "\n",
        "# Add the TextCategorizer to the empty model\n",
        "nlp.add_pipe(textcat)\n",
        "textcat.add_label(\"toxic\")\n",
        "textcat.add_label(\"not-toxic\")"
      ],
      "execution_count": 8,
      "outputs": [
        {
          "output_type": "execute_result",
          "data": {
            "text/plain": [
              "1"
            ]
          },
          "metadata": {
            "tags": []
          },
          "execution_count": 8
        }
      ]
    },
    {
      "cell_type": "code",
      "metadata": {
        "id": "mSIFBYU0ojqt",
        "colab_type": "code",
        "colab": {
          "base_uri": "https://localhost:8080/",
          "height": 118
        },
        "outputId": "c23513df-9298-4eaf-8ce8-f3171acfb915"
      },
      "source": [
        "train_texts = data['text'].values\n",
        "train_labels = [{'cats': {'toxic': label == 'toxic',\n",
        "                          'not-toxic': label == 'not-toxic'}\n",
        "                 } \n",
        "                for label in data['toxic']\n",
        "                ]\n",
        "\n",
        "train_data = list(zip(train_texts, train_labels))\n",
        "train_data[:3]"
      ],
      "execution_count": 9,
      "outputs": [
        {
          "output_type": "execute_result",
          "data": {
            "text/plain": [
              "[('If he does come up to me starting shit again I m going past the point of making him bleed from his face and killing',\n",
              "  {'cats': {'not-toxic': False, 'toxic': True}}),\n",
              " ('You had a fucking chance to be absolutely anybody on Twitter but you chose to be a fucking faggot',\n",
              "  {'cats': {'not-toxic': False, 'toxic': True}}),\n",
              " ('These faggot ass cops ain t got shit else to do with their time but fuck wit us',\n",
              "  {'cats': {'not-toxic': False, 'toxic': True}})]"
            ]
          },
          "metadata": {
            "tags": []
          },
          "execution_count": 9
        }
      ]
    },
    {
      "cell_type": "code",
      "metadata": {
        "id": "Vd9tuq_Mo1FY",
        "colab_type": "code",
        "colab": {}
      },
      "source": [
        "from spacy.util import minibatch\n",
        "\n",
        "optimizer = nlp.begin_training()\n",
        "\n",
        "# Create the batch generator with batch size = 8\n",
        "batches = minibatch(train_data, size=8)\n",
        "# Iterate through minibatches\n",
        "for batch in batches:\n",
        "    # Each batch is a list of (text, label) but we need to\n",
        "    # send separate lists for texts and labels to update().\n",
        "    # This is a quick way to split a list of tuples into lists\n",
        "    texts, labels = zip(*batch)\n",
        "    nlp.update(texts, labels, sgd=optimizer)"
      ],
      "execution_count": 0,
      "outputs": []
    },
    {
      "cell_type": "code",
      "metadata": {
        "id": "nGh5qpJFpLZ4",
        "colab_type": "code",
        "colab": {
          "base_uri": "https://localhost:8080/",
          "height": 185
        },
        "outputId": "9214589f-fb4d-4272-b5f0-8c07fd49b07c"
      },
      "source": [
        "optimizer = nlp.begin_training()\n",
        "import random\n",
        "\n",
        "losses = {}\n",
        "for epoch in range(10):\n",
        "    random.shuffle(train_data)\n",
        "    # Create the batch generator with batch size = 8\n",
        "    batches = minibatch(train_data, size=8)\n",
        "    # Iterate through minibatches\n",
        "    for batch in batches:\n",
        "        # Each batch is a list of (text, label) but we need to\n",
        "        # send separate lists for texts and labels to update().\n",
        "        # This is a quick way to split a list of tuples into lists\n",
        "        texts, labels = zip(*batch)\n",
        "        nlp.update(texts, labels, sgd=optimizer, losses=losses)\n",
        "    print(losses)"
      ],
      "execution_count": 11,
      "outputs": [
        {
          "output_type": "stream",
          "text": [
            "{'textcat': 0.42557259323075414}\n",
            "{'textcat': 0.705292085185647}\n",
            "{'textcat': 0.8932000212371349}\n",
            "{'textcat': 1.0223114843247458}\n",
            "{'textcat': 1.1192265564750414}\n",
            "{'textcat': 1.1928108507418074}\n",
            "{'textcat': 1.2476629788143327}\n",
            "{'textcat': 1.2914749584742822}\n",
            "{'textcat': 1.3299586838693358}\n",
            "{'textcat': 1.3586536658622208}\n"
          ],
          "name": "stdout"
        }
      ]
    },
    {
      "cell_type": "code",
      "metadata": {
        "id": "dIIladDgpR3y",
        "colab_type": "code",
        "colab": {
          "base_uri": "https://localhost:8080/",
          "height": 50
        },
        "outputId": "0538d22c-9bcc-454a-ad3d-eeec7c355210"
      },
      "source": [
        "texts = [\"Pleasure to meet you sir\",\n",
        "         \"fucking faggot\" ]\n",
        "docs = [nlp.tokenizer(text) for text in texts]\n",
        "    \n",
        "# Use textcat to get the scores for each doc\n",
        "textcat = nlp.get_pipe('textcat')\n",
        "scores, _ = textcat.predict(docs)\n",
        "\n",
        "print(scores)"
      ],
      "execution_count": 12,
      "outputs": [
        {
          "output_type": "stream",
          "text": [
            "[[0.35812306 0.64187694]\n",
            " [0.73926336 0.2607367 ]]\n"
          ],
          "name": "stdout"
        }
      ]
    },
    {
      "cell_type": "code",
      "metadata": {
        "id": "Fa0oSwlvpg8U",
        "colab_type": "code",
        "colab": {
          "base_uri": "https://localhost:8080/",
          "height": 34
        },
        "outputId": "1f30bedc-0e32-4e2d-8264-77aa2995e8a6"
      },
      "source": [
        "predicted_labels = scores.argmax(axis=1)\n",
        "print([textcat.labels[label] for label in predicted_labels])"
      ],
      "execution_count": 13,
      "outputs": [
        {
          "output_type": "stream",
          "text": [
            "['not-toxic', 'toxic']\n"
          ],
          "name": "stdout"
        }
      ]
    },
    {
      "cell_type": "markdown",
      "metadata": {
        "id": "XqSDpZVDxtrx",
        "colab_type": "text"
      },
      "source": [
        "# Keras Model with LSTM for text classification"
      ]
    },
    {
      "cell_type": "markdown",
      "metadata": {
        "id": "6QUFkDR9x8OK",
        "colab_type": "text"
      },
      "source": [
        "## Imports"
      ]
    },
    {
      "cell_type": "code",
      "metadata": {
        "id": "k1XQSb2txtSc",
        "colab_type": "code",
        "colab": {}
      },
      "source": [
        "import tensorflow as tf\n",
        "from sklearn.model_selection import train_test_split\n",
        "from sklearn.preprocessing import LabelEncoder\n",
        "\n",
        "from tensorflow.keras.preprocessing.text import Tokenizer\n",
        "from tensorflow.keras.preprocessing import sequence\n",
        "from tensorflow.keras.utils import to_categorical\n",
        "\n",
        "%matplotlib inline"
      ],
      "execution_count": 0,
      "outputs": []
    },
    {
      "cell_type": "code",
      "metadata": {
        "id": "O7Tuh6o-x_Vw",
        "colab_type": "code",
        "colab": {}
      },
      "source": [
        "X = data.text\n",
        "Y = data.toxic\n",
        "le = LabelEncoder()\n",
        "Y = le.fit_transform(Y)\n",
        "Y = Y.reshape(-1,1)"
      ],
      "execution_count": 0,
      "outputs": []
    },
    {
      "cell_type": "code",
      "metadata": {
        "id": "VS1wD9OGyLDg",
        "colab_type": "code",
        "colab": {}
      },
      "source": [
        "X_train,X_test,Y_train,Y_test = train_test_split(X,Y,test_size=0.15)"
      ],
      "execution_count": 0,
      "outputs": []
    },
    {
      "cell_type": "code",
      "metadata": {
        "id": "qC2hKPtiyOeZ",
        "colab_type": "code",
        "colab": {}
      },
      "source": [
        "max_words = 1000\n",
        "max_len = 150\n",
        "tok = Tokenizer(num_words=max_words)\n",
        "tok.fit_on_texts(X_train)\n",
        "sequences = tok.texts_to_sequences(X_train)\n",
        "sequences_matrix = sequence.pad_sequences(sequences,maxlen=max_len)"
      ],
      "execution_count": 0,
      "outputs": []
    },
    {
      "cell_type": "markdown",
      "metadata": {
        "id": "PPEnLqVezRZf",
        "colab_type": "text"
      },
      "source": [
        "## Defining model"
      ]
    },
    {
      "cell_type": "code",
      "metadata": {
        "id": "XrMFcXjgyTab",
        "colab_type": "code",
        "colab": {}
      },
      "source": [
        "model = tf.keras.Sequential([\n",
        "                             \n",
        "        tf.keras.layers.Input(name='inputs',shape=[max_len]),\n",
        "        tf.keras.layers.Embedding(max_words, 50, input_length = max_len),\n",
        "        tf.keras.layers.LSTM(64),\n",
        "        tf.keras.layers.Dense(256,activation='relu'),\n",
        "        tf.keras.layers.Dropout(0.25),\n",
        "        tf.keras.layers.Dense(1,activation='relu')\n",
        "\n",
        "        ])"
      ],
      "execution_count": 0,
      "outputs": []
    },
    {
      "cell_type": "code",
      "metadata": {
        "id": "PYvPbur90jpR",
        "colab_type": "code",
        "colab": {
          "base_uri": "https://localhost:8080/",
          "height": 319
        },
        "outputId": "ea740010-7786-46e0-c805-8a1790a42242"
      },
      "source": [
        "model.summary()"
      ],
      "execution_count": 91,
      "outputs": [
        {
          "output_type": "stream",
          "text": [
            "Model: \"sequential_6\"\n",
            "_________________________________________________________________\n",
            "Layer (type)                 Output Shape              Param #   \n",
            "=================================================================\n",
            "embedding_6 (Embedding)      (None, 150, 50)           50000     \n",
            "_________________________________________________________________\n",
            "lstm_6 (LSTM)                (None, 64)                29440     \n",
            "_________________________________________________________________\n",
            "dense_12 (Dense)             (None, 256)               16640     \n",
            "_________________________________________________________________\n",
            "dropout_6 (Dropout)          (None, 256)               0         \n",
            "_________________________________________________________________\n",
            "dense_13 (Dense)             (None, 1)                 257       \n",
            "=================================================================\n",
            "Total params: 96,337\n",
            "Trainable params: 96,337\n",
            "Non-trainable params: 0\n",
            "_________________________________________________________________\n"
          ],
          "name": "stdout"
        }
      ]
    },
    {
      "cell_type": "code",
      "metadata": {
        "id": "PKeTk-rg0rdA",
        "colab_type": "code",
        "colab": {}
      },
      "source": [
        "model.compile(loss='binary_crossentropy',optimizer= \"RMSprop\" ,metrics=['accuracy'])"
      ],
      "execution_count": 0,
      "outputs": []
    },
    {
      "cell_type": "markdown",
      "metadata": {
        "id": "qID3QSjhE9UM",
        "colab_type": "text"
      },
      "source": [
        "## Training model with our dataset"
      ]
    },
    {
      "cell_type": "code",
      "metadata": {
        "id": "9WRehxEc0mrY",
        "colab_type": "code",
        "colab": {
          "base_uri": "https://localhost:8080/",
          "height": 521
        },
        "outputId": "5da66cdd-f70d-414c-862a-515d2808b69c"
      },
      "source": [
        "history = model.fit(sequences_matrix,Y_train,batch_size=128,epochs=15,\n",
        "          validation_split=0.15 )\n",
        "          #callbacks=[EarlyStopping(monitor='val_loss',min_delta=0.0001)])"
      ],
      "execution_count": 93,
      "outputs": [
        {
          "output_type": "stream",
          "text": [
            "Epoch 1/15\n",
            "4/4 [==============================] - 1s 229ms/step - loss: 2.5364 - accuracy: 0.5708 - val_loss: 0.8981 - val_accuracy: 0.6000\n",
            "Epoch 2/15\n",
            "4/4 [==============================] - 1s 132ms/step - loss: 0.8006 - accuracy: 0.5778 - val_loss: 0.7153 - val_accuracy: 0.4933\n",
            "Epoch 3/15\n",
            "4/4 [==============================] - 1s 133ms/step - loss: 0.6745 - accuracy: 0.5920 - val_loss: 0.6966 - val_accuracy: 0.6000\n",
            "Epoch 4/15\n",
            "4/4 [==============================] - 1s 131ms/step - loss: 0.6264 - accuracy: 0.6274 - val_loss: 0.6438 - val_accuracy: 0.6667\n",
            "Epoch 5/15\n",
            "4/4 [==============================] - 1s 132ms/step - loss: 0.5672 - accuracy: 0.7476 - val_loss: 0.6485 - val_accuracy: 0.6133\n",
            "Epoch 6/15\n",
            "4/4 [==============================] - 1s 131ms/step - loss: 0.5438 - accuracy: 0.7193 - val_loss: 0.5955 - val_accuracy: 0.6667\n",
            "Epoch 7/15\n",
            "4/4 [==============================] - 1s 131ms/step - loss: 0.4072 - accuracy: 0.8986 - val_loss: 4.0068 - val_accuracy: 0.4133\n",
            "Epoch 8/15\n",
            "4/4 [==============================] - 1s 128ms/step - loss: 0.8439 - accuracy: 0.6038 - val_loss: 0.5099 - val_accuracy: 0.6800\n",
            "Epoch 9/15\n",
            "4/4 [==============================] - 1s 131ms/step - loss: 0.3421 - accuracy: 0.8019 - val_loss: 0.4252 - val_accuracy: 0.7867\n",
            "Epoch 10/15\n",
            "4/4 [==============================] - 1s 132ms/step - loss: 0.2435 - accuracy: 0.9528 - val_loss: 0.3760 - val_accuracy: 0.8400\n",
            "Epoch 11/15\n",
            "4/4 [==============================] - 1s 128ms/step - loss: 0.1673 - accuracy: 0.9882 - val_loss: 0.3437 - val_accuracy: 0.8267\n",
            "Epoch 12/15\n",
            "4/4 [==============================] - 1s 129ms/step - loss: 0.1133 - accuracy: 0.9906 - val_loss: 0.3286 - val_accuracy: 0.8267\n",
            "Epoch 13/15\n",
            "4/4 [==============================] - 1s 132ms/step - loss: 0.0792 - accuracy: 0.9929 - val_loss: 0.3290 - val_accuracy: 0.8800\n",
            "Epoch 14/15\n",
            "4/4 [==============================] - 1s 131ms/step - loss: 0.0511 - accuracy: 0.9929 - val_loss: 0.3332 - val_accuracy: 0.8667\n",
            "Epoch 15/15\n",
            "4/4 [==============================] - 1s 141ms/step - loss: 0.0326 - accuracy: 0.9976 - val_loss: 0.5299 - val_accuracy: 0.8267\n"
          ],
          "name": "stdout"
        }
      ]
    },
    {
      "cell_type": "code",
      "metadata": {
        "id": "xWJsvh1R2sIb",
        "colab_type": "code",
        "colab": {}
      },
      "source": [
        "def plot_graphs(history, metric):\n",
        "  plt.plot(history.history[metric])\n",
        "  plt.plot(history.history['val_'+metric], '')\n",
        "  plt.xlabel(\"Epochs\")\n",
        "  plt.ylabel(metric)\n",
        "  plt.legend([metric, 'val_'+metric])\n",
        "  plt.show()"
      ],
      "execution_count": 0,
      "outputs": []
    },
    {
      "cell_type": "code",
      "metadata": {
        "id": "GBorF5M92fEo",
        "colab_type": "code",
        "colab": {
          "base_uri": "https://localhost:8080/",
          "height": 279
        },
        "outputId": "bfa24fc6-9bbc-411e-c0e1-e9398c406bb3"
      },
      "source": [
        "plot_graphs(history, 'accuracy')"
      ],
      "execution_count": 95,
      "outputs": [
        {
          "output_type": "display_data",
          "data": {
            "image/png": "[encoded data removed]",
            "text/plain": [
              "<Figure size 432x288 with 1 Axes>"
            ]
          },
          "metadata": {
            "tags": [],
            "needs_background": "light"
          }
        }
      ]
    },
    {
      "cell_type": "code",
      "metadata": {
        "id": "kds9kh_E26E6",
        "colab_type": "code",
        "colab": {
          "base_uri": "https://localhost:8080/",
          "height": 279
        },
        "outputId": "185ca319-e8a9-4455-8cf5-1677bdeef916"
      },
      "source": [
        "plot_graphs(history, 'loss')"
      ],
      "execution_count": 96,
      "outputs": [
        {
          "output_type": "display_data",
          "data": {
            "image/png": "[encoded data removed]",
            "text/plain": [
              "<Figure size 432x288 with 1 Axes>"
            ]
          },
          "metadata": {
            "tags": [],
            "needs_background": "light"
          }
        }
      ]
    },
    {
      "cell_type": "code",
      "metadata": {
        "id": "ZF-uoSNk1Hx3",
        "colab_type": "code",
        "colab": {}
      },
      "source": [
        "test_sequences = tok.texts_to_sequences(X_test)\n",
        "test_sequences_matrix = sequence.pad_sequences(test_sequences,maxlen=max_len)"
      ],
      "execution_count": 0,
      "outputs": []
    },
    {
      "cell_type": "markdown",
      "metadata": {
        "id": "XUSq4QFM5dxL",
        "colab_type": "text"
      },
      "source": [
        "## Accuracy on Test Set"
      ]
    },
    {
      "cell_type": "code",
      "metadata": {
        "id": "gwsM2RyF1JP2",
        "colab_type": "code",
        "colab": {
          "base_uri": "https://localhost:8080/",
          "height": 34
        },
        "outputId": "cc320a46-327b-4882-cf4b-c4aca7ea5907"
      },
      "source": [
        "accr = model.evaluate(test_sequences_matrix,Y_test)"
      ],
      "execution_count": 98,
      "outputs": [
        {
          "output_type": "stream",
          "text": [
            "3/3 [==============================] - 0s 13ms/step - loss: 0.3639 - accuracy: 0.8539\n"
          ],
          "name": "stdout"
        }
      ]
    },
    {
      "cell_type": "markdown",
      "metadata": {
        "id": "gf-6H0OrFyi6",
        "colab_type": "text"
      },
      "source": [
        "### We achieve 85% acccuracy on test set , without overfitting on the training set"
      ]
    }
  ]
}