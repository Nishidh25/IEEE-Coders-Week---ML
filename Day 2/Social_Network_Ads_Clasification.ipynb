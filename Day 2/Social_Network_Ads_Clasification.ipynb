{
  "nbformat": 4,
  "nbformat_minor": 0,
  "metadata": {
    "colab": {
      "name": "Social Network Ads Clasification.ipynb",
      "provenance": [],
      "collapsed_sections": [],
      "authorship_tag": "ABX9TyONrL/pXWS1Y5GY6DUk7297",
      "include_colab_link": true
    },
    "kernelspec": {
      "name": "python3",
      "display_name": "Python 3"
    }
  },
  "cells": [
    {
      "cell_type": "markdown",
      "metadata": {
        "id": "view-in-github",
        "colab_type": "text"
      },
      "source": [
        "<a href=\"https://colab.research.google.com/github/Nishidh25/IEEE-Coders-Week---ML/blob/master/Day%202/Social_Network_Ads_Clasification.ipynb\" target=\"_parent\"><img src=\"https://colab.research.google.com/assets/colab-badge.svg\" alt=\"Open In Colab\"/></a>"
      ]
    },
    {
      "cell_type": "markdown",
      "metadata": {
        "id": "41Ydt3MAdkWA",
        "colab_type": "text"
      },
      "source": [
        "Created on Tue Jun 02 13:03:59 2020\n",
        "\n",
        "@author: Nishidh Shekhawat\n"
      ]
    },
    {
      "cell_type": "markdown",
      "metadata": {
        "id": "vmnNS0K9WtO6",
        "colab_type": "text"
      },
      "source": [
        "# Task : Observe this given Dataset classify into what type of ML problem it is and train an ML model (Scikit Learn) to solve the problem"
      ]
    },
    {
      "cell_type": "markdown",
      "metadata": {
        "id": "WX2E1OF29v6b",
        "colab_type": "text"
      },
      "source": [
        "# Downloading the dataset - Social Network Ads"
      ]
    },
    {
      "cell_type": "code",
      "metadata": {
        "id": "w_aTPMwl3sWI",
        "colab_type": "code",
        "outputId": "5c116cbf-df0e-4bfe-e9b9-7e387f22e4ed",
        "colab": {
          "base_uri": "https://localhost:8080/",
          "height": 202
        }
      },
      "source": [
        "!wget http://iali.in/datasets/Social_Network_Ads.csv"
      ],
      "execution_count": 0,
      "outputs": [
        {
          "output_type": "stream",
          "text": [
            "--2020-06-02 09:49:17--  http://iali.in/datasets/Social_Network_Ads.csv\n",
            "Resolving iali.in (iali.in)... 156.67.222.125\n",
            "Connecting to iali.in (iali.in)|156.67.222.125|:80... connected.\n",
            "HTTP request sent, awaiting response... 200 OK\n",
            "Length: 10926 (11K) [text/plain]\n",
            "Saving to: ‘Social_Network_Ads.csv.7’\n",
            "\n",
            "\rSocial_Network_Ads.   0%[                    ]       0  --.-KB/s               \rSocial_Network_Ads. 100%[===================>]  10.67K  --.-KB/s    in 0s      \n",
            "\n",
            "2020-06-02 09:49:17 (186 MB/s) - ‘Social_Network_Ads.csv.7’ saved [10926/10926]\n",
            "\n"
          ],
          "name": "stdout"
        }
      ]
    },
    {
      "cell_type": "markdown",
      "metadata": {
        "id": "BoHcaZ5296BM",
        "colab_type": "text"
      },
      "source": [
        "# Imports"
      ]
    },
    {
      "cell_type": "code",
      "metadata": {
        "id": "K1irl93A4kXN",
        "colab_type": "code",
        "colab": {}
      },
      "source": [
        "import numpy as np \n",
        "import matplotlib.pyplot as plt\n",
        "from matplotlib.axes._axes import _log as matplotlib_axes_logger\n",
        "matplotlib_axes_logger.setLevel('ERROR') # Warinings will be ignored and won't be displayed\n",
        "import pandas as pd"
      ],
      "execution_count": 0,
      "outputs": []
    },
    {
      "cell_type": "markdown",
      "metadata": {
        "id": "RKTpT6XU99JP",
        "colab_type": "text"
      },
      "source": [
        "# Exploring the data"
      ]
    },
    {
      "cell_type": "code",
      "metadata": {
        "id": "eN5qCAr942QZ",
        "colab_type": "code",
        "outputId": "e5f9fbeb-d824-45ca-dad7-6e890a3ab594",
        "colab": {
          "base_uri": "https://localhost:8080/",
          "height": 195
        }
      },
      "source": [
        "dataset = pd.read_csv('Social_Network_Ads.csv')\n",
        "dataset.head()"
      ],
      "execution_count": 0,
      "outputs": [
        {
          "output_type": "execute_result",
          "data": {
            "text/html": [
              "<div>\n",
              "<style scoped>\n",
              "    .dataframe tbody tr th:only-of-type {\n",
              "        vertical-align: middle;\n",
              "    }\n",
              "\n",
              "    .dataframe tbody tr th {\n",
              "        vertical-align: top;\n",
              "    }\n",
              "\n",
              "    .dataframe thead th {\n",
              "        text-align: right;\n",
              "    }\n",
              "</style>\n",
              "<table border=\"1\" class=\"dataframe\">\n",
              "  <thead>\n",
              "    <tr style=\"text-align: right;\">\n",
              "      <th></th>\n",
              "      <th>User ID</th>\n",
              "      <th>Gender</th>\n",
              "      <th>Age</th>\n",
              "      <th>EstimatedSalary</th>\n",
              "      <th>Purchased</th>\n",
              "    </tr>\n",
              "  </thead>\n",
              "  <tbody>\n",
              "    <tr>\n",
              "      <th>0</th>\n",
              "      <td>15624510</td>\n",
              "      <td>Male</td>\n",
              "      <td>19</td>\n",
              "      <td>19000</td>\n",
              "      <td>0</td>\n",
              "    </tr>\n",
              "    <tr>\n",
              "      <th>1</th>\n",
              "      <td>15810944</td>\n",
              "      <td>Male</td>\n",
              "      <td>35</td>\n",
              "      <td>20000</td>\n",
              "      <td>0</td>\n",
              "    </tr>\n",
              "    <tr>\n",
              "      <th>2</th>\n",
              "      <td>15668575</td>\n",
              "      <td>Female</td>\n",
              "      <td>26</td>\n",
              "      <td>43000</td>\n",
              "      <td>0</td>\n",
              "    </tr>\n",
              "    <tr>\n",
              "      <th>3</th>\n",
              "      <td>15603246</td>\n",
              "      <td>Female</td>\n",
              "      <td>27</td>\n",
              "      <td>57000</td>\n",
              "      <td>0</td>\n",
              "    </tr>\n",
              "    <tr>\n",
              "      <th>4</th>\n",
              "      <td>15804002</td>\n",
              "      <td>Male</td>\n",
              "      <td>19</td>\n",
              "      <td>76000</td>\n",
              "      <td>0</td>\n",
              "    </tr>\n",
              "  </tbody>\n",
              "</table>\n",
              "</div>"
            ],
            "text/plain": [
              "    User ID  Gender  Age  EstimatedSalary  Purchased\n",
              "0  15624510    Male   19            19000          0\n",
              "1  15810944    Male   35            20000          0\n",
              "2  15668575  Female   26            43000          0\n",
              "3  15603246  Female   27            57000          0\n",
              "4  15804002    Male   19            76000          0"
            ]
          },
          "metadata": {
            "tags": []
          },
          "execution_count": 3
        }
      ]
    },
    {
      "cell_type": "markdown",
      "metadata": {
        "id": "B5506U13DZK1",
        "colab_type": "text"
      },
      "source": [
        "# The given problem is **Classification Problem**"
      ]
    },
    {
      "cell_type": "markdown",
      "metadata": {
        "id": "ZUkQr5Hy-z1T",
        "colab_type": "text"
      },
      "source": [
        "# Dimentionality Reduction\n",
        "We observe that Gender Age EstimatedSalary -> Purchased which is harder to visualize , so we ignore Gender\n",
        "\n",
        "Age EstimatedSalary -> Purchased\n",
        "\n",
        "* We will consider only Age and Estimatedsallary as independent variables.\n",
        "* Purchased (1/0) is the dependent variable.\n",
        "\n",
        "We will extract the relevant vectors from our dataset: the independent variables (X) and the dependent variable (y). "
      ]
    },
    {
      "cell_type": "code",
      "metadata": {
        "id": "COldq2Qg-TwK",
        "colab_type": "code",
        "outputId": "74abd77a-2742-4635-a05b-ca5c69a08aa2",
        "colab": {
          "base_uri": "https://localhost:8080/",
          "height": 118
        }
      },
      "source": [
        "X = dataset.iloc[:, [2, 3]].values\n",
        "y = dataset.iloc[:, 4].values\n",
        "\n",
        "# For visualization\n",
        "print(\"X\",X[:5, :])\n",
        "print(\"y\",y[:5])"
      ],
      "execution_count": 0,
      "outputs": [
        {
          "output_type": "stream",
          "text": [
            "X [[   19 19000]\n",
            " [   35 20000]\n",
            " [   26 43000]\n",
            " [   27 57000]\n",
            " [   19 76000]]\n",
            "y [0 0 0 0 0]\n"
          ],
          "name": "stdout"
        }
      ]
    },
    {
      "cell_type": "markdown",
      "metadata": {
        "id": "ou1iImREAuQ1",
        "colab_type": "text"
      },
      "source": [
        "# Splitting the dataset into the Training set and Test set\n",
        "\n",
        "75% training , 25% Test "
      ]
    },
    {
      "cell_type": "code",
      "metadata": {
        "id": "bc-U7gBYAwTu",
        "colab_type": "code",
        "colab": {}
      },
      "source": [
        "from sklearn.model_selection import train_test_split\n",
        "X_train, X_test, y_train, y_test = train_test_split(X, y, test_size = 0.25, random_state = 0)\n",
        "X_test_orig = X_test # Copy for later predictions"
      ],
      "execution_count": 0,
      "outputs": []
    },
    {
      "cell_type": "markdown",
      "metadata": {
        "id": "q16C-YuWByyE",
        "colab_type": "text"
      },
      "source": [
        "# Normalizing Data / Feature scaling"
      ]
    },
    {
      "cell_type": "code",
      "metadata": {
        "id": "6snP7SK5B9LL",
        "colab_type": "code",
        "outputId": "09ee6ca0-96c5-441c-a526-51da39e9ad14",
        "colab": {
          "base_uri": "https://localhost:8080/",
          "height": 185
        }
      },
      "source": [
        "from sklearn.preprocessing import StandardScaler\n",
        "# Standard Scaler  z = (x - u) / s , data mean becomes 0 , 68% values [-1, 1]\n",
        "\n",
        "sc = StandardScaler() \n",
        "X_train = sc.fit_transform(X_train)\n",
        "X_test = sc.transform(X_test)\n",
        "\n",
        "# For visualization\n",
        "print(\"X Train : \", X_train[:5])\n",
        "print(\"X Train : \", X_test[:5])"
      ],
      "execution_count": 0,
      "outputs": [
        {
          "output_type": "stream",
          "text": [
            "X Train :  [[ 0.58164944 -0.88670699]\n",
            " [-0.60673761  1.46173768]\n",
            " [-0.01254409 -0.5677824 ]\n",
            " [-0.60673761  1.89663484]\n",
            " [ 1.37390747 -1.40858358]]\n",
            "X Train :  [[-0.80480212  0.50496393]\n",
            " [-0.01254409 -0.5677824 ]\n",
            " [-0.30964085  0.1570462 ]\n",
            " [-0.80480212  0.27301877]\n",
            " [-0.30964085 -0.5677824 ]]\n"
          ],
          "name": "stdout"
        }
      ]
    },
    {
      "cell_type": "markdown",
      "metadata": {
        "id": "KR7mJj4CDnKB",
        "colab_type": "text"
      },
      "source": [
        "# Building a Model \n",
        "Testing and Training 3 models and selecting the best one for our dataset\n",
        "\n",
        "Chosing 3 classifiers: \n",
        "1. Logistic Regression \n",
        "2. K-Nearest Neighbors (KNN)\n",
        "3. Support Vector Machines (SVM)\n",
        "\n"
      ]
    },
    {
      "cell_type": "code",
      "metadata": {
        "id": "iGm8ubqUEXWW",
        "colab_type": "code",
        "outputId": "8b734647-9ea2-4142-e8db-09bccd1c048f",
        "colab": {
          "base_uri": "https://localhost:8080/",
          "height": 84
        }
      },
      "source": [
        "from sklearn.linear_model import LogisticRegression\n",
        "from sklearn.neighbors import KNeighborsClassifier\n",
        "from sklearn.svm import SVC\n",
        "\n",
        "classifier_lr = LogisticRegression(random_state = 0, solver='lbfgs')\n",
        "classifier_knn = KNeighborsClassifier(n_neighbors=5, metric='minkowski', p=2)\n",
        "classifier_svm = SVC(kernel='rbf',random_state=0)\n",
        "\n",
        "# Training Classifiers with Train data \n",
        "classifier_lr.fit(X_train, y_train)\n",
        "classifier_knn.fit(X_train, y_train)\n",
        "classifier_svm.fit(X_train, y_train)"
      ],
      "execution_count": 0,
      "outputs": [
        {
          "output_type": "execute_result",
          "data": {
            "text/plain": [
              "SVC(C=1.0, break_ties=False, cache_size=200, class_weight=None, coef0=0.0,\n",
              "    decision_function_shape='ovr', degree=3, gamma='scale', kernel='rbf',\n",
              "    max_iter=-1, probability=False, random_state=0, shrinking=True, tol=0.001,\n",
              "    verbose=False)"
            ]
          },
          "metadata": {
            "tags": []
          },
          "execution_count": 7
        }
      ]
    },
    {
      "cell_type": "markdown",
      "metadata": {
        "id": "fqz2GH3OYTm3",
        "colab_type": "text"
      },
      "source": [
        "Predicting results of the classifier"
      ]
    },
    {
      "cell_type": "code",
      "metadata": {
        "id": "o-ItvYyvFvI7",
        "colab_type": "code",
        "colab": {}
      },
      "source": [
        "y_pred_lr = classifier_lr.predict(X_test)\n",
        "y_pred_knn = classifier_knn.predict(X_test)\n",
        "y_pred_svm = classifier_svm.predict(X_test)"
      ],
      "execution_count": 0,
      "outputs": []
    },
    {
      "cell_type": "code",
      "metadata": {
        "id": "k-jbNFnxFJ5W",
        "colab_type": "code",
        "outputId": "d26a21e1-9318-4c8d-dcdb-dba20c7e79ad",
        "colab": {
          "base_uri": "https://localhost:8080/",
          "height": 34
        }
      },
      "source": [
        "from sklearn.metrics import confusion_matrix\n",
        "\n",
        "# returns score based on confusion matrix \n",
        "def score(matrix):\n",
        "  return matrix[0][0]+ matrix[1][1]\n",
        "\n",
        "cm_lr = confusion_matrix(y_test, y_pred_lr)\n",
        "cm_knn = confusion_matrix(y_test, y_pred_knn)\n",
        "cm_svm = confusion_matrix(y_test, y_pred_svm)\n",
        "\n",
        "print(\"Score on test set - LR :\", score(cm_lr), \"% KNN :\", score(cm_knn), \"% SVM :\", score(cm_svm),\"%\")"
      ],
      "execution_count": 0,
      "outputs": [
        {
          "output_type": "stream",
          "text": [
            "Score on test set - LR : 89 % KNN : 93 % SVM : 93 %\n"
          ],
          "name": "stdout"
        }
      ]
    },
    {
      "cell_type": "markdown",
      "metadata": {
        "id": "aIzLuRoBNCxp",
        "colab_type": "text"
      },
      "source": [
        "As we see from the results KNN and SVM give better results as compared to LR"
      ]
    },
    {
      "cell_type": "markdown",
      "metadata": {
        "id": "GUS5kmXjI-Qu",
        "colab_type": "text"
      },
      "source": [
        "# Visualizing Results **Train Set** "
      ]
    },
    {
      "cell_type": "code",
      "metadata": {
        "id": "sPC7GtEnJB2P",
        "colab_type": "code",
        "colab": {}
      },
      "source": [
        "from matplotlib.colors import ListedColormap\n",
        "\n",
        "def visualize_train(name):\n",
        "  if name == 'lr':\n",
        "    classifier = classifier_lr\n",
        "  elif name == 'knn':\n",
        "    classifier = classifier_knn\n",
        "  elif name == 'svm':\n",
        "    classifier = classifier_svm\n",
        "  else: print(\"Invalid input\")\n",
        "\n",
        "  X_set, y_set = X_train, y_train\n",
        "  X1, X2 = np.meshgrid(np.arange(start = X_set[:, 0].min() - 1, stop = X_set[:, 0].max() + 1, step = 0.01),\n",
        "                      np.arange(start = X_set[:, 1].min() - 1, stop = X_set[:, 1].max() + 1, step = 0.01))\n",
        "  plt.contourf(X1, X2, classifier.predict(np.array([X1.ravel(), X2.ravel()]).T).reshape(X1.shape),\n",
        "              alpha = 0.75, cmap = ListedColormap(('red', 'green')))\n",
        "  plt.xlim(X1.min(), X1.max())\n",
        "  plt.ylim(X2.min(), X2.max())\n",
        "  for i, j in enumerate(np.unique(y_set)):\n",
        "      plt.scatter(X_set[y_set == j, 0], X_set[y_set == j, 1],\n",
        "                  c = ListedColormap(('red', 'green'))(i), label = j)\n",
        "  plt.title(name+' (Training set)')\n",
        "  plt.xlabel('Age')\n",
        "  plt.ylabel('Estimated Salary')\n",
        "  plt.legend()\n",
        "  plt.show()"
      ],
      "execution_count": 0,
      "outputs": []
    },
    {
      "cell_type": "code",
      "metadata": {
        "id": "gYekE82PJSdJ",
        "colab_type": "code",
        "outputId": "59789c29-1921-4abd-cdcf-7ac58fa4ba6c",
        "colab": {
          "base_uri": "https://localhost:8080/",
          "height": 851
        }
      },
      "source": [
        "visualize_train('lr')\n",
        "visualize_train('knn')\n",
        "visualize_train('svm')"
      ],
      "execution_count": 0,
      "outputs": [
        {
          "output_type": "display_data",
          "data": {
            "image/png": "[encoded data removed]",
            "text/plain": [
              "<Figure size 432x288 with 1 Axes>"
            ]
          },
          "metadata": {
            "tags": [],
            "needs_background": "light"
          }
        },
        {
          "output_type": "display_data",
          "data": {
            "image/png": "[encoded data removed]",
            "text/plain": [
              "<Figure size 432x288 with 1 Axes>"
            ]
          },
          "metadata": {
            "tags": [],
            "needs_background": "light"
          }
        },
        {
          "output_type": "display_data",
          "data": {
            "image/png": "[encoded data removed]",
            "text/plain": [
              "<Figure size 432x288 with 1 Axes>"
            ]
          },
          "metadata": {
            "tags": [],
            "needs_background": "light"
          }
        }
      ]
    },
    {
      "cell_type": "markdown",
      "metadata": {
        "id": "HtzF-No4Le4Y",
        "colab_type": "text"
      },
      "source": [
        "# Visualizing Results **Test Set** "
      ]
    },
    {
      "cell_type": "code",
      "metadata": {
        "id": "cJN3eTCaLjSo",
        "colab_type": "code",
        "colab": {}
      },
      "source": [
        "def visualize_test(name):\n",
        "  if name == 'lr':\n",
        "    classifier = classifier_lr\n",
        "  elif name == 'knn':\n",
        "    classifier = classifier_knn\n",
        "  elif name == 'svm':\n",
        "    classifier = classifier_svm\n",
        "  else: print(\"Invalid input\")\n",
        "  X_set, y_set = X_test, y_test\n",
        "  X1, X2 = np.meshgrid(np.arange(start = X_set[:, 0].min() - 1, stop = X_set[:, 0].max() + 1, step = 0.01),\n",
        "                      np.arange(start = X_set[:, 1].min() - 1, stop = X_set[:, 1].max() + 1, step = 0.01))\n",
        "  plt.contourf(X1, X2, classifier.predict(np.array([X1.ravel(), X2.ravel()]).T).reshape(X1.shape),\n",
        "              alpha = 0.75, cmap = ListedColormap(('red', 'green')))\n",
        "  plt.xlim(X1.min(), X1.max())\n",
        "  plt.ylim(X2.min(), X2.max())\n",
        "  for i, j in enumerate(np.unique(y_set)):\n",
        "      plt.scatter(X_set[y_set == j, 0], X_set[y_set == j, 1],\n",
        "                  c = ListedColormap(('red', 'green'))(i), label = j)\n",
        "  plt.title(name+' (Test set)')\n",
        "  plt.xlabel('Age')\n",
        "  plt.ylabel('Estimated Salary')\n",
        "  plt.legend()\n",
        "  plt.show()"
      ],
      "execution_count": 0,
      "outputs": []
    },
    {
      "cell_type": "code",
      "metadata": {
        "id": "Z-mO4EYDMSkY",
        "colab_type": "code",
        "outputId": "16838141-cee1-4231-8aed-d1f5660346d5",
        "colab": {
          "base_uri": "https://localhost:8080/",
          "height": 851
        }
      },
      "source": [
        "visualize_test('lr')\n",
        "visualize_test('knn')\n",
        "visualize_test('svm')"
      ],
      "execution_count": 0,
      "outputs": [
        {
          "output_type": "display_data",
          "data": {
            "image/png": "[encoded data removed]",
            "text/plain": [
              "<Figure size 432x288 with 1 Axes>"
            ]
          },
          "metadata": {
            "tags": [],
            "needs_background": "light"
          }
        },
        {
          "output_type": "display_data",
          "data": {
            "image/png": "[encoded data removed]",
            "text/plain": [
              "<Figure size 432x288 with 1 Axes>"
            ]
          },
          "metadata": {
            "tags": [],
            "needs_background": "light"
          }
        },
        {
          "output_type": "display_data",
          "data": {
            "image/png": "[encoded data removed]",
            "text/plain": [
              "<Figure size 432x288 with 1 Axes>"
            ]
          },
          "metadata": {
            "tags": [],
            "needs_background": "light"
          }
        }
      ]
    },
    {
      "cell_type": "markdown",
      "metadata": {
        "id": "1fHr-u9sf3DM",
        "colab_type": "text"
      },
      "source": [
        "Incorrect predictions using Logistic Regression - 11\n",
        "\n",
        "Incorrect predictions using K-NN model - 7 \n",
        "\n",
        "Incorrect predictions using SVM - 7 \n",
        "\n",
        "## We can observe from the results that **SVM is the best fit** for this data set due to much **more smoother** curve than K-NN."
      ]
    },
    {
      "cell_type": "markdown",
      "metadata": {
        "id": "EvS9fa24Ug9n",
        "colab_type": "text"
      },
      "source": [
        "# Prediction\n",
        " \n",
        "Function to predict if user will purchase or not , based on age and estimated sallary"
      ]
    },
    {
      "cell_type": "code",
      "metadata": {
        "id": "vv2OCZXAOGou",
        "colab_type": "code",
        "colab": {}
      },
      "source": [
        "def predict(name):\n",
        "  if name == 'lr':\n",
        "    classifier = classifier_lr\n",
        "  elif name == 'knn':\n",
        "    classifier = classifier_knn\n",
        "  elif name == 'svm':\n",
        "    classifier = classifier_svm\n",
        "  else: print(\"Invalid input\")\n",
        " \n",
        "  a = int(input(\"Age : \"))\n",
        "  b = int(input(\"Sallary : \"))\n",
        "  X_input = np.array([[a,b]])\n",
        "  X_input = np.vstack( (X_test_orig , X_input))\n",
        "  X_input = sc.fit_transform(X_input)\n",
        "  y_output = classifier.predict(X_input)\n",
        "  if y_output[-1:] == 0 :\n",
        "    print(\"Prediction : User won't purchase \\u274c\")\n",
        "  else :  print(\"Prediction : User will purchase \\u2714\")"
      ],
      "execution_count": 0,
      "outputs": []
    },
    {
      "cell_type": "code",
      "metadata": {
        "id": "nhrpitFfO7l3",
        "colab_type": "code",
        "outputId": "512aeb37-1502-48de-b72d-4caae409378a",
        "colab": {
          "base_uri": "https://localhost:8080/",
          "height": 67
        }
      },
      "source": [
        "# lr , knn , svm classifiers \n",
        "predict(\"lr\")"
      ],
      "execution_count": 0,
      "outputs": [
        {
          "output_type": "stream",
          "text": [
            "Age : 45\n",
            "Sallary : 500000\n",
            "Prediction : User will purchase ✔\n"
          ],
          "name": "stdout"
        }
      ]
    },
    {
      "cell_type": "code",
      "metadata": {
        "id": "lUj1JAz9XkK1",
        "colab_type": "code",
        "outputId": "7ea696c3-9841-4144-feb1-992986321cd6",
        "colab": {
          "base_uri": "https://localhost:8080/",
          "height": 67
        }
      },
      "source": [
        "# Note entering low sallary (0) and high age (50) will give output as \"User will purchase ✔\" \n",
        "# this is because the dataset dosn't have all cases , not a problem with training models\n",
        "predict(\"svm\")"
      ],
      "execution_count": 0,
      "outputs": [
        {
          "output_type": "stream",
          "text": [
            "Age : 25\n",
            "Sallary : 100\n",
            "Prediction : User won't purchase ❌\n"
          ],
          "name": "stdout"
        }
      ]
    },
    {
      "cell_type": "markdown",
      "metadata": {
        "id": "DYOKueTceX40",
        "colab_type": "text"
      },
      "source": [
        "Created on Tue Jun 02 13:03:59 2020\n",
        "\n",
        "@author: Nishidh Shekhawat\n"
      ]
    }
  ]
}