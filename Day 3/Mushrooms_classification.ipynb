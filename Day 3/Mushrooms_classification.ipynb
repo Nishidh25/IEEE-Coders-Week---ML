{
  "nbformat": 4,
  "nbformat_minor": 0,
  "metadata": {
    "colab": {
      "name": "Mushrooms classification.ipynb",
      "provenance": [],
      "collapsed_sections": [
        "HZJn6LN6zd9s"
      ],
      "toc_visible": true,
      "authorship_tag": "ABX9TyN6Oppp67EMaqa0MZvQyul6",
      "include_colab_link": true
    },
    "kernelspec": {
      "name": "python3",
      "display_name": "Python 3"
    }
  },
  "cells": [
    {
      "cell_type": "markdown",
      "metadata": {
        "id": "view-in-github",
        "colab_type": "text"
      },
      "source": [
        "<a href=\"https://colab.research.google.com/github/Nishidh25/IEEE-Coders-Week---ML/blob/master/Day%203/Mushrooms_classification.ipynb\" target=\"_parent\"><img src=\"https://colab.research.google.com/assets/colab-badge.svg\" alt=\"Open In Colab\"/></a>"
      ]
    },
    {
      "cell_type": "markdown",
      "metadata": {
        "id": "8_BTLBS_1_rb",
        "colab_type": "text"
      },
      "source": [
        "Created on Wed Jun 03 15:30:04 2020\n",
        "\n",
        "@author: Nishidh Shekhawat"
      ]
    },
    {
      "cell_type": "markdown",
      "metadata": {
        "id": "oZRfpY8Utk3n",
        "colab_type": "text"
      },
      "source": [
        "Downloading the dataset - Mushroom Classification"
      ]
    },
    {
      "cell_type": "code",
      "metadata": {
        "id": "-NN86H03hSfX",
        "colab_type": "code",
        "colab": {
          "base_uri": "https://localhost:8080/",
          "height": 202
        },
        "outputId": "16e87132-a461-4f92-e50c-21e4bcfb8564"
      },
      "source": [
        "!wget http://iali.in/datasets/mushrooms.csv"
      ],
      "execution_count": 1,
      "outputs": [
        {
          "output_type": "stream",
          "text": [
            "--2020-06-03 11:02:54--  http://iali.in/datasets/mushrooms.csv\n",
            "Resolving iali.in (iali.in)... 156.67.222.125\n",
            "Connecting to iali.in (iali.in)|156.67.222.125|:80... connected.\n",
            "HTTP request sent, awaiting response... 200 OK\n",
            "Length: 374003 (365K) [text/plain]\n",
            "Saving to: ‘mushrooms.csv.2’\n",
            "\n",
            "mushrooms.csv.2     100%[===================>] 365.24K   312KB/s    in 1.2s    \n",
            "\n",
            "2020-06-03 11:02:56 (312 KB/s) - ‘mushrooms.csv.2’ saved [374003/374003]\n",
            "\n"
          ],
          "name": "stdout"
        }
      ]
    },
    {
      "cell_type": "markdown",
      "metadata": {
        "id": "no5qVWgDtuMD",
        "colab_type": "text"
      },
      "source": [
        "# Imports"
      ]
    },
    {
      "cell_type": "code",
      "metadata": {
        "id": "Ybwu9aKciBs5",
        "colab_type": "code",
        "colab": {}
      },
      "source": [
        "import pandas as pd\n",
        "import numpy as np\n",
        "from sklearn.preprocessing import LabelEncoder, StandardScaler\n",
        "from sklearn.model_selection import train_test_split\n",
        "from sklearn.tree import DecisionTreeClassifier, export_graphviz\n",
        "import graphviz \n",
        "from sklearn.metrics import classification_report\n",
        "from sklearn import svm\n",
        "from sklearn.linear_model import LogisticRegression"
      ],
      "execution_count": 0,
      "outputs": []
    },
    {
      "cell_type": "markdown",
      "metadata": {
        "id": "SjJSqy2zt0g8",
        "colab_type": "text"
      },
      "source": [
        "# Loading dataset into a dataframe"
      ]
    },
    {
      "cell_type": "code",
      "metadata": {
        "id": "Q79z5CR3iJCK",
        "colab_type": "code",
        "colab": {}
      },
      "source": [
        "df = pd.read_csv('mushrooms.csv')"
      ],
      "execution_count": 0,
      "outputs": []
    },
    {
      "cell_type": "markdown",
      "metadata": {
        "id": "cvnZo2iT0Yz3",
        "colab_type": "text"
      },
      "source": [
        "# Understanding the data"
      ]
    },
    {
      "cell_type": "code",
      "metadata": {
        "id": "d86a0Ah-ikMO",
        "colab_type": "code",
        "colab": {
          "base_uri": "https://localhost:8080/",
          "height": 177
        },
        "outputId": "8a0c86f7-2c5e-4293-a395-fcd7bda30854"
      },
      "source": [
        "df.head(2)"
      ],
      "execution_count": 4,
      "outputs": [
        {
          "output_type": "execute_result",
          "data": {
            "text/html": [
              "<div>\n",
              "<style scoped>\n",
              "    .dataframe tbody tr th:only-of-type {\n",
              "        vertical-align: middle;\n",
              "    }\n",
              "\n",
              "    .dataframe tbody tr th {\n",
              "        vertical-align: top;\n",
              "    }\n",
              "\n",
              "    .dataframe thead th {\n",
              "        text-align: right;\n",
              "    }\n",
              "</style>\n",
              "<table border=\"1\" class=\"dataframe\">\n",
              "  <thead>\n",
              "    <tr style=\"text-align: right;\">\n",
              "      <th></th>\n",
              "      <th>class</th>\n",
              "      <th>cap-shape</th>\n",
              "      <th>cap-surface</th>\n",
              "      <th>cap-color</th>\n",
              "      <th>bruises</th>\n",
              "      <th>odor</th>\n",
              "      <th>gill-attachment</th>\n",
              "      <th>gill-spacing</th>\n",
              "      <th>gill-size</th>\n",
              "      <th>gill-color</th>\n",
              "      <th>stalk-shape</th>\n",
              "      <th>stalk-root</th>\n",
              "      <th>stalk-surface-above-ring</th>\n",
              "      <th>stalk-surface-below-ring</th>\n",
              "      <th>stalk-color-above-ring</th>\n",
              "      <th>stalk-color-below-ring</th>\n",
              "      <th>veil-type</th>\n",
              "      <th>veil-color</th>\n",
              "      <th>ring-number</th>\n",
              "      <th>ring-type</th>\n",
              "      <th>spore-print-color</th>\n",
              "      <th>population</th>\n",
              "      <th>habitat</th>\n",
              "    </tr>\n",
              "  </thead>\n",
              "  <tbody>\n",
              "    <tr>\n",
              "      <th>0</th>\n",
              "      <td>p</td>\n",
              "      <td>x</td>\n",
              "      <td>s</td>\n",
              "      <td>n</td>\n",
              "      <td>t</td>\n",
              "      <td>p</td>\n",
              "      <td>f</td>\n",
              "      <td>c</td>\n",
              "      <td>n</td>\n",
              "      <td>k</td>\n",
              "      <td>e</td>\n",
              "      <td>e</td>\n",
              "      <td>s</td>\n",
              "      <td>s</td>\n",
              "      <td>w</td>\n",
              "      <td>w</td>\n",
              "      <td>p</td>\n",
              "      <td>w</td>\n",
              "      <td>o</td>\n",
              "      <td>p</td>\n",
              "      <td>k</td>\n",
              "      <td>s</td>\n",
              "      <td>u</td>\n",
              "    </tr>\n",
              "    <tr>\n",
              "      <th>1</th>\n",
              "      <td>e</td>\n",
              "      <td>x</td>\n",
              "      <td>s</td>\n",
              "      <td>y</td>\n",
              "      <td>t</td>\n",
              "      <td>a</td>\n",
              "      <td>f</td>\n",
              "      <td>c</td>\n",
              "      <td>b</td>\n",
              "      <td>k</td>\n",
              "      <td>e</td>\n",
              "      <td>c</td>\n",
              "      <td>s</td>\n",
              "      <td>s</td>\n",
              "      <td>w</td>\n",
              "      <td>w</td>\n",
              "      <td>p</td>\n",
              "      <td>w</td>\n",
              "      <td>o</td>\n",
              "      <td>p</td>\n",
              "      <td>n</td>\n",
              "      <td>n</td>\n",
              "      <td>g</td>\n",
              "    </tr>\n",
              "  </tbody>\n",
              "</table>\n",
              "</div>"
            ],
            "text/plain": [
              "  class cap-shape cap-surface  ... spore-print-color population habitat\n",
              "0     p         x           s  ...                 k          s       u\n",
              "1     e         x           s  ...                 n          n       g\n",
              "\n",
              "[2 rows x 23 columns]"
            ]
          },
          "metadata": {
            "tags": []
          },
          "execution_count": 4
        }
      ]
    },
    {
      "cell_type": "code",
      "metadata": {
        "id": "Mrn02V62imql",
        "colab_type": "code",
        "colab": {
          "base_uri": "https://localhost:8080/",
          "height": 236
        },
        "outputId": "32a5236b-c316-4607-b0c3-c57b138ca7d0"
      },
      "source": [
        "df.describe()"
      ],
      "execution_count": 5,
      "outputs": [
        {
          "output_type": "execute_result",
          "data": {
            "text/html": [
              "<div>\n",
              "<style scoped>\n",
              "    .dataframe tbody tr th:only-of-type {\n",
              "        vertical-align: middle;\n",
              "    }\n",
              "\n",
              "    .dataframe tbody tr th {\n",
              "        vertical-align: top;\n",
              "    }\n",
              "\n",
              "    .dataframe thead th {\n",
              "        text-align: right;\n",
              "    }\n",
              "</style>\n",
              "<table border=\"1\" class=\"dataframe\">\n",
              "  <thead>\n",
              "    <tr style=\"text-align: right;\">\n",
              "      <th></th>\n",
              "      <th>class</th>\n",
              "      <th>cap-shape</th>\n",
              "      <th>cap-surface</th>\n",
              "      <th>cap-color</th>\n",
              "      <th>bruises</th>\n",
              "      <th>odor</th>\n",
              "      <th>gill-attachment</th>\n",
              "      <th>gill-spacing</th>\n",
              "      <th>gill-size</th>\n",
              "      <th>gill-color</th>\n",
              "      <th>stalk-shape</th>\n",
              "      <th>stalk-root</th>\n",
              "      <th>stalk-surface-above-ring</th>\n",
              "      <th>stalk-surface-below-ring</th>\n",
              "      <th>stalk-color-above-ring</th>\n",
              "      <th>stalk-color-below-ring</th>\n",
              "      <th>veil-type</th>\n",
              "      <th>veil-color</th>\n",
              "      <th>ring-number</th>\n",
              "      <th>ring-type</th>\n",
              "      <th>spore-print-color</th>\n",
              "      <th>population</th>\n",
              "      <th>habitat</th>\n",
              "    </tr>\n",
              "  </thead>\n",
              "  <tbody>\n",
              "    <tr>\n",
              "      <th>count</th>\n",
              "      <td>8124</td>\n",
              "      <td>8124</td>\n",
              "      <td>8124</td>\n",
              "      <td>8124</td>\n",
              "      <td>8124</td>\n",
              "      <td>8124</td>\n",
              "      <td>8124</td>\n",
              "      <td>8124</td>\n",
              "      <td>8124</td>\n",
              "      <td>8124</td>\n",
              "      <td>8124</td>\n",
              "      <td>8124</td>\n",
              "      <td>8124</td>\n",
              "      <td>8124</td>\n",
              "      <td>8124</td>\n",
              "      <td>8124</td>\n",
              "      <td>8124</td>\n",
              "      <td>8124</td>\n",
              "      <td>8124</td>\n",
              "      <td>8124</td>\n",
              "      <td>8124</td>\n",
              "      <td>8124</td>\n",
              "      <td>8124</td>\n",
              "    </tr>\n",
              "    <tr>\n",
              "      <th>unique</th>\n",
              "      <td>2</td>\n",
              "      <td>6</td>\n",
              "      <td>4</td>\n",
              "      <td>10</td>\n",
              "      <td>2</td>\n",
              "      <td>9</td>\n",
              "      <td>2</td>\n",
              "      <td>2</td>\n",
              "      <td>2</td>\n",
              "      <td>12</td>\n",
              "      <td>2</td>\n",
              "      <td>5</td>\n",
              "      <td>4</td>\n",
              "      <td>4</td>\n",
              "      <td>9</td>\n",
              "      <td>9</td>\n",
              "      <td>1</td>\n",
              "      <td>4</td>\n",
              "      <td>3</td>\n",
              "      <td>5</td>\n",
              "      <td>9</td>\n",
              "      <td>6</td>\n",
              "      <td>7</td>\n",
              "    </tr>\n",
              "    <tr>\n",
              "      <th>top</th>\n",
              "      <td>e</td>\n",
              "      <td>x</td>\n",
              "      <td>y</td>\n",
              "      <td>n</td>\n",
              "      <td>f</td>\n",
              "      <td>n</td>\n",
              "      <td>f</td>\n",
              "      <td>c</td>\n",
              "      <td>b</td>\n",
              "      <td>b</td>\n",
              "      <td>t</td>\n",
              "      <td>b</td>\n",
              "      <td>s</td>\n",
              "      <td>s</td>\n",
              "      <td>w</td>\n",
              "      <td>w</td>\n",
              "      <td>p</td>\n",
              "      <td>w</td>\n",
              "      <td>o</td>\n",
              "      <td>p</td>\n",
              "      <td>w</td>\n",
              "      <td>v</td>\n",
              "      <td>d</td>\n",
              "    </tr>\n",
              "    <tr>\n",
              "      <th>freq</th>\n",
              "      <td>4208</td>\n",
              "      <td>3656</td>\n",
              "      <td>3244</td>\n",
              "      <td>2284</td>\n",
              "      <td>4748</td>\n",
              "      <td>3528</td>\n",
              "      <td>7914</td>\n",
              "      <td>6812</td>\n",
              "      <td>5612</td>\n",
              "      <td>1728</td>\n",
              "      <td>4608</td>\n",
              "      <td>3776</td>\n",
              "      <td>5176</td>\n",
              "      <td>4936</td>\n",
              "      <td>4464</td>\n",
              "      <td>4384</td>\n",
              "      <td>8124</td>\n",
              "      <td>7924</td>\n",
              "      <td>7488</td>\n",
              "      <td>3968</td>\n",
              "      <td>2388</td>\n",
              "      <td>4040</td>\n",
              "      <td>3148</td>\n",
              "    </tr>\n",
              "  </tbody>\n",
              "</table>\n",
              "</div>"
            ],
            "text/plain": [
              "       class cap-shape cap-surface  ... spore-print-color population habitat\n",
              "count   8124      8124        8124  ...              8124       8124    8124\n",
              "unique     2         6           4  ...                 9          6       7\n",
              "top        e         x           y  ...                 w          v       d\n",
              "freq    4208      3656        3244  ...              2388       4040    3148\n",
              "\n",
              "[4 rows x 23 columns]"
            ]
          },
          "metadata": {
            "tags": []
          },
          "execution_count": 5
        }
      ]
    },
    {
      "cell_type": "markdown",
      "metadata": {
        "id": "rm3eQ9EDkExy",
        "colab_type": "text"
      },
      "source": [
        "# Label Enoding"
      ]
    },
    {
      "cell_type": "code",
      "metadata": {
        "id": "75p4-odxiq6A",
        "colab_type": "code",
        "colab": {}
      },
      "source": [
        "labelencoder = LabelEncoder()\n",
        "# Encoding every column \n",
        "for column in df.columns:\n",
        "  df[column] = labelencoder.fit_transform(df[column])"
      ],
      "execution_count": 0,
      "outputs": []
    },
    {
      "cell_type": "code",
      "metadata": {
        "id": "rTEwYF7vkipG",
        "colab_type": "code",
        "colab": {
          "base_uri": "https://localhost:8080/",
          "height": 177
        },
        "outputId": "ff44c0aa-9e79-42d0-be1c-6607879948c7"
      },
      "source": [
        "df.head(2)"
      ],
      "execution_count": 7,
      "outputs": [
        {
          "output_type": "execute_result",
          "data": {
            "text/html": [
              "<div>\n",
              "<style scoped>\n",
              "    .dataframe tbody tr th:only-of-type {\n",
              "        vertical-align: middle;\n",
              "    }\n",
              "\n",
              "    .dataframe tbody tr th {\n",
              "        vertical-align: top;\n",
              "    }\n",
              "\n",
              "    .dataframe thead th {\n",
              "        text-align: right;\n",
              "    }\n",
              "</style>\n",
              "<table border=\"1\" class=\"dataframe\">\n",
              "  <thead>\n",
              "    <tr style=\"text-align: right;\">\n",
              "      <th></th>\n",
              "      <th>class</th>\n",
              "      <th>cap-shape</th>\n",
              "      <th>cap-surface</th>\n",
              "      <th>cap-color</th>\n",
              "      <th>bruises</th>\n",
              "      <th>odor</th>\n",
              "      <th>gill-attachment</th>\n",
              "      <th>gill-spacing</th>\n",
              "      <th>gill-size</th>\n",
              "      <th>gill-color</th>\n",
              "      <th>stalk-shape</th>\n",
              "      <th>stalk-root</th>\n",
              "      <th>stalk-surface-above-ring</th>\n",
              "      <th>stalk-surface-below-ring</th>\n",
              "      <th>stalk-color-above-ring</th>\n",
              "      <th>stalk-color-below-ring</th>\n",
              "      <th>veil-type</th>\n",
              "      <th>veil-color</th>\n",
              "      <th>ring-number</th>\n",
              "      <th>ring-type</th>\n",
              "      <th>spore-print-color</th>\n",
              "      <th>population</th>\n",
              "      <th>habitat</th>\n",
              "    </tr>\n",
              "  </thead>\n",
              "  <tbody>\n",
              "    <tr>\n",
              "      <th>0</th>\n",
              "      <td>1</td>\n",
              "      <td>5</td>\n",
              "      <td>2</td>\n",
              "      <td>4</td>\n",
              "      <td>1</td>\n",
              "      <td>6</td>\n",
              "      <td>1</td>\n",
              "      <td>0</td>\n",
              "      <td>1</td>\n",
              "      <td>4</td>\n",
              "      <td>0</td>\n",
              "      <td>3</td>\n",
              "      <td>2</td>\n",
              "      <td>2</td>\n",
              "      <td>7</td>\n",
              "      <td>7</td>\n",
              "      <td>0</td>\n",
              "      <td>2</td>\n",
              "      <td>1</td>\n",
              "      <td>4</td>\n",
              "      <td>2</td>\n",
              "      <td>3</td>\n",
              "      <td>5</td>\n",
              "    </tr>\n",
              "    <tr>\n",
              "      <th>1</th>\n",
              "      <td>0</td>\n",
              "      <td>5</td>\n",
              "      <td>2</td>\n",
              "      <td>9</td>\n",
              "      <td>1</td>\n",
              "      <td>0</td>\n",
              "      <td>1</td>\n",
              "      <td>0</td>\n",
              "      <td>0</td>\n",
              "      <td>4</td>\n",
              "      <td>0</td>\n",
              "      <td>2</td>\n",
              "      <td>2</td>\n",
              "      <td>2</td>\n",
              "      <td>7</td>\n",
              "      <td>7</td>\n",
              "      <td>0</td>\n",
              "      <td>2</td>\n",
              "      <td>1</td>\n",
              "      <td>4</td>\n",
              "      <td>3</td>\n",
              "      <td>2</td>\n",
              "      <td>1</td>\n",
              "    </tr>\n",
              "  </tbody>\n",
              "</table>\n",
              "</div>"
            ],
            "text/plain": [
              "   class  cap-shape  cap-surface  ...  spore-print-color  population  habitat\n",
              "0      1          5            2  ...                  2           3        5\n",
              "1      0          5            2  ...                  3           2        1\n",
              "\n",
              "[2 rows x 23 columns]"
            ]
          },
          "metadata": {
            "tags": []
          },
          "execution_count": 7
        }
      ]
    },
    {
      "cell_type": "code",
      "metadata": {
        "id": "KtSxZcUKklWm",
        "colab_type": "code",
        "colab": {
          "base_uri": "https://localhost:8080/",
          "height": 338
        },
        "outputId": "e401be80-4b16-4966-b902-13213ce14484"
      },
      "source": [
        "df.describe()"
      ],
      "execution_count": 8,
      "outputs": [
        {
          "output_type": "execute_result",
          "data": {
            "text/html": [
              "<div>\n",
              "<style scoped>\n",
              "    .dataframe tbody tr th:only-of-type {\n",
              "        vertical-align: middle;\n",
              "    }\n",
              "\n",
              "    .dataframe tbody tr th {\n",
              "        vertical-align: top;\n",
              "    }\n",
              "\n",
              "    .dataframe thead th {\n",
              "        text-align: right;\n",
              "    }\n",
              "</style>\n",
              "<table border=\"1\" class=\"dataframe\">\n",
              "  <thead>\n",
              "    <tr style=\"text-align: right;\">\n",
              "      <th></th>\n",
              "      <th>class</th>\n",
              "      <th>cap-shape</th>\n",
              "      <th>cap-surface</th>\n",
              "      <th>cap-color</th>\n",
              "      <th>bruises</th>\n",
              "      <th>odor</th>\n",
              "      <th>gill-attachment</th>\n",
              "      <th>gill-spacing</th>\n",
              "      <th>gill-size</th>\n",
              "      <th>gill-color</th>\n",
              "      <th>stalk-shape</th>\n",
              "      <th>stalk-root</th>\n",
              "      <th>stalk-surface-above-ring</th>\n",
              "      <th>stalk-surface-below-ring</th>\n",
              "      <th>stalk-color-above-ring</th>\n",
              "      <th>stalk-color-below-ring</th>\n",
              "      <th>veil-type</th>\n",
              "      <th>veil-color</th>\n",
              "      <th>ring-number</th>\n",
              "      <th>ring-type</th>\n",
              "      <th>spore-print-color</th>\n",
              "      <th>population</th>\n",
              "      <th>habitat</th>\n",
              "    </tr>\n",
              "  </thead>\n",
              "  <tbody>\n",
              "    <tr>\n",
              "      <th>count</th>\n",
              "      <td>8124.000000</td>\n",
              "      <td>8124.000000</td>\n",
              "      <td>8124.000000</td>\n",
              "      <td>8124.000000</td>\n",
              "      <td>8124.000000</td>\n",
              "      <td>8124.000000</td>\n",
              "      <td>8124.000000</td>\n",
              "      <td>8124.000000</td>\n",
              "      <td>8124.000000</td>\n",
              "      <td>8124.000000</td>\n",
              "      <td>8124.000000</td>\n",
              "      <td>8124.000000</td>\n",
              "      <td>8124.000000</td>\n",
              "      <td>8124.000000</td>\n",
              "      <td>8124.000000</td>\n",
              "      <td>8124.000000</td>\n",
              "      <td>8124.0</td>\n",
              "      <td>8124.000000</td>\n",
              "      <td>8124.000000</td>\n",
              "      <td>8124.000000</td>\n",
              "      <td>8124.000000</td>\n",
              "      <td>8124.000000</td>\n",
              "      <td>8124.000000</td>\n",
              "    </tr>\n",
              "    <tr>\n",
              "      <th>mean</th>\n",
              "      <td>0.482029</td>\n",
              "      <td>3.348104</td>\n",
              "      <td>1.827671</td>\n",
              "      <td>4.504677</td>\n",
              "      <td>0.415559</td>\n",
              "      <td>4.144756</td>\n",
              "      <td>0.974151</td>\n",
              "      <td>0.161497</td>\n",
              "      <td>0.309207</td>\n",
              "      <td>4.810684</td>\n",
              "      <td>0.567208</td>\n",
              "      <td>1.109798</td>\n",
              "      <td>1.575086</td>\n",
              "      <td>1.603644</td>\n",
              "      <td>5.816347</td>\n",
              "      <td>5.794682</td>\n",
              "      <td>0.0</td>\n",
              "      <td>1.965534</td>\n",
              "      <td>1.069424</td>\n",
              "      <td>2.291974</td>\n",
              "      <td>3.596750</td>\n",
              "      <td>3.644018</td>\n",
              "      <td>1.508616</td>\n",
              "    </tr>\n",
              "    <tr>\n",
              "      <th>std</th>\n",
              "      <td>0.499708</td>\n",
              "      <td>1.604329</td>\n",
              "      <td>1.229873</td>\n",
              "      <td>2.545821</td>\n",
              "      <td>0.492848</td>\n",
              "      <td>2.103729</td>\n",
              "      <td>0.158695</td>\n",
              "      <td>0.368011</td>\n",
              "      <td>0.462195</td>\n",
              "      <td>3.540359</td>\n",
              "      <td>0.495493</td>\n",
              "      <td>1.061106</td>\n",
              "      <td>0.621459</td>\n",
              "      <td>0.675974</td>\n",
              "      <td>1.901747</td>\n",
              "      <td>1.907291</td>\n",
              "      <td>0.0</td>\n",
              "      <td>0.242669</td>\n",
              "      <td>0.271064</td>\n",
              "      <td>1.801672</td>\n",
              "      <td>2.382663</td>\n",
              "      <td>1.252082</td>\n",
              "      <td>1.719975</td>\n",
              "    </tr>\n",
              "    <tr>\n",
              "      <th>min</th>\n",
              "      <td>0.000000</td>\n",
              "      <td>0.000000</td>\n",
              "      <td>0.000000</td>\n",
              "      <td>0.000000</td>\n",
              "      <td>0.000000</td>\n",
              "      <td>0.000000</td>\n",
              "      <td>0.000000</td>\n",
              "      <td>0.000000</td>\n",
              "      <td>0.000000</td>\n",
              "      <td>0.000000</td>\n",
              "      <td>0.000000</td>\n",
              "      <td>0.000000</td>\n",
              "      <td>0.000000</td>\n",
              "      <td>0.000000</td>\n",
              "      <td>0.000000</td>\n",
              "      <td>0.000000</td>\n",
              "      <td>0.0</td>\n",
              "      <td>0.000000</td>\n",
              "      <td>0.000000</td>\n",
              "      <td>0.000000</td>\n",
              "      <td>0.000000</td>\n",
              "      <td>0.000000</td>\n",
              "      <td>0.000000</td>\n",
              "    </tr>\n",
              "    <tr>\n",
              "      <th>25%</th>\n",
              "      <td>0.000000</td>\n",
              "      <td>2.000000</td>\n",
              "      <td>0.000000</td>\n",
              "      <td>3.000000</td>\n",
              "      <td>0.000000</td>\n",
              "      <td>2.000000</td>\n",
              "      <td>1.000000</td>\n",
              "      <td>0.000000</td>\n",
              "      <td>0.000000</td>\n",
              "      <td>2.000000</td>\n",
              "      <td>0.000000</td>\n",
              "      <td>0.000000</td>\n",
              "      <td>1.000000</td>\n",
              "      <td>1.000000</td>\n",
              "      <td>6.000000</td>\n",
              "      <td>6.000000</td>\n",
              "      <td>0.0</td>\n",
              "      <td>2.000000</td>\n",
              "      <td>1.000000</td>\n",
              "      <td>0.000000</td>\n",
              "      <td>2.000000</td>\n",
              "      <td>3.000000</td>\n",
              "      <td>0.000000</td>\n",
              "    </tr>\n",
              "    <tr>\n",
              "      <th>50%</th>\n",
              "      <td>0.000000</td>\n",
              "      <td>3.000000</td>\n",
              "      <td>2.000000</td>\n",
              "      <td>4.000000</td>\n",
              "      <td>0.000000</td>\n",
              "      <td>5.000000</td>\n",
              "      <td>1.000000</td>\n",
              "      <td>0.000000</td>\n",
              "      <td>0.000000</td>\n",
              "      <td>5.000000</td>\n",
              "      <td>1.000000</td>\n",
              "      <td>1.000000</td>\n",
              "      <td>2.000000</td>\n",
              "      <td>2.000000</td>\n",
              "      <td>7.000000</td>\n",
              "      <td>7.000000</td>\n",
              "      <td>0.0</td>\n",
              "      <td>2.000000</td>\n",
              "      <td>1.000000</td>\n",
              "      <td>2.000000</td>\n",
              "      <td>3.000000</td>\n",
              "      <td>4.000000</td>\n",
              "      <td>1.000000</td>\n",
              "    </tr>\n",
              "    <tr>\n",
              "      <th>75%</th>\n",
              "      <td>1.000000</td>\n",
              "      <td>5.000000</td>\n",
              "      <td>3.000000</td>\n",
              "      <td>8.000000</td>\n",
              "      <td>1.000000</td>\n",
              "      <td>5.000000</td>\n",
              "      <td>1.000000</td>\n",
              "      <td>0.000000</td>\n",
              "      <td>1.000000</td>\n",
              "      <td>7.000000</td>\n",
              "      <td>1.000000</td>\n",
              "      <td>1.000000</td>\n",
              "      <td>2.000000</td>\n",
              "      <td>2.000000</td>\n",
              "      <td>7.000000</td>\n",
              "      <td>7.000000</td>\n",
              "      <td>0.0</td>\n",
              "      <td>2.000000</td>\n",
              "      <td>1.000000</td>\n",
              "      <td>4.000000</td>\n",
              "      <td>7.000000</td>\n",
              "      <td>4.000000</td>\n",
              "      <td>2.000000</td>\n",
              "    </tr>\n",
              "    <tr>\n",
              "      <th>max</th>\n",
              "      <td>1.000000</td>\n",
              "      <td>5.000000</td>\n",
              "      <td>3.000000</td>\n",
              "      <td>9.000000</td>\n",
              "      <td>1.000000</td>\n",
              "      <td>8.000000</td>\n",
              "      <td>1.000000</td>\n",
              "      <td>1.000000</td>\n",
              "      <td>1.000000</td>\n",
              "      <td>11.000000</td>\n",
              "      <td>1.000000</td>\n",
              "      <td>4.000000</td>\n",
              "      <td>3.000000</td>\n",
              "      <td>3.000000</td>\n",
              "      <td>8.000000</td>\n",
              "      <td>8.000000</td>\n",
              "      <td>0.0</td>\n",
              "      <td>3.000000</td>\n",
              "      <td>2.000000</td>\n",
              "      <td>4.000000</td>\n",
              "      <td>8.000000</td>\n",
              "      <td>5.000000</td>\n",
              "      <td>6.000000</td>\n",
              "    </tr>\n",
              "  </tbody>\n",
              "</table>\n",
              "</div>"
            ],
            "text/plain": [
              "             class    cap-shape  ...   population      habitat\n",
              "count  8124.000000  8124.000000  ...  8124.000000  8124.000000\n",
              "mean      0.482029     3.348104  ...     3.644018     1.508616\n",
              "std       0.499708     1.604329  ...     1.252082     1.719975\n",
              "min       0.000000     0.000000  ...     0.000000     0.000000\n",
              "25%       0.000000     2.000000  ...     3.000000     0.000000\n",
              "50%       0.000000     3.000000  ...     4.000000     1.000000\n",
              "75%       1.000000     5.000000  ...     4.000000     2.000000\n",
              "max       1.000000     5.000000  ...     5.000000     6.000000\n",
              "\n",
              "[8 rows x 23 columns]"
            ]
          },
          "metadata": {
            "tags": []
          },
          "execution_count": 8
        }
      ]
    },
    {
      "cell_type": "markdown",
      "metadata": {
        "id": "psbR6cSqk4yj",
        "colab_type": "text"
      },
      "source": [
        "Data in veil-type column is useless so dropping it"
      ]
    },
    {
      "cell_type": "code",
      "metadata": {
        "id": "KKDrtO8CktrX",
        "colab_type": "code",
        "colab": {}
      },
      "source": [
        "df = df.drop([\"veil-type\"],axis=1)"
      ],
      "execution_count": 0,
      "outputs": []
    },
    {
      "cell_type": "markdown",
      "metadata": {
        "id": "ryJZtrgQllf_",
        "colab_type": "text"
      },
      "source": [
        "# Splitting dataframe into Input data and labels"
      ]
    },
    {
      "cell_type": "code",
      "metadata": {
        "id": "KkXdR999li0N",
        "colab_type": "code",
        "colab": {}
      },
      "source": [
        "X = df.drop(['class'], axis=1) # Input Data\n",
        "Y = df['class'] # Labels"
      ],
      "execution_count": 0,
      "outputs": []
    },
    {
      "cell_type": "markdown",
      "metadata": {
        "id": "h_rpVahkmVD0",
        "colab_type": "text"
      },
      "source": [
        "# Splitting the dataset into the Training set and Test set\n",
        "75% training , 25% Test"
      ]
    },
    {
      "cell_type": "code",
      "metadata": {
        "id": "cV3_BjOFlWeZ",
        "colab_type": "code",
        "colab": {}
      },
      "source": [
        "X_train, X_test, Y_train, Y_test = train_test_split(X, Y, test_size = 0.25, random_state = 0)"
      ],
      "execution_count": 0,
      "outputs": []
    },
    {
      "cell_type": "markdown",
      "metadata": {
        "id": "wSRcNOgUnUEp",
        "colab_type": "text"
      },
      "source": [
        "# Standardize Data / Feature scaling"
      ]
    },
    {
      "cell_type": "code",
      "metadata": {
        "id": "OopwWWcOnazj",
        "colab_type": "code",
        "colab": {
          "base_uri": "https://localhost:8080/",
          "height": 151
        },
        "outputId": "f6e25a88-cffb-4343-cd07-41a7f9ba63d8"
      },
      "source": [
        "# Standard Scaler  z = (x - u) / s , data mean becomes 0 , 68% values [-1, 1]\n",
        "\n",
        "sc = StandardScaler() \n",
        "X_train = sc.fit_transform(X_train)\n",
        "X_test = sc.transform(X_test)\n",
        "\n",
        "# For visualization\n",
        "print(\"X Train : \", X_train[:1])\n",
        "print(\"X Train : \", X_test[:1])"
      ],
      "execution_count": 12,
      "outputs": [
        {
          "output_type": "stream",
          "text": [
            "X Train :  [[-0.84654963  0.9504593   1.79845965 -0.8420905  -1.0367657   0.15778108\n",
            "  -0.44045832 -0.67366879  0.61563494 -1.14825657 -0.10955511 -0.91793374\n",
            "  -0.89126531 -3.05061536 -0.94758559  0.13592587 -0.25771163 -0.15070459\n",
            "  -1.09502697  1.07975868 -0.29613015]]\n",
            "X Train :  [[ 1.03000635  0.9504593  -0.18431722  1.18752082  0.8771908   0.15778108\n",
            "  -0.44045832  1.48440898  0.61563494 -1.14825657  1.76286927  0.68326016\n",
            "   0.5864162   0.62112512  0.62919338  0.13592587 -0.25771163  0.95694689\n",
            "  -0.67527237 -0.50610841  2.02155899]]\n"
          ],
          "name": "stdout"
        }
      ]
    },
    {
      "cell_type": "markdown",
      "metadata": {
        "id": "WbVBCUWankUb",
        "colab_type": "text"
      },
      "source": [
        "# Building Models \n"
      ]
    },
    {
      "cell_type": "markdown",
      "metadata": {
        "id": "Ze2hkNXiwf6a",
        "colab_type": "text"
      },
      "source": [
        "# 1. Using Logistic Regression"
      ]
    },
    {
      "cell_type": "code",
      "metadata": {
        "id": "Vd5LluV-wuJH",
        "colab_type": "code",
        "colab": {
          "base_uri": "https://localhost:8080/",
          "height": 101
        },
        "outputId": "cd0f9d8b-e6ff-438d-8982-3842cb0c55ee"
      },
      "source": [
        "model_lr = LogisticRegression(random_state = 0, solver='lbfgs')\n",
        "model_lr.fit(X_train,Y_train)"
      ],
      "execution_count": 13,
      "outputs": [
        {
          "output_type": "execute_result",
          "data": {
            "text/plain": [
              "LogisticRegression(C=1.0, class_weight=None, dual=False, fit_intercept=True,\n",
              "                   intercept_scaling=1, l1_ratio=None, max_iter=100,\n",
              "                   multi_class='auto', n_jobs=None, penalty='l2',\n",
              "                   random_state=0, solver='lbfgs', tol=0.0001, verbose=0,\n",
              "                   warm_start=False)"
            ]
          },
          "metadata": {
            "tags": []
          },
          "execution_count": 13
        }
      ]
    },
    {
      "cell_type": "markdown",
      "metadata": {
        "id": "4LNPlXrRyPzW",
        "colab_type": "text"
      },
      "source": [
        "Metrics : Classification Accuracy"
      ]
    },
    {
      "cell_type": "code",
      "metadata": {
        "id": "jO9XHq8Kw2h1",
        "colab_type": "code",
        "colab": {
          "base_uri": "https://localhost:8080/",
          "height": 34
        },
        "outputId": "25c6e502-6567-4c6f-a900-f8463cb99417"
      },
      "source": [
        "acc_lr = model_lr.score(X_test,Y_test)\n",
        "print(\"Classification Accuracy : %.3f \" %  acc_lr)"
      ],
      "execution_count": 14,
      "outputs": [
        {
          "output_type": "stream",
          "text": [
            "Classification Accuracy : 0.951 \n"
          ],
          "name": "stdout"
        }
      ]
    },
    {
      "cell_type": "code",
      "metadata": {
        "id": "WkfwvAUtyxAc",
        "colab_type": "code",
        "colab": {
          "base_uri": "https://localhost:8080/",
          "height": 168
        },
        "outputId": "f2f765e6-efce-4fd0-a6e9-531910fcac74"
      },
      "source": [
        "predicted = model_lr.predict(X_test)\n",
        "report = classification_report(Y_test, predicted)\n",
        "print(report)"
      ],
      "execution_count": 15,
      "outputs": [
        {
          "output_type": "stream",
          "text": [
            "              precision    recall  f1-score   support\n",
            "\n",
            "           0       0.95      0.96      0.95      1061\n",
            "           1       0.96      0.94      0.95       970\n",
            "\n",
            "    accuracy                           0.95      2031\n",
            "   macro avg       0.95      0.95      0.95      2031\n",
            "weighted avg       0.95      0.95      0.95      2031\n",
            "\n"
          ],
          "name": "stdout"
        }
      ]
    },
    {
      "cell_type": "markdown",
      "metadata": {
        "id": "xNh3_O2kyHFN",
        "colab_type": "text"
      },
      "source": [
        "# 2. Using SVM Classifier"
      ]
    },
    {
      "cell_type": "code",
      "metadata": {
        "id": "varmwVV1yGq9",
        "colab_type": "code",
        "colab": {
          "base_uri": "https://localhost:8080/",
          "height": 84
        },
        "outputId": "37031541-4b58-4e3d-d7f3-3fdf95a4fa0e"
      },
      "source": [
        "model_svm = svm.SVC(kernel='rbf',gamma=0.3,C=1)\n",
        "model_svm.fit(X_train,Y_train)"
      ],
      "execution_count": 16,
      "outputs": [
        {
          "output_type": "execute_result",
          "data": {
            "text/plain": [
              "SVC(C=1, break_ties=False, cache_size=200, class_weight=None, coef0=0.0,\n",
              "    decision_function_shape='ovr', degree=3, gamma=0.3, kernel='rbf',\n",
              "    max_iter=-1, probability=False, random_state=None, shrinking=True,\n",
              "    tol=0.001, verbose=False)"
            ]
          },
          "metadata": {
            "tags": []
          },
          "execution_count": 16
        }
      ]
    },
    {
      "cell_type": "code",
      "metadata": {
        "id": "gYCZ9XBPybda",
        "colab_type": "code",
        "colab": {
          "base_uri": "https://localhost:8080/",
          "height": 34
        },
        "outputId": "34d91c3a-a040-40ab-e562-c74542bb4881"
      },
      "source": [
        "acc_svm = model_svm.score(X_test,Y_test)\n",
        "print(\"Classification Accuracy : %.3f \" %  acc_svm)"
      ],
      "execution_count": 17,
      "outputs": [
        {
          "output_type": "stream",
          "text": [
            "Classification Accuracy : 1.000 \n"
          ],
          "name": "stdout"
        }
      ]
    },
    {
      "cell_type": "markdown",
      "metadata": {
        "id": "Bi5F_za8zV22",
        "colab_type": "text"
      },
      "source": [
        "Classification Report "
      ]
    },
    {
      "cell_type": "code",
      "metadata": {
        "id": "COEGFHKAzG3O",
        "colab_type": "code",
        "colab": {
          "base_uri": "https://localhost:8080/",
          "height": 168
        },
        "outputId": "422c59c6-9da3-4fee-ad6d-ad7520bb5d22"
      },
      "source": [
        "predicted = model_svm.predict(X_test)\n",
        "report = classification_report(Y_test, predicted)\n",
        "print(report)"
      ],
      "execution_count": 18,
      "outputs": [
        {
          "output_type": "stream",
          "text": [
            "              precision    recall  f1-score   support\n",
            "\n",
            "           0       1.00      1.00      1.00      1061\n",
            "           1       1.00      1.00      1.00       970\n",
            "\n",
            "    accuracy                           1.00      2031\n",
            "   macro avg       1.00      1.00      1.00      2031\n",
            "weighted avg       1.00      1.00      1.00      2031\n",
            "\n"
          ],
          "name": "stdout"
        }
      ]
    },
    {
      "cell_type": "markdown",
      "metadata": {
        "id": "a-5vOSv2v9bC",
        "colab_type": "text"
      },
      "source": [
        "# 3. Using Decision Tree Classifier"
      ]
    },
    {
      "cell_type": "code",
      "metadata": {
        "id": "72fABzxrnjPA",
        "colab_type": "code",
        "colab": {}
      },
      "source": [
        "classifier = DecisionTreeClassifier()\n",
        "classifier = classifier.fit(X_train, Y_train)"
      ],
      "execution_count": 0,
      "outputs": []
    },
    {
      "cell_type": "markdown",
      "metadata": {
        "id": "FV6RBe76zO9t",
        "colab_type": "text"
      },
      "source": [
        "Classification Report"
      ]
    },
    {
      "cell_type": "code",
      "metadata": {
        "id": "ZL889G8moJSA",
        "colab_type": "code",
        "colab": {
          "base_uri": "https://localhost:8080/",
          "height": 168
        },
        "outputId": "839f7522-e3dc-4e00-ec95-352150f4390b"
      },
      "source": [
        "predicted = classifier.predict(X_test)\n",
        "report = classification_report(Y_test, predicted)\n",
        "print(report)"
      ],
      "execution_count": 20,
      "outputs": [
        {
          "output_type": "stream",
          "text": [
            "              precision    recall  f1-score   support\n",
            "\n",
            "           0       1.00      1.00      1.00      1061\n",
            "           1       1.00      1.00      1.00       970\n",
            "\n",
            "    accuracy                           1.00      2031\n",
            "   macro avg       1.00      1.00      1.00      2031\n",
            "weighted avg       1.00      1.00      1.00      2031\n",
            "\n"
          ],
          "name": "stdout"
        }
      ]
    },
    {
      "cell_type": "markdown",
      "metadata": {
        "id": "HZJn6LN6zd9s",
        "colab_type": "text"
      },
      "source": [
        "Visualise the decision tree"
      ]
    },
    {
      "cell_type": "code",
      "metadata": {
        "id": "IzOT9luSo-xQ",
        "colab_type": "code",
        "colab": {
          "base_uri": "https://localhost:8080/",
          "height": 1000
        },
        "outputId": "67dbe660-44e9-4006-ddc9-e1f9ab3d846f"
      },
      "source": [
        "data = export_graphviz(classifier, out_file=None, \n",
        "                         feature_names=X.columns,  \n",
        "                         filled=True, rounded=True,  \n",
        "                         special_characters=True)  \n",
        "graph = graphviz.Source(data)  \n",
        "graph "
      ],
      "execution_count": 21,
      "outputs": [
        {
          "output_type": "execute_result",
          "data": {
            "text/plain": [
              "<graphviz.files.Source at 0x7fc768e3b278>"
            ],
            "image/svg+xml": "<?xml version=\"1.0\" encoding=\"UTF-8\" standalone=\"no\"?>\n<!DOCTYPE svg PUBLIC \"-//W3C//DTD SVG 1.1//EN\"\n \"http://www.w3.org/Graphics/SVG/1.1/DTD/svg11.dtd\">\n<!-- Generated by graphviz version 2.40.1 (20161225.0304)\n -->\n<!-- Title: Tree Pages: 1 -->\n<svg width=\"1530pt\" height=\"789pt\"\n viewBox=\"0.00 0.00 1529.50 789.00\" xmlns=\"http://www.w3.org/2000/svg\" xmlns:xlink=\"http://www.w3.org/1999/xlink\">\n<g id=\"graph0\" class=\"graph\" transform=\"scale(1 1) rotate(0) translate(4 785)\">\n<title>Tree</title>\n<polygon fill=\"#ffffff\" stroke=\"transparent\" points=\"-4,4 -4,-785 1525.5,-785 1525.5,4 -4,4\"/>\n<!-- 0 -->\n<g id=\"node1\" class=\"node\">\n<title>0</title>\n<path fill=\"#fdf7f2\" stroke=\"#000000\" d=\"M661,-781C661,-781 536,-781 536,-781 530,-781 524,-775 524,-769 524,-769 524,-725 524,-725 524,-719 530,-713 536,-713 536,-713 661,-713 661,-713 667,-713 673,-719 673,-725 673,-725 673,-769 673,-769 673,-775 667,-781 661,-781\"/>\n<text text-anchor=\"start\" x=\"543.5\" y=\"-765.8\" font-family=\"Helvetica,sans-Serif\" font-size=\"14.00\" fill=\"#000000\">gill&#45;color ≤ &#45;0.371</text>\n<text text-anchor=\"start\" x=\"560.5\" y=\"-750.8\" font-family=\"Helvetica,sans-Serif\" font-size=\"14.00\" fill=\"#000000\">gini = 0.499</text>\n<text text-anchor=\"start\" x=\"546.5\" y=\"-735.8\" font-family=\"Helvetica,sans-Serif\" font-size=\"14.00\" fill=\"#000000\">samples = 6093</text>\n<text text-anchor=\"start\" x=\"532\" y=\"-720.8\" font-family=\"Helvetica,sans-Serif\" font-size=\"14.00\" fill=\"#000000\">value = [3147, 2946]</text>\n</g>\n<!-- 1 -->\n<g id=\"node2\" class=\"node\">\n<title>1</title>\n<path fill=\"#60b0ea\" stroke=\"#000000\" d=\"M501.5,-677C501.5,-677 385.5,-677 385.5,-677 379.5,-677 373.5,-671 373.5,-665 373.5,-665 373.5,-621 373.5,-621 373.5,-615 379.5,-609 385.5,-609 385.5,-609 501.5,-609 501.5,-609 507.5,-609 513.5,-615 513.5,-621 513.5,-621 513.5,-665 513.5,-665 513.5,-671 507.5,-677 501.5,-677\"/>\n<text text-anchor=\"start\" x=\"385.5\" y=\"-661.8\" font-family=\"Helvetica,sans-Serif\" font-size=\"14.00\" fill=\"#000000\">population ≤ &#45;0.11</text>\n<text text-anchor=\"start\" x=\"405.5\" y=\"-646.8\" font-family=\"Helvetica,sans-Serif\" font-size=\"14.00\" fill=\"#000000\">gini = 0.273</text>\n<text text-anchor=\"start\" x=\"391.5\" y=\"-631.8\" font-family=\"Helvetica,sans-Serif\" font-size=\"14.00\" fill=\"#000000\">samples = 2480</text>\n<text text-anchor=\"start\" x=\"381.5\" y=\"-616.8\" font-family=\"Helvetica,sans-Serif\" font-size=\"14.00\" fill=\"#000000\">value = [404, 2076]</text>\n</g>\n<!-- 0&#45;&gt;1 -->\n<g id=\"edge1\" class=\"edge\">\n<title>0&#45;&gt;1</title>\n<path fill=\"none\" stroke=\"#000000\" d=\"M547.7472,-712.9465C533.429,-703.3395 517.7225,-692.8009 502.9437,-682.8848\"/>\n<polygon fill=\"#000000\" stroke=\"#000000\" points=\"504.6209,-679.7953 494.3668,-677.13 500.7207,-685.6081 504.6209,-679.7953\"/>\n<text text-anchor=\"middle\" x=\"499.1969\" y=\"-697.959\" font-family=\"Helvetica,sans-Serif\" font-size=\"14.00\" fill=\"#000000\">True</text>\n</g>\n<!-- 14 -->\n<g id=\"node15\" class=\"node\">\n<title>14</title>\n<path fill=\"#eda978\" stroke=\"#000000\" d=\"M829.5,-677C829.5,-677 675.5,-677 675.5,-677 669.5,-677 663.5,-671 663.5,-665 663.5,-665 663.5,-621 663.5,-621 663.5,-615 669.5,-609 675.5,-609 675.5,-609 829.5,-609 829.5,-609 835.5,-609 841.5,-615 841.5,-621 841.5,-621 841.5,-665 841.5,-665 841.5,-671 835.5,-677 829.5,-677\"/>\n<text text-anchor=\"start\" x=\"671.5\" y=\"-661.8\" font-family=\"Helvetica,sans-Serif\" font-size=\"14.00\" fill=\"#000000\">spore&#45;print&#45;color ≤ &#45;0.885</text>\n<text text-anchor=\"start\" x=\"714.5\" y=\"-646.8\" font-family=\"Helvetica,sans-Serif\" font-size=\"14.00\" fill=\"#000000\">gini = 0.366</text>\n<text text-anchor=\"start\" x=\"700.5\" y=\"-631.8\" font-family=\"Helvetica,sans-Serif\" font-size=\"14.00\" fill=\"#000000\">samples = 3613</text>\n<text text-anchor=\"start\" x=\"690.5\" y=\"-616.8\" font-family=\"Helvetica,sans-Serif\" font-size=\"14.00\" fill=\"#000000\">value = [2743, 870]</text>\n</g>\n<!-- 0&#45;&gt;14 -->\n<g id=\"edge14\" class=\"edge\">\n<title>0&#45;&gt;14</title>\n<path fill=\"none\" stroke=\"#000000\" d=\"M648.9254,-712.9465C663.1512,-703.3395 678.7563,-692.8009 693.4398,-682.8848\"/>\n<polygon fill=\"#000000\" stroke=\"#000000\" points=\"695.6329,-685.6272 701.9614,-677.13 691.7153,-679.8261 695.6329,-685.6272\"/>\n<text text-anchor=\"middle\" x=\"697.2049\" y=\"-697.9733\" font-family=\"Helvetica,sans-Serif\" font-size=\"14.00\" fill=\"#000000\">False</text>\n</g>\n<!-- 2 -->\n<g id=\"node3\" class=\"node\">\n<title>2</title>\n<path fill=\"#e99355\" stroke=\"#000000\" d=\"M264.5,-573C264.5,-573 110.5,-573 110.5,-573 104.5,-573 98.5,-567 98.5,-561 98.5,-561 98.5,-517 98.5,-517 98.5,-511 104.5,-505 110.5,-505 110.5,-505 264.5,-505 264.5,-505 270.5,-505 276.5,-511 276.5,-517 276.5,-517 276.5,-561 276.5,-561 276.5,-567 270.5,-573 264.5,-573\"/>\n<text text-anchor=\"start\" x=\"106.5\" y=\"-557.8\" font-family=\"Helvetica,sans-Serif\" font-size=\"14.00\" fill=\"#000000\">spore&#45;print&#45;color ≤ &#45;0.885</text>\n<text text-anchor=\"start\" x=\"149.5\" y=\"-542.8\" font-family=\"Helvetica,sans-Serif\" font-size=\"14.00\" fill=\"#000000\">gini = 0.215</text>\n<text text-anchor=\"start\" x=\"139.5\" y=\"-527.8\" font-family=\"Helvetica,sans-Serif\" font-size=\"14.00\" fill=\"#000000\">samples = 432</text>\n<text text-anchor=\"start\" x=\"133.5\" y=\"-512.8\" font-family=\"Helvetica,sans-Serif\" font-size=\"14.00\" fill=\"#000000\">value = [379, 53]</text>\n</g>\n<!-- 1&#45;&gt;2 -->\n<g id=\"edge2\" class=\"edge\">\n<title>1&#45;&gt;2</title>\n<path fill=\"none\" stroke=\"#000000\" d=\"M373.2083,-614.444C344.6358,-602.8364 311.2113,-589.2577 280.6546,-576.844\"/>\n<polygon fill=\"#000000\" stroke=\"#000000\" points=\"281.8541,-573.5536 271.2721,-573.0324 279.2194,-580.0389 281.8541,-573.5536\"/>\n</g>\n<!-- 7 -->\n<g id=\"node8\" class=\"node\">\n<title>7</title>\n<path fill=\"#3b9ee5\" stroke=\"#000000\" d=\"M497.5,-573C497.5,-573 389.5,-573 389.5,-573 383.5,-573 377.5,-567 377.5,-561 377.5,-561 377.5,-517 377.5,-517 377.5,-511 383.5,-505 389.5,-505 389.5,-505 497.5,-505 497.5,-505 503.5,-505 509.5,-511 509.5,-517 509.5,-517 509.5,-561 509.5,-561 509.5,-567 503.5,-573 497.5,-573\"/>\n<text text-anchor=\"start\" x=\"387.5\" y=\"-557.8\" font-family=\"Helvetica,sans-Serif\" font-size=\"14.00\" fill=\"#000000\">stalk&#45;root ≤ 0.827</text>\n<text text-anchor=\"start\" x=\"405.5\" y=\"-542.8\" font-family=\"Helvetica,sans-Serif\" font-size=\"14.00\" fill=\"#000000\">gini = 0.024</text>\n<text text-anchor=\"start\" x=\"391.5\" y=\"-527.8\" font-family=\"Helvetica,sans-Serif\" font-size=\"14.00\" fill=\"#000000\">samples = 2048</text>\n<text text-anchor=\"start\" x=\"385.5\" y=\"-512.8\" font-family=\"Helvetica,sans-Serif\" font-size=\"14.00\" fill=\"#000000\">value = [25, 2023]</text>\n</g>\n<!-- 1&#45;&gt;7 -->\n<g id=\"edge7\" class=\"edge\">\n<title>1&#45;&gt;7</title>\n<path fill=\"none\" stroke=\"#000000\" d=\"M443.5,-608.9465C443.5,-600.776 443.5,-591.9318 443.5,-583.3697\"/>\n<polygon fill=\"#000000\" stroke=\"#000000\" points=\"447.0001,-583.13 443.5,-573.13 440.0001,-583.13 447.0001,-583.13\"/>\n</g>\n<!-- 3 -->\n<g id=\"node4\" class=\"node\">\n<title>3</title>\n<path fill=\"#399de5\" stroke=\"#000000\" d=\"M95,-461.5C95,-461.5 12,-461.5 12,-461.5 6,-461.5 0,-455.5 0,-449.5 0,-449.5 0,-420.5 0,-420.5 0,-414.5 6,-408.5 12,-408.5 12,-408.5 95,-408.5 95,-408.5 101,-408.5 107,-414.5 107,-420.5 107,-420.5 107,-449.5 107,-449.5 107,-455.5 101,-461.5 95,-461.5\"/>\n<text text-anchor=\"start\" x=\"24\" y=\"-446.3\" font-family=\"Helvetica,sans-Serif\" font-size=\"14.00\" fill=\"#000000\">gini = 0.0</text>\n<text text-anchor=\"start\" x=\"9.5\" y=\"-431.3\" font-family=\"Helvetica,sans-Serif\" font-size=\"14.00\" fill=\"#000000\">samples = 37</text>\n<text text-anchor=\"start\" x=\"8\" y=\"-416.3\" font-family=\"Helvetica,sans-Serif\" font-size=\"14.00\" fill=\"#000000\">value = [0, 37]</text>\n</g>\n<!-- 2&#45;&gt;3 -->\n<g id=\"edge3\" class=\"edge\">\n<title>2&#45;&gt;3</title>\n<path fill=\"none\" stroke=\"#000000\" d=\"M143.6234,-504.9465C128.2957,-493.0504 111.1277,-479.726 95.9209,-467.9237\"/>\n<polygon fill=\"#000000\" stroke=\"#000000\" points=\"97.7444,-464.9085 87.6986,-461.5422 93.4525,-470.4384 97.7444,-464.9085\"/>\n</g>\n<!-- 4 -->\n<g id=\"node5\" class=\"node\">\n<title>4</title>\n<path fill=\"#e68641\" stroke=\"#000000\" d=\"M237.5,-469C237.5,-469 137.5,-469 137.5,-469 131.5,-469 125.5,-463 125.5,-457 125.5,-457 125.5,-413 125.5,-413 125.5,-407 131.5,-401 137.5,-401 137.5,-401 237.5,-401 237.5,-401 243.5,-401 249.5,-407 249.5,-413 249.5,-413 249.5,-457 249.5,-457 249.5,-463 243.5,-469 237.5,-469\"/>\n<text text-anchor=\"start\" x=\"137.5\" y=\"-453.8\" font-family=\"Helvetica,sans-Serif\" font-size=\"14.00\" fill=\"#000000\">habitat ≤ &#45;0.586</text>\n<text text-anchor=\"start\" x=\"149.5\" y=\"-438.8\" font-family=\"Helvetica,sans-Serif\" font-size=\"14.00\" fill=\"#000000\">gini = 0.078</text>\n<text text-anchor=\"start\" x=\"139.5\" y=\"-423.8\" font-family=\"Helvetica,sans-Serif\" font-size=\"14.00\" fill=\"#000000\">samples = 395</text>\n<text text-anchor=\"start\" x=\"133.5\" y=\"-408.8\" font-family=\"Helvetica,sans-Serif\" font-size=\"14.00\" fill=\"#000000\">value = [379, 16]</text>\n</g>\n<!-- 2&#45;&gt;4 -->\n<g id=\"edge4\" class=\"edge\">\n<title>2&#45;&gt;4</title>\n<path fill=\"none\" stroke=\"#000000\" d=\"M187.5,-504.9465C187.5,-496.776 187.5,-487.9318 187.5,-479.3697\"/>\n<polygon fill=\"#000000\" stroke=\"#000000\" points=\"191.0001,-479.13 187.5,-469.13 184.0001,-479.13 191.0001,-479.13\"/>\n</g>\n<!-- 5 -->\n<g id=\"node6\" class=\"node\">\n<title>5</title>\n<path fill=\"#399de5\" stroke=\"#000000\" d=\"M109,-357.5C109,-357.5 26,-357.5 26,-357.5 20,-357.5 14,-351.5 14,-345.5 14,-345.5 14,-316.5 14,-316.5 14,-310.5 20,-304.5 26,-304.5 26,-304.5 109,-304.5 109,-304.5 115,-304.5 121,-310.5 121,-316.5 121,-316.5 121,-345.5 121,-345.5 121,-351.5 115,-357.5 109,-357.5\"/>\n<text text-anchor=\"start\" x=\"38\" y=\"-342.3\" font-family=\"Helvetica,sans-Serif\" font-size=\"14.00\" fill=\"#000000\">gini = 0.0</text>\n<text text-anchor=\"start\" x=\"23.5\" y=\"-327.3\" font-family=\"Helvetica,sans-Serif\" font-size=\"14.00\" fill=\"#000000\">samples = 16</text>\n<text text-anchor=\"start\" x=\"22\" y=\"-312.3\" font-family=\"Helvetica,sans-Serif\" font-size=\"14.00\" fill=\"#000000\">value = [0, 16]</text>\n</g>\n<!-- 4&#45;&gt;5 -->\n<g id=\"edge5\" class=\"edge\">\n<title>4&#45;&gt;5</title>\n<path fill=\"none\" stroke=\"#000000\" d=\"M148.2075,-400.9465C134.6083,-389.1606 119.3915,-375.9726 105.8676,-364.2519\"/>\n<polygon fill=\"#000000\" stroke=\"#000000\" points=\"107.9748,-361.4466 98.1256,-357.5422 103.3902,-366.7364 107.9748,-361.4466\"/>\n</g>\n<!-- 6 -->\n<g id=\"node7\" class=\"node\">\n<title>6</title>\n<path fill=\"#e58139\" stroke=\"#000000\" d=\"M243.5,-357.5C243.5,-357.5 151.5,-357.5 151.5,-357.5 145.5,-357.5 139.5,-351.5 139.5,-345.5 139.5,-345.5 139.5,-316.5 139.5,-316.5 139.5,-310.5 145.5,-304.5 151.5,-304.5 151.5,-304.5 243.5,-304.5 243.5,-304.5 249.5,-304.5 255.5,-310.5 255.5,-316.5 255.5,-316.5 255.5,-345.5 255.5,-345.5 255.5,-351.5 249.5,-357.5 243.5,-357.5\"/>\n<text text-anchor=\"start\" x=\"168\" y=\"-342.3\" font-family=\"Helvetica,sans-Serif\" font-size=\"14.00\" fill=\"#000000\">gini = 0.0</text>\n<text text-anchor=\"start\" x=\"149.5\" y=\"-327.3\" font-family=\"Helvetica,sans-Serif\" font-size=\"14.00\" fill=\"#000000\">samples = 379</text>\n<text text-anchor=\"start\" x=\"147.5\" y=\"-312.3\" font-family=\"Helvetica,sans-Serif\" font-size=\"14.00\" fill=\"#000000\">value = [379, 0]</text>\n</g>\n<!-- 4&#45;&gt;6 -->\n<g id=\"edge6\" class=\"edge\">\n<title>4&#45;&gt;6</title>\n<path fill=\"none\" stroke=\"#000000\" d=\"M190.7744,-400.9465C191.8017,-390.2621 192.9399,-378.4254 193.9832,-367.5742\"/>\n<polygon fill=\"#000000\" stroke=\"#000000\" points=\"197.4746,-367.8313 194.9479,-357.5422 190.5067,-367.1612 197.4746,-367.8313\"/>\n</g>\n<!-- 8 -->\n<g id=\"node9\" class=\"node\">\n<title>8</title>\n<path fill=\"#3a9de5\" stroke=\"#000000\" d=\"M473.5,-469C473.5,-469 279.5,-469 279.5,-469 273.5,-469 267.5,-463 267.5,-457 267.5,-457 267.5,-413 267.5,-413 267.5,-407 273.5,-401 279.5,-401 279.5,-401 473.5,-401 473.5,-401 479.5,-401 485.5,-407 485.5,-413 485.5,-413 485.5,-457 485.5,-457 485.5,-463 479.5,-469 473.5,-469\"/>\n<text text-anchor=\"start\" x=\"275.5\" y=\"-453.8\" font-family=\"Helvetica,sans-Serif\" font-size=\"14.00\" fill=\"#000000\">stalk&#45;surface&#45;below&#45;ring ≤ &#45;1.63</text>\n<text text-anchor=\"start\" x=\"338.5\" y=\"-438.8\" font-family=\"Helvetica,sans-Serif\" font-size=\"14.00\" fill=\"#000000\">gini = 0.009</text>\n<text text-anchor=\"start\" x=\"324.5\" y=\"-423.8\" font-family=\"Helvetica,sans-Serif\" font-size=\"14.00\" fill=\"#000000\">samples = 2032</text>\n<text text-anchor=\"start\" x=\"322.5\" y=\"-408.8\" font-family=\"Helvetica,sans-Serif\" font-size=\"14.00\" fill=\"#000000\">value = [9, 2023]</text>\n</g>\n<!-- 7&#45;&gt;8 -->\n<g id=\"edge8\" class=\"edge\">\n<title>7&#45;&gt;8</title>\n<path fill=\"none\" stroke=\"#000000\" d=\"M421.5617,-504.9465C415.951,-496.2373 409.8471,-486.7626 403.9958,-477.6801\"/>\n<polygon fill=\"#000000\" stroke=\"#000000\" points=\"406.8457,-475.641 398.4876,-469.13 400.9611,-479.4321 406.8457,-475.641\"/>\n</g>\n<!-- 13 -->\n<g id=\"node14\" class=\"node\">\n<title>13</title>\n<path fill=\"#e58139\" stroke=\"#000000\" d=\"M599,-461.5C599,-461.5 516,-461.5 516,-461.5 510,-461.5 504,-455.5 504,-449.5 504,-449.5 504,-420.5 504,-420.5 504,-414.5 510,-408.5 516,-408.5 516,-408.5 599,-408.5 599,-408.5 605,-408.5 611,-414.5 611,-420.5 611,-420.5 611,-449.5 611,-449.5 611,-455.5 605,-461.5 599,-461.5\"/>\n<text text-anchor=\"start\" x=\"528\" y=\"-446.3\" font-family=\"Helvetica,sans-Serif\" font-size=\"14.00\" fill=\"#000000\">gini = 0.0</text>\n<text text-anchor=\"start\" x=\"513.5\" y=\"-431.3\" font-family=\"Helvetica,sans-Serif\" font-size=\"14.00\" fill=\"#000000\">samples = 16</text>\n<text text-anchor=\"start\" x=\"512\" y=\"-416.3\" font-family=\"Helvetica,sans-Serif\" font-size=\"14.00\" fill=\"#000000\">value = [16, 0]</text>\n</g>\n<!-- 7&#45;&gt;13 -->\n<g id=\"edge13\" class=\"edge\">\n<title>7&#45;&gt;13</title>\n<path fill=\"none\" stroke=\"#000000\" d=\"M480.8279,-504.9465C493.6263,-493.2707 507.933,-480.219 520.6901,-468.5809\"/>\n<polygon fill=\"#000000\" stroke=\"#000000\" points=\"523.3769,-470.8675 528.4057,-461.5422 518.6591,-465.6961 523.3769,-470.8675\"/>\n</g>\n<!-- 9 -->\n<g id=\"node10\" class=\"node\">\n<title>9</title>\n<path fill=\"#9ccef2\" stroke=\"#000000\" d=\"M427,-365C427,-365 306,-365 306,-365 300,-365 294,-359 294,-353 294,-353 294,-309 294,-309 294,-303 300,-297 306,-297 306,-297 427,-297 427,-297 433,-297 439,-303 439,-309 439,-309 439,-353 439,-353 439,-359 433,-365 427,-365\"/>\n<text text-anchor=\"start\" x=\"302\" y=\"-349.8\" font-family=\"Helvetica,sans-Serif\" font-size=\"14.00\" fill=\"#000000\">cap&#45;surface ≤ 0.544</text>\n<text text-anchor=\"start\" x=\"328.5\" y=\"-334.8\" font-family=\"Helvetica,sans-Serif\" font-size=\"14.00\" fill=\"#000000\">gini = 0.444</text>\n<text text-anchor=\"start\" x=\"322.5\" y=\"-319.8\" font-family=\"Helvetica,sans-Serif\" font-size=\"14.00\" fill=\"#000000\">samples = 27</text>\n<text text-anchor=\"start\" x=\"321\" y=\"-304.8\" font-family=\"Helvetica,sans-Serif\" font-size=\"14.00\" fill=\"#000000\">value = [9, 18]</text>\n</g>\n<!-- 8&#45;&gt;9 -->\n<g id=\"edge9\" class=\"edge\">\n<title>8&#45;&gt;9</title>\n<path fill=\"none\" stroke=\"#000000\" d=\"M373.2256,-400.9465C372.4314,-392.6863 371.5709,-383.7374 370.7392,-375.0875\"/>\n<polygon fill=\"#000000\" stroke=\"#000000\" points=\"374.2229,-374.7491 369.7817,-365.13 367.255,-375.4191 374.2229,-374.7491\"/>\n</g>\n<!-- 12 -->\n<g id=\"node13\" class=\"node\">\n<title>12</title>\n<path fill=\"#399de5\" stroke=\"#000000\" d=\"M569.5,-357.5C569.5,-357.5 469.5,-357.5 469.5,-357.5 463.5,-357.5 457.5,-351.5 457.5,-345.5 457.5,-345.5 457.5,-316.5 457.5,-316.5 457.5,-310.5 463.5,-304.5 469.5,-304.5 469.5,-304.5 569.5,-304.5 569.5,-304.5 575.5,-304.5 581.5,-310.5 581.5,-316.5 581.5,-316.5 581.5,-345.5 581.5,-345.5 581.5,-351.5 575.5,-357.5 569.5,-357.5\"/>\n<text text-anchor=\"start\" x=\"490\" y=\"-342.3\" font-family=\"Helvetica,sans-Serif\" font-size=\"14.00\" fill=\"#000000\">gini = 0.0</text>\n<text text-anchor=\"start\" x=\"467.5\" y=\"-327.3\" font-family=\"Helvetica,sans-Serif\" font-size=\"14.00\" fill=\"#000000\">samples = 2005</text>\n<text text-anchor=\"start\" x=\"465.5\" y=\"-312.3\" font-family=\"Helvetica,sans-Serif\" font-size=\"14.00\" fill=\"#000000\">value = [0, 2005]</text>\n</g>\n<!-- 8&#45;&gt;12 -->\n<g id=\"edge12\" class=\"edge\">\n<title>8&#45;&gt;12</title>\n<path fill=\"none\" stroke=\"#000000\" d=\"M423.3235,-400.9465C439.8321,-388.9403 458.3412,-375.4791 474.6802,-363.5962\"/>\n<polygon fill=\"#000000\" stroke=\"#000000\" points=\"476.9758,-366.2545 483.0045,-357.5422 472.8585,-360.5933 476.9758,-366.2545\"/>\n</g>\n<!-- 10 -->\n<g id=\"node11\" class=\"node\">\n<title>10</title>\n<path fill=\"#399de5\" stroke=\"#000000\" d=\"M347,-253.5C347,-253.5 264,-253.5 264,-253.5 258,-253.5 252,-247.5 252,-241.5 252,-241.5 252,-212.5 252,-212.5 252,-206.5 258,-200.5 264,-200.5 264,-200.5 347,-200.5 347,-200.5 353,-200.5 359,-206.5 359,-212.5 359,-212.5 359,-241.5 359,-241.5 359,-247.5 353,-253.5 347,-253.5\"/>\n<text text-anchor=\"start\" x=\"276\" y=\"-238.3\" font-family=\"Helvetica,sans-Serif\" font-size=\"14.00\" fill=\"#000000\">gini = 0.0</text>\n<text text-anchor=\"start\" x=\"261.5\" y=\"-223.3\" font-family=\"Helvetica,sans-Serif\" font-size=\"14.00\" fill=\"#000000\">samples = 18</text>\n<text text-anchor=\"start\" x=\"260\" y=\"-208.3\" font-family=\"Helvetica,sans-Serif\" font-size=\"14.00\" fill=\"#000000\">value = [0, 18]</text>\n</g>\n<!-- 9&#45;&gt;10 -->\n<g id=\"edge10\" class=\"edge\">\n<title>9&#45;&gt;10</title>\n<path fill=\"none\" stroke=\"#000000\" d=\"M346.5263,-296.9465C340.001,-285.8215 332.7431,-273.4473 326.1678,-262.237\"/>\n<polygon fill=\"#000000\" stroke=\"#000000\" points=\"329.1464,-260.3971 321.068,-253.5422 323.1084,-263.9387 329.1464,-260.3971\"/>\n</g>\n<!-- 11 -->\n<g id=\"node12\" class=\"node\">\n<title>11</title>\n<path fill=\"#e58139\" stroke=\"#000000\" d=\"M464,-253.5C464,-253.5 389,-253.5 389,-253.5 383,-253.5 377,-247.5 377,-241.5 377,-241.5 377,-212.5 377,-212.5 377,-206.5 383,-200.5 389,-200.5 389,-200.5 464,-200.5 464,-200.5 470,-200.5 476,-206.5 476,-212.5 476,-212.5 476,-241.5 476,-241.5 476,-247.5 470,-253.5 464,-253.5\"/>\n<text text-anchor=\"start\" x=\"397\" y=\"-238.3\" font-family=\"Helvetica,sans-Serif\" font-size=\"14.00\" fill=\"#000000\">gini = 0.0</text>\n<text text-anchor=\"start\" x=\"387\" y=\"-223.3\" font-family=\"Helvetica,sans-Serif\" font-size=\"14.00\" fill=\"#000000\">samples = 9</text>\n<text text-anchor=\"start\" x=\"385\" y=\"-208.3\" font-family=\"Helvetica,sans-Serif\" font-size=\"14.00\" fill=\"#000000\">value = [9, 0]</text>\n</g>\n<!-- 9&#45;&gt;11 -->\n<g id=\"edge11\" class=\"edge\">\n<title>9&#45;&gt;11</title>\n<path fill=\"none\" stroke=\"#000000\" d=\"M386.1462,-296.9465C392.5645,-285.8215 399.7035,-273.4473 406.171,-262.237\"/>\n<polygon fill=\"#000000\" stroke=\"#000000\" points=\"409.2216,-263.9531 411.1872,-253.5422 403.1583,-260.455 409.2216,-263.9531\"/>\n</g>\n<!-- 15 -->\n<g id=\"node16\" class=\"node\">\n<title>15</title>\n<path fill=\"#55abe9\" stroke=\"#000000\" d=\"M802.5,-573C802.5,-573 702.5,-573 702.5,-573 696.5,-573 690.5,-567 690.5,-561 690.5,-561 690.5,-517 690.5,-517 690.5,-511 696.5,-505 702.5,-505 702.5,-505 802.5,-505 802.5,-505 808.5,-505 814.5,-511 814.5,-517 814.5,-517 814.5,-561 814.5,-561 814.5,-567 808.5,-573 802.5,-573\"/>\n<text text-anchor=\"start\" x=\"709.5\" y=\"-557.8\" font-family=\"Helvetica,sans-Serif\" font-size=\"14.00\" fill=\"#000000\">odor ≤ &#45;0.319</text>\n<text text-anchor=\"start\" x=\"714.5\" y=\"-542.8\" font-family=\"Helvetica,sans-Serif\" font-size=\"14.00\" fill=\"#000000\">gini = 0.217</text>\n<text text-anchor=\"start\" x=\"704.5\" y=\"-527.8\" font-family=\"Helvetica,sans-Serif\" font-size=\"14.00\" fill=\"#000000\">samples = 517</text>\n<text text-anchor=\"start\" x=\"698.5\" y=\"-512.8\" font-family=\"Helvetica,sans-Serif\" font-size=\"14.00\" fill=\"#000000\">value = [64, 453]</text>\n</g>\n<!-- 14&#45;&gt;15 -->\n<g id=\"edge15\" class=\"edge\">\n<title>14&#45;&gt;15</title>\n<path fill=\"none\" stroke=\"#000000\" d=\"M752.5,-608.9465C752.5,-600.776 752.5,-591.9318 752.5,-583.3697\"/>\n<polygon fill=\"#000000\" stroke=\"#000000\" points=\"756.0001,-583.13 752.5,-573.13 749.0001,-583.13 756.0001,-583.13\"/>\n</g>\n<!-- 18 -->\n<g id=\"node19\" class=\"node\">\n<title>18</title>\n<path fill=\"#e99558\" stroke=\"#000000\" d=\"M1052.5,-573C1052.5,-573 936.5,-573 936.5,-573 930.5,-573 924.5,-567 924.5,-561 924.5,-561 924.5,-517 924.5,-517 924.5,-511 930.5,-505 936.5,-505 936.5,-505 1052.5,-505 1052.5,-505 1058.5,-505 1064.5,-511 1064.5,-517 1064.5,-517 1064.5,-561 1064.5,-561 1064.5,-567 1058.5,-573 1052.5,-573\"/>\n<text text-anchor=\"start\" x=\"944.5\" y=\"-557.8\" font-family=\"Helvetica,sans-Serif\" font-size=\"14.00\" fill=\"#000000\">gill&#45;size ≤ 0.405</text>\n<text text-anchor=\"start\" x=\"956.5\" y=\"-542.8\" font-family=\"Helvetica,sans-Serif\" font-size=\"14.00\" fill=\"#000000\">gini = 0.233</text>\n<text text-anchor=\"start\" x=\"942.5\" y=\"-527.8\" font-family=\"Helvetica,sans-Serif\" font-size=\"14.00\" fill=\"#000000\">samples = 3096</text>\n<text text-anchor=\"start\" x=\"932.5\" y=\"-512.8\" font-family=\"Helvetica,sans-Serif\" font-size=\"14.00\" fill=\"#000000\">value = [2679, 417]</text>\n</g>\n<!-- 14&#45;&gt;18 -->\n<g id=\"edge18\" class=\"edge\">\n<title>14&#45;&gt;18</title>\n<path fill=\"none\" stroke=\"#000000\" d=\"M831.7399,-608.9465C858.4977,-597.4473 888.361,-584.6134 915.129,-573.1099\"/>\n<polygon fill=\"#000000\" stroke=\"#000000\" points=\"916.6523,-576.2648 924.4579,-569.1007 913.8884,-569.8335 916.6523,-576.2648\"/>\n</g>\n<!-- 16 -->\n<g id=\"node17\" class=\"node\">\n<title>16</title>\n<path fill=\"#399de5\" stroke=\"#000000\" d=\"M733.5,-461.5C733.5,-461.5 641.5,-461.5 641.5,-461.5 635.5,-461.5 629.5,-455.5 629.5,-449.5 629.5,-449.5 629.5,-420.5 629.5,-420.5 629.5,-414.5 635.5,-408.5 641.5,-408.5 641.5,-408.5 733.5,-408.5 733.5,-408.5 739.5,-408.5 745.5,-414.5 745.5,-420.5 745.5,-420.5 745.5,-449.5 745.5,-449.5 745.5,-455.5 739.5,-461.5 733.5,-461.5\"/>\n<text text-anchor=\"start\" x=\"658\" y=\"-446.3\" font-family=\"Helvetica,sans-Serif\" font-size=\"14.00\" fill=\"#000000\">gini = 0.0</text>\n<text text-anchor=\"start\" x=\"639.5\" y=\"-431.3\" font-family=\"Helvetica,sans-Serif\" font-size=\"14.00\" fill=\"#000000\">samples = 453</text>\n<text text-anchor=\"start\" x=\"637.5\" y=\"-416.3\" font-family=\"Helvetica,sans-Serif\" font-size=\"14.00\" fill=\"#000000\">value = [0, 453]</text>\n</g>\n<!-- 15&#45;&gt;16 -->\n<g id=\"edge16\" class=\"edge\">\n<title>15&#45;&gt;16</title>\n<path fill=\"none\" stroke=\"#000000\" d=\"M731.2166,-504.9465C724.2634,-493.8215 716.5295,-481.4473 709.5231,-470.237\"/>\n<polygon fill=\"#000000\" stroke=\"#000000\" points=\"712.3569,-468.1671 704.0889,-461.5422 706.4209,-471.8772 712.3569,-468.1671\"/>\n</g>\n<!-- 17 -->\n<g id=\"node18\" class=\"node\">\n<title>17</title>\n<path fill=\"#e58139\" stroke=\"#000000\" d=\"M859,-461.5C859,-461.5 776,-461.5 776,-461.5 770,-461.5 764,-455.5 764,-449.5 764,-449.5 764,-420.5 764,-420.5 764,-414.5 770,-408.5 776,-408.5 776,-408.5 859,-408.5 859,-408.5 865,-408.5 871,-414.5 871,-420.5 871,-420.5 871,-449.5 871,-449.5 871,-455.5 865,-461.5 859,-461.5\"/>\n<text text-anchor=\"start\" x=\"788\" y=\"-446.3\" font-family=\"Helvetica,sans-Serif\" font-size=\"14.00\" fill=\"#000000\">gini = 0.0</text>\n<text text-anchor=\"start\" x=\"773.5\" y=\"-431.3\" font-family=\"Helvetica,sans-Serif\" font-size=\"14.00\" fill=\"#000000\">samples = 64</text>\n<text text-anchor=\"start\" x=\"772\" y=\"-416.3\" font-family=\"Helvetica,sans-Serif\" font-size=\"14.00\" fill=\"#000000\">value = [64, 0]</text>\n</g>\n<!-- 15&#45;&gt;17 -->\n<g id=\"edge17\" class=\"edge\">\n<title>15&#45;&gt;17</title>\n<path fill=\"none\" stroke=\"#000000\" d=\"M773.7834,-504.9465C780.7366,-493.8215 788.4705,-481.4473 795.4769,-470.237\"/>\n<polygon fill=\"#000000\" stroke=\"#000000\" points=\"798.5791,-471.8772 800.9111,-461.5422 792.6431,-468.1671 798.5791,-471.8772\"/>\n</g>\n<!-- 19 -->\n<g id=\"node20\" class=\"node\">\n<title>19</title>\n<path fill=\"#e6843e\" stroke=\"#000000\" d=\"M1087.5,-469C1087.5,-469 901.5,-469 901.5,-469 895.5,-469 889.5,-463 889.5,-457 889.5,-457 889.5,-413 889.5,-413 889.5,-407 895.5,-401 901.5,-401 901.5,-401 1087.5,-401 1087.5,-401 1093.5,-401 1099.5,-407 1099.5,-413 1099.5,-413 1099.5,-457 1099.5,-457 1099.5,-463 1093.5,-469 1087.5,-469\"/>\n<text text-anchor=\"start\" x=\"897.5\" y=\"-453.8\" font-family=\"Helvetica,sans-Serif\" font-size=\"14.00\" fill=\"#000000\">stalk&#45;color&#45;below&#45;ring ≤ &#45;2.262</text>\n<text text-anchor=\"start\" x=\"956.5\" y=\"-438.8\" font-family=\"Helvetica,sans-Serif\" font-size=\"14.00\" fill=\"#000000\">gini = 0.049</text>\n<text text-anchor=\"start\" x=\"942.5\" y=\"-423.8\" font-family=\"Helvetica,sans-Serif\" font-size=\"14.00\" fill=\"#000000\">samples = 2582</text>\n<text text-anchor=\"start\" x=\"936.5\" y=\"-408.8\" font-family=\"Helvetica,sans-Serif\" font-size=\"14.00\" fill=\"#000000\">value = [2517, 65]</text>\n</g>\n<!-- 18&#45;&gt;19 -->\n<g id=\"edge19\" class=\"edge\">\n<title>18&#45;&gt;19</title>\n<path fill=\"none\" stroke=\"#000000\" d=\"M994.5,-504.9465C994.5,-496.776 994.5,-487.9318 994.5,-479.3697\"/>\n<polygon fill=\"#000000\" stroke=\"#000000\" points=\"998.0001,-479.13 994.5,-469.13 991.0001,-479.13 998.0001,-479.13\"/>\n</g>\n<!-- 30 -->\n<g id=\"node31\" class=\"node\">\n<title>30</title>\n<path fill=\"#94caf1\" stroke=\"#000000\" d=\"M1253.5,-469C1253.5,-469 1129.5,-469 1129.5,-469 1123.5,-469 1117.5,-463 1117.5,-457 1117.5,-457 1117.5,-413 1117.5,-413 1117.5,-407 1123.5,-401 1129.5,-401 1129.5,-401 1253.5,-401 1253.5,-401 1259.5,-401 1265.5,-407 1265.5,-413 1265.5,-413 1265.5,-457 1265.5,-457 1265.5,-463 1259.5,-469 1253.5,-469\"/>\n<text text-anchor=\"start\" x=\"1125.5\" y=\"-453.8\" font-family=\"Helvetica,sans-Serif\" font-size=\"14.00\" fill=\"#000000\">stalk&#45;shape ≤ &#45;0.139</text>\n<text text-anchor=\"start\" x=\"1153.5\" y=\"-438.8\" font-family=\"Helvetica,sans-Serif\" font-size=\"14.00\" fill=\"#000000\">gini = 0.432</text>\n<text text-anchor=\"start\" x=\"1143.5\" y=\"-423.8\" font-family=\"Helvetica,sans-Serif\" font-size=\"14.00\" fill=\"#000000\">samples = 514</text>\n<text text-anchor=\"start\" x=\"1133.5\" y=\"-408.8\" font-family=\"Helvetica,sans-Serif\" font-size=\"14.00\" fill=\"#000000\">value = [162, 352]</text>\n</g>\n<!-- 18&#45;&gt;30 -->\n<g id=\"edge30\" class=\"edge\">\n<title>18&#45;&gt;30</title>\n<path fill=\"none\" stroke=\"#000000\" d=\"M1059.0052,-504.9465C1077.7984,-495.0252 1098.4734,-484.1105 1117.7883,-473.9138\"/>\n<polygon fill=\"#000000\" stroke=\"#000000\" points=\"1119.6406,-476.8938 1126.8499,-469.13 1116.3726,-470.7034 1119.6406,-476.8938\"/>\n</g>\n<!-- 20 -->\n<g id=\"node21\" class=\"node\">\n<title>20</title>\n<path fill=\"#399de5\" stroke=\"#000000\" d=\"M900,-357.5C900,-357.5 817,-357.5 817,-357.5 811,-357.5 805,-351.5 805,-345.5 805,-345.5 805,-316.5 805,-316.5 805,-310.5 811,-304.5 817,-304.5 817,-304.5 900,-304.5 900,-304.5 906,-304.5 912,-310.5 912,-316.5 912,-316.5 912,-345.5 912,-345.5 912,-351.5 906,-357.5 900,-357.5\"/>\n<text text-anchor=\"start\" x=\"829\" y=\"-342.3\" font-family=\"Helvetica,sans-Serif\" font-size=\"14.00\" fill=\"#000000\">gini = 0.0</text>\n<text text-anchor=\"start\" x=\"814.5\" y=\"-327.3\" font-family=\"Helvetica,sans-Serif\" font-size=\"14.00\" fill=\"#000000\">samples = 28</text>\n<text text-anchor=\"start\" x=\"813\" y=\"-312.3\" font-family=\"Helvetica,sans-Serif\" font-size=\"14.00\" fill=\"#000000\">value = [0, 28]</text>\n</g>\n<!-- 19&#45;&gt;20 -->\n<g id=\"edge20\" class=\"edge\">\n<title>19&#45;&gt;20</title>\n<path fill=\"none\" stroke=\"#000000\" d=\"M949.9685,-400.9465C934.4121,-389.0504 916.9879,-375.726 901.5541,-363.9237\"/>\n<polygon fill=\"#000000\" stroke=\"#000000\" points=\"903.2787,-360.8364 893.209,-357.5422 899.0265,-366.397 903.2787,-360.8364\"/>\n</g>\n<!-- 21 -->\n<g id=\"node22\" class=\"node\">\n<title>21</title>\n<path fill=\"#e5833c\" stroke=\"#000000\" d=\"M1051,-365C1051,-365 942,-365 942,-365 936,-365 930,-359 930,-353 930,-353 930,-309 930,-309 930,-303 936,-297 942,-297 942,-297 1051,-297 1051,-297 1057,-297 1063,-303 1063,-309 1063,-309 1063,-353 1063,-353 1063,-359 1057,-365 1051,-365\"/>\n<text text-anchor=\"start\" x=\"938\" y=\"-349.8\" font-family=\"Helvetica,sans-Serif\" font-size=\"14.00\" fill=\"#000000\">cap&#45;color ≤ &#45;1.572</text>\n<text text-anchor=\"start\" x=\"958.5\" y=\"-334.8\" font-family=\"Helvetica,sans-Serif\" font-size=\"14.00\" fill=\"#000000\">gini = 0.029</text>\n<text text-anchor=\"start\" x=\"944.5\" y=\"-319.8\" font-family=\"Helvetica,sans-Serif\" font-size=\"14.00\" fill=\"#000000\">samples = 2554</text>\n<text text-anchor=\"start\" x=\"938.5\" y=\"-304.8\" font-family=\"Helvetica,sans-Serif\" font-size=\"14.00\" fill=\"#000000\">value = [2517, 37]</text>\n</g>\n<!-- 19&#45;&gt;21 -->\n<g id=\"edge21\" class=\"edge\">\n<title>19&#45;&gt;21</title>\n<path fill=\"none\" stroke=\"#000000\" d=\"M995.1549,-400.9465C995.312,-392.776 995.4821,-383.9318 995.6467,-375.3697\"/>\n<polygon fill=\"#000000\" stroke=\"#000000\" points=\"999.1506,-375.1955 995.8437,-365.13 992.1519,-375.0608 999.1506,-375.1955\"/>\n</g>\n<!-- 22 -->\n<g id=\"node23\" class=\"node\">\n<title>22</title>\n<path fill=\"#f5d1b6\" stroke=\"#000000\" d=\"M894.5,-261C894.5,-261 778.5,-261 778.5,-261 772.5,-261 766.5,-255 766.5,-249 766.5,-249 766.5,-205 766.5,-205 766.5,-199 772.5,-193 778.5,-193 778.5,-193 894.5,-193 894.5,-193 900.5,-193 906.5,-199 906.5,-205 906.5,-205 906.5,-249 906.5,-249 906.5,-255 900.5,-261 894.5,-261\"/>\n<text text-anchor=\"start\" x=\"774.5\" y=\"-245.8\" font-family=\"Helvetica,sans-Serif\" font-size=\"14.00\" fill=\"#000000\">population ≤ &#45;0.903</text>\n<text text-anchor=\"start\" x=\"798.5\" y=\"-230.8\" font-family=\"Helvetica,sans-Serif\" font-size=\"14.00\" fill=\"#000000\">gini = 0.475</text>\n<text text-anchor=\"start\" x=\"792.5\" y=\"-215.8\" font-family=\"Helvetica,sans-Serif\" font-size=\"14.00\" fill=\"#000000\">samples = 31</text>\n<text text-anchor=\"start\" x=\"786.5\" y=\"-200.8\" font-family=\"Helvetica,sans-Serif\" font-size=\"14.00\" fill=\"#000000\">value = [19, 12]</text>\n</g>\n<!-- 21&#45;&gt;22 -->\n<g id=\"edge22\" class=\"edge\">\n<title>21&#45;&gt;22</title>\n<path fill=\"none\" stroke=\"#000000\" d=\"M944.11,-296.9465C929.1918,-287.2497 912.8136,-276.6039 897.4338,-266.6069\"/>\n<polygon fill=\"#000000\" stroke=\"#000000\" points=\"899.2996,-263.6454 889.0077,-261.13 895.4847,-269.5145 899.2996,-263.6454\"/>\n</g>\n<!-- 25 -->\n<g id=\"node26\" class=\"node\">\n<title>25</title>\n<path fill=\"#e5823b\" stroke=\"#000000\" d=\"M1058.5,-261C1058.5,-261 936.5,-261 936.5,-261 930.5,-261 924.5,-255 924.5,-249 924.5,-249 924.5,-205 924.5,-205 924.5,-199 930.5,-193 936.5,-193 936.5,-193 1058.5,-193 1058.5,-193 1064.5,-193 1070.5,-199 1070.5,-205 1070.5,-205 1070.5,-249 1070.5,-249 1070.5,-255 1064.5,-261 1058.5,-261\"/>\n<text text-anchor=\"start\" x=\"932.5\" y=\"-245.8\" font-family=\"Helvetica,sans-Serif\" font-size=\"14.00\" fill=\"#000000\">ring&#45;number ≤ 1.572</text>\n<text text-anchor=\"start\" x=\"964\" y=\"-230.8\" font-family=\"Helvetica,sans-Serif\" font-size=\"14.00\" fill=\"#000000\">gini = 0.02</text>\n<text text-anchor=\"start\" x=\"945.5\" y=\"-215.8\" font-family=\"Helvetica,sans-Serif\" font-size=\"14.00\" fill=\"#000000\">samples = 2523</text>\n<text text-anchor=\"start\" x=\"939.5\" y=\"-200.8\" font-family=\"Helvetica,sans-Serif\" font-size=\"14.00\" fill=\"#000000\">value = [2498, 25]</text>\n</g>\n<!-- 21&#45;&gt;25 -->\n<g id=\"edge25\" class=\"edge\">\n<title>21&#45;&gt;25</title>\n<path fill=\"none\" stroke=\"#000000\" d=\"M996.8274,-296.9465C996.906,-288.776 996.991,-279.9318 997.0734,-271.3697\"/>\n<polygon fill=\"#000000\" stroke=\"#000000\" points=\"1000.5754,-271.1632 997.1718,-261.13 993.5757,-271.0958 1000.5754,-271.1632\"/>\n</g>\n<!-- 23 -->\n<g id=\"node24\" class=\"node\">\n<title>23</title>\n<path fill=\"#e58139\" stroke=\"#000000\" d=\"M754,-149.5C754,-149.5 671,-149.5 671,-149.5 665,-149.5 659,-143.5 659,-137.5 659,-137.5 659,-108.5 659,-108.5 659,-102.5 665,-96.5 671,-96.5 671,-96.5 754,-96.5 754,-96.5 760,-96.5 766,-102.5 766,-108.5 766,-108.5 766,-137.5 766,-137.5 766,-143.5 760,-149.5 754,-149.5\"/>\n<text text-anchor=\"start\" x=\"683\" y=\"-134.3\" font-family=\"Helvetica,sans-Serif\" font-size=\"14.00\" fill=\"#000000\">gini = 0.0</text>\n<text text-anchor=\"start\" x=\"668.5\" y=\"-119.3\" font-family=\"Helvetica,sans-Serif\" font-size=\"14.00\" fill=\"#000000\">samples = 19</text>\n<text text-anchor=\"start\" x=\"667\" y=\"-104.3\" font-family=\"Helvetica,sans-Serif\" font-size=\"14.00\" fill=\"#000000\">value = [19, 0]</text>\n</g>\n<!-- 22&#45;&gt;23 -->\n<g id=\"edge23\" class=\"edge\">\n<title>22&#45;&gt;23</title>\n<path fill=\"none\" stroke=\"#000000\" d=\"M795.8978,-192.9465C781.8453,-181.1606 766.1212,-167.9726 752.1465,-156.2519\"/>\n<polygon fill=\"#000000\" stroke=\"#000000\" points=\"754.0575,-153.2866 744.1464,-149.5422 749.5592,-158.65 754.0575,-153.2866\"/>\n</g>\n<!-- 24 -->\n<g id=\"node25\" class=\"node\">\n<title>24</title>\n<path fill=\"#399de5\" stroke=\"#000000\" d=\"M879,-149.5C879,-149.5 796,-149.5 796,-149.5 790,-149.5 784,-143.5 784,-137.5 784,-137.5 784,-108.5 784,-108.5 784,-102.5 790,-96.5 796,-96.5 796,-96.5 879,-96.5 879,-96.5 885,-96.5 891,-102.5 891,-108.5 891,-108.5 891,-137.5 891,-137.5 891,-143.5 885,-149.5 879,-149.5\"/>\n<text text-anchor=\"start\" x=\"808\" y=\"-134.3\" font-family=\"Helvetica,sans-Serif\" font-size=\"14.00\" fill=\"#000000\">gini = 0.0</text>\n<text text-anchor=\"start\" x=\"793.5\" y=\"-119.3\" font-family=\"Helvetica,sans-Serif\" font-size=\"14.00\" fill=\"#000000\">samples = 12</text>\n<text text-anchor=\"start\" x=\"792\" y=\"-104.3\" font-family=\"Helvetica,sans-Serif\" font-size=\"14.00\" fill=\"#000000\">value = [0, 12]</text>\n</g>\n<!-- 22&#45;&gt;24 -->\n<g id=\"edge24\" class=\"edge\">\n<title>22&#45;&gt;24</title>\n<path fill=\"none\" stroke=\"#000000\" d=\"M836.8274,-192.9465C836.9302,-182.2621 837.044,-170.4254 837.1483,-159.5742\"/>\n<polygon fill=\"#000000\" stroke=\"#000000\" points=\"840.6484,-159.5754 837.2448,-149.5422 833.6487,-159.508 840.6484,-159.5754\"/>\n</g>\n<!-- 26 -->\n<g id=\"node27\" class=\"node\">\n<title>26</title>\n<path fill=\"#e58139\" stroke=\"#000000\" d=\"M1034.5,-149.5C1034.5,-149.5 934.5,-149.5 934.5,-149.5 928.5,-149.5 922.5,-143.5 922.5,-137.5 922.5,-137.5 922.5,-108.5 922.5,-108.5 922.5,-102.5 928.5,-96.5 934.5,-96.5 934.5,-96.5 1034.5,-96.5 1034.5,-96.5 1040.5,-96.5 1046.5,-102.5 1046.5,-108.5 1046.5,-108.5 1046.5,-137.5 1046.5,-137.5 1046.5,-143.5 1040.5,-149.5 1034.5,-149.5\"/>\n<text text-anchor=\"start\" x=\"955\" y=\"-134.3\" font-family=\"Helvetica,sans-Serif\" font-size=\"14.00\" fill=\"#000000\">gini = 0.0</text>\n<text text-anchor=\"start\" x=\"932.5\" y=\"-119.3\" font-family=\"Helvetica,sans-Serif\" font-size=\"14.00\" fill=\"#000000\">samples = 2255</text>\n<text text-anchor=\"start\" x=\"930.5\" y=\"-104.3\" font-family=\"Helvetica,sans-Serif\" font-size=\"14.00\" fill=\"#000000\">value = [2255, 0]</text>\n</g>\n<!-- 25&#45;&gt;26 -->\n<g id=\"edge26\" class=\"edge\">\n<title>25&#45;&gt;26</title>\n<path fill=\"none\" stroke=\"#000000\" d=\"M993.2433,-192.9465C991.9078,-182.2621 990.4282,-170.4254 989.0718,-159.5742\"/>\n<polygon fill=\"#000000\" stroke=\"#000000\" points=\"992.5312,-159.0308 987.8178,-149.5422 985.5852,-159.8991 992.5312,-159.0308\"/>\n</g>\n<!-- 27 -->\n<g id=\"node28\" class=\"node\">\n<title>27</title>\n<path fill=\"#e88e4d\" stroke=\"#000000\" d=\"M1226,-157C1226,-157 1077,-157 1077,-157 1071,-157 1065,-151 1065,-145 1065,-145 1065,-101 1065,-101 1065,-95 1071,-89 1077,-89 1077,-89 1226,-89 1226,-89 1232,-89 1238,-95 1238,-101 1238,-101 1238,-145 1238,-145 1238,-151 1232,-157 1226,-157\"/>\n<text text-anchor=\"start\" x=\"1073\" y=\"-141.8\" font-family=\"Helvetica,sans-Serif\" font-size=\"14.00\" fill=\"#000000\">spore&#45;print&#45;color ≤ 1.004</text>\n<text text-anchor=\"start\" x=\"1113.5\" y=\"-126.8\" font-family=\"Helvetica,sans-Serif\" font-size=\"14.00\" fill=\"#000000\">gini = 0.169</text>\n<text text-anchor=\"start\" x=\"1103.5\" y=\"-111.8\" font-family=\"Helvetica,sans-Serif\" font-size=\"14.00\" fill=\"#000000\">samples = 268</text>\n<text text-anchor=\"start\" x=\"1097.5\" y=\"-96.8\" font-family=\"Helvetica,sans-Serif\" font-size=\"14.00\" fill=\"#000000\">value = [243, 25]</text>\n</g>\n<!-- 25&#45;&gt;27 -->\n<g id=\"edge27\" class=\"edge\">\n<title>25&#45;&gt;27</title>\n<path fill=\"none\" stroke=\"#000000\" d=\"M1047.9254,-192.9465C1062.1512,-183.3395 1077.7563,-172.8009 1092.4398,-162.8848\"/>\n<polygon fill=\"#000000\" stroke=\"#000000\" points=\"1094.6329,-165.6272 1100.9614,-157.13 1090.7153,-159.8261 1094.6329,-165.6272\"/>\n</g>\n<!-- 28 -->\n<g id=\"node29\" class=\"node\">\n<title>28</title>\n<path fill=\"#399de5\" stroke=\"#000000\" d=\"M1074,-53C1074,-53 991,-53 991,-53 985,-53 979,-47 979,-41 979,-41 979,-12 979,-12 979,-6 985,0 991,0 991,0 1074,0 1074,0 1080,0 1086,-6 1086,-12 1086,-12 1086,-41 1086,-41 1086,-47 1080,-53 1074,-53\"/>\n<text text-anchor=\"start\" x=\"1003\" y=\"-37.8\" font-family=\"Helvetica,sans-Serif\" font-size=\"14.00\" fill=\"#000000\">gini = 0.0</text>\n<text text-anchor=\"start\" x=\"988.5\" y=\"-22.8\" font-family=\"Helvetica,sans-Serif\" font-size=\"14.00\" fill=\"#000000\">samples = 25</text>\n<text text-anchor=\"start\" x=\"987\" y=\"-7.8\" font-family=\"Helvetica,sans-Serif\" font-size=\"14.00\" fill=\"#000000\">value = [0, 25]</text>\n</g>\n<!-- 27&#45;&gt;28 -->\n<g id=\"edge28\" class=\"edge\">\n<title>27&#45;&gt;28</title>\n<path fill=\"none\" stroke=\"#000000\" d=\"M1109.5451,-88.9777C1097.8014,-79.4545 1085.0562,-69.1191 1073.376,-59.6473\"/>\n<polygon fill=\"#000000\" stroke=\"#000000\" points=\"1075.4568,-56.8286 1065.4852,-53.2485 1071.0478,-62.2656 1075.4568,-56.8286\"/>\n</g>\n<!-- 29 -->\n<g id=\"node30\" class=\"node\">\n<title>29</title>\n<path fill=\"#e58139\" stroke=\"#000000\" d=\"M1208.5,-53C1208.5,-53 1116.5,-53 1116.5,-53 1110.5,-53 1104.5,-47 1104.5,-41 1104.5,-41 1104.5,-12 1104.5,-12 1104.5,-6 1110.5,0 1116.5,0 1116.5,0 1208.5,0 1208.5,0 1214.5,0 1220.5,-6 1220.5,-12 1220.5,-12 1220.5,-41 1220.5,-41 1220.5,-47 1214.5,-53 1208.5,-53\"/>\n<text text-anchor=\"start\" x=\"1133\" y=\"-37.8\" font-family=\"Helvetica,sans-Serif\" font-size=\"14.00\" fill=\"#000000\">gini = 0.0</text>\n<text text-anchor=\"start\" x=\"1114.5\" y=\"-22.8\" font-family=\"Helvetica,sans-Serif\" font-size=\"14.00\" fill=\"#000000\">samples = 243</text>\n<text text-anchor=\"start\" x=\"1112.5\" y=\"-7.8\" font-family=\"Helvetica,sans-Serif\" font-size=\"14.00\" fill=\"#000000\">value = [243, 0]</text>\n</g>\n<!-- 27&#45;&gt;29 -->\n<g id=\"edge29\" class=\"edge\">\n<title>27&#45;&gt;29</title>\n<path fill=\"none\" stroke=\"#000000\" d=\"M1155.3782,-88.9777C1156.328,-80.6449 1157.3488,-71.6903 1158.3124,-63.2364\"/>\n<polygon fill=\"#000000\" stroke=\"#000000\" points=\"1161.7958,-63.5806 1159.451,-53.2485 1154.8408,-62.7877 1161.7958,-63.5806\"/>\n</g>\n<!-- 31 -->\n<g id=\"node32\" class=\"node\">\n<title>31</title>\n<path fill=\"#6eb7ec\" stroke=\"#000000\" d=\"M1235.5,-365C1235.5,-365 1135.5,-365 1135.5,-365 1129.5,-365 1123.5,-359 1123.5,-353 1123.5,-353 1123.5,-309 1123.5,-309 1123.5,-303 1129.5,-297 1135.5,-297 1135.5,-297 1235.5,-297 1235.5,-297 1241.5,-297 1247.5,-303 1247.5,-309 1247.5,-309 1247.5,-353 1247.5,-353 1247.5,-359 1241.5,-365 1235.5,-365\"/>\n<text text-anchor=\"start\" x=\"1135.5\" y=\"-349.8\" font-family=\"Helvetica,sans-Serif\" font-size=\"14.00\" fill=\"#000000\">habitat ≤ &#45;0.006</text>\n<text text-anchor=\"start\" x=\"1147.5\" y=\"-334.8\" font-family=\"Helvetica,sans-Serif\" font-size=\"14.00\" fill=\"#000000\">gini = 0.335</text>\n<text text-anchor=\"start\" x=\"1137.5\" y=\"-319.8\" font-family=\"Helvetica,sans-Serif\" font-size=\"14.00\" fill=\"#000000\">samples = 447</text>\n<text text-anchor=\"start\" x=\"1131.5\" y=\"-304.8\" font-family=\"Helvetica,sans-Serif\" font-size=\"14.00\" fill=\"#000000\">value = [95, 352]</text>\n</g>\n<!-- 30&#45;&gt;31 -->\n<g id=\"edge31\" class=\"edge\">\n<title>30&#45;&gt;31</title>\n<path fill=\"none\" stroke=\"#000000\" d=\"M1189.5354,-400.9465C1189.064,-392.776 1188.5538,-383.9318 1188.0598,-375.3697\"/>\n<polygon fill=\"#000000\" stroke=\"#000000\" points=\"1191.5393,-374.9118 1187.469,-365.13 1184.5509,-375.315 1191.5393,-374.9118\"/>\n</g>\n<!-- 38 -->\n<g id=\"node39\" class=\"node\">\n<title>38</title>\n<path fill=\"#e58139\" stroke=\"#000000\" d=\"M1361,-357.5C1361,-357.5 1278,-357.5 1278,-357.5 1272,-357.5 1266,-351.5 1266,-345.5 1266,-345.5 1266,-316.5 1266,-316.5 1266,-310.5 1272,-304.5 1278,-304.5 1278,-304.5 1361,-304.5 1361,-304.5 1367,-304.5 1373,-310.5 1373,-316.5 1373,-316.5 1373,-345.5 1373,-345.5 1373,-351.5 1367,-357.5 1361,-357.5\"/>\n<text text-anchor=\"start\" x=\"1290\" y=\"-342.3\" font-family=\"Helvetica,sans-Serif\" font-size=\"14.00\" fill=\"#000000\">gini = 0.0</text>\n<text text-anchor=\"start\" x=\"1275.5\" y=\"-327.3\" font-family=\"Helvetica,sans-Serif\" font-size=\"14.00\" fill=\"#000000\">samples = 67</text>\n<text text-anchor=\"start\" x=\"1274\" y=\"-312.3\" font-family=\"Helvetica,sans-Serif\" font-size=\"14.00\" fill=\"#000000\">value = [67, 0]</text>\n</g>\n<!-- 30&#45;&gt;38 -->\n<g id=\"edge38\" class=\"edge\">\n<title>30&#45;&gt;38</title>\n<path fill=\"none\" stroke=\"#000000\" d=\"M1233.412,-400.9465C1248.0533,-389.0504 1264.4526,-375.726 1278.9785,-363.9237\"/>\n<polygon fill=\"#000000\" stroke=\"#000000\" points=\"1281.2786,-366.5645 1286.8327,-357.5422 1276.8645,-361.1317 1281.2786,-366.5645\"/>\n</g>\n<!-- 32 -->\n<g id=\"node33\" class=\"node\">\n<title>32</title>\n<path fill=\"#399de5\" stroke=\"#000000\" d=\"M1231.5,-253.5C1231.5,-253.5 1139.5,-253.5 1139.5,-253.5 1133.5,-253.5 1127.5,-247.5 1127.5,-241.5 1127.5,-241.5 1127.5,-212.5 1127.5,-212.5 1127.5,-206.5 1133.5,-200.5 1139.5,-200.5 1139.5,-200.5 1231.5,-200.5 1231.5,-200.5 1237.5,-200.5 1243.5,-206.5 1243.5,-212.5 1243.5,-212.5 1243.5,-241.5 1243.5,-241.5 1243.5,-247.5 1237.5,-253.5 1231.5,-253.5\"/>\n<text text-anchor=\"start\" x=\"1156\" y=\"-238.3\" font-family=\"Helvetica,sans-Serif\" font-size=\"14.00\" fill=\"#000000\">gini = 0.0</text>\n<text text-anchor=\"start\" x=\"1137.5\" y=\"-223.3\" font-family=\"Helvetica,sans-Serif\" font-size=\"14.00\" fill=\"#000000\">samples = 233</text>\n<text text-anchor=\"start\" x=\"1135.5\" y=\"-208.3\" font-family=\"Helvetica,sans-Serif\" font-size=\"14.00\" fill=\"#000000\">value = [0, 233]</text>\n</g>\n<!-- 31&#45;&gt;32 -->\n<g id=\"edge32\" class=\"edge\">\n<title>31&#45;&gt;32</title>\n<path fill=\"none\" stroke=\"#000000\" d=\"M1185.5,-296.9465C1185.5,-286.2621 1185.5,-274.4254 1185.5,-263.5742\"/>\n<polygon fill=\"#000000\" stroke=\"#000000\" points=\"1189.0001,-263.5421 1185.5,-253.5422 1182.0001,-263.5422 1189.0001,-263.5421\"/>\n</g>\n<!-- 33 -->\n<g id=\"node34\" class=\"node\">\n<title>33</title>\n<path fill=\"#d7ebfa\" stroke=\"#000000\" d=\"M1373.5,-261C1373.5,-261 1273.5,-261 1273.5,-261 1267.5,-261 1261.5,-255 1261.5,-249 1261.5,-249 1261.5,-205 1261.5,-205 1261.5,-199 1267.5,-193 1273.5,-193 1273.5,-193 1373.5,-193 1373.5,-193 1379.5,-193 1385.5,-199 1385.5,-205 1385.5,-205 1385.5,-249 1385.5,-249 1385.5,-255 1379.5,-261 1373.5,-261\"/>\n<text text-anchor=\"start\" x=\"1273.5\" y=\"-245.8\" font-family=\"Helvetica,sans-Serif\" font-size=\"14.00\" fill=\"#000000\">bruises ≤ 0.173</text>\n<text text-anchor=\"start\" x=\"1285.5\" y=\"-230.8\" font-family=\"Helvetica,sans-Serif\" font-size=\"14.00\" fill=\"#000000\">gini = 0.494</text>\n<text text-anchor=\"start\" x=\"1275.5\" y=\"-215.8\" font-family=\"Helvetica,sans-Serif\" font-size=\"14.00\" fill=\"#000000\">samples = 214</text>\n<text text-anchor=\"start\" x=\"1269.5\" y=\"-200.8\" font-family=\"Helvetica,sans-Serif\" font-size=\"14.00\" fill=\"#000000\">value = [95, 119]</text>\n</g>\n<!-- 31&#45;&gt;33 -->\n<g id=\"edge33\" class=\"edge\">\n<title>31&#45;&gt;33</title>\n<path fill=\"none\" stroke=\"#000000\" d=\"M1230.6864,-296.9465C1243.315,-287.4293 1257.1567,-276.9978 1270.2068,-267.163\"/>\n<polygon fill=\"#000000\" stroke=\"#000000\" points=\"1272.3325,-269.9437 1278.2121,-261.13 1268.1195,-264.3534 1272.3325,-269.9437\"/>\n</g>\n<!-- 34 -->\n<g id=\"node35\" class=\"node\">\n<title>34</title>\n<path fill=\"#e78946\" stroke=\"#000000\" d=\"M1375.5,-157C1375.5,-157 1271.5,-157 1271.5,-157 1265.5,-157 1259.5,-151 1259.5,-145 1259.5,-145 1259.5,-101 1259.5,-101 1259.5,-95 1265.5,-89 1271.5,-89 1271.5,-89 1375.5,-89 1375.5,-89 1381.5,-89 1387.5,-95 1387.5,-101 1387.5,-101 1387.5,-145 1387.5,-145 1387.5,-151 1381.5,-157 1375.5,-157\"/>\n<text text-anchor=\"start\" x=\"1267.5\" y=\"-141.8\" font-family=\"Helvetica,sans-Serif\" font-size=\"14.00\" fill=\"#000000\">cap&#45;color ≤ 0.807</text>\n<text text-anchor=\"start\" x=\"1285.5\" y=\"-126.8\" font-family=\"Helvetica,sans-Serif\" font-size=\"14.00\" fill=\"#000000\">gini = 0.112</text>\n<text text-anchor=\"start\" x=\"1275.5\" y=\"-111.8\" font-family=\"Helvetica,sans-Serif\" font-size=\"14.00\" fill=\"#000000\">samples = 101</text>\n<text text-anchor=\"start\" x=\"1278\" y=\"-96.8\" font-family=\"Helvetica,sans-Serif\" font-size=\"14.00\" fill=\"#000000\">value = [95, 6]</text>\n</g>\n<!-- 33&#45;&gt;34 -->\n<g id=\"edge34\" class=\"edge\">\n<title>33&#45;&gt;34</title>\n<path fill=\"none\" stroke=\"#000000\" d=\"M1323.5,-192.9465C1323.5,-184.776 1323.5,-175.9318 1323.5,-167.3697\"/>\n<polygon fill=\"#000000\" stroke=\"#000000\" points=\"1327.0001,-167.13 1323.5,-157.13 1320.0001,-167.13 1327.0001,-167.13\"/>\n</g>\n<!-- 37 -->\n<g id=\"node38\" class=\"node\">\n<title>37</title>\n<path fill=\"#399de5\" stroke=\"#000000\" d=\"M1509.5,-149.5C1509.5,-149.5 1417.5,-149.5 1417.5,-149.5 1411.5,-149.5 1405.5,-143.5 1405.5,-137.5 1405.5,-137.5 1405.5,-108.5 1405.5,-108.5 1405.5,-102.5 1411.5,-96.5 1417.5,-96.5 1417.5,-96.5 1509.5,-96.5 1509.5,-96.5 1515.5,-96.5 1521.5,-102.5 1521.5,-108.5 1521.5,-108.5 1521.5,-137.5 1521.5,-137.5 1521.5,-143.5 1515.5,-149.5 1509.5,-149.5\"/>\n<text text-anchor=\"start\" x=\"1434\" y=\"-134.3\" font-family=\"Helvetica,sans-Serif\" font-size=\"14.00\" fill=\"#000000\">gini = 0.0</text>\n<text text-anchor=\"start\" x=\"1415.5\" y=\"-119.3\" font-family=\"Helvetica,sans-Serif\" font-size=\"14.00\" fill=\"#000000\">samples = 113</text>\n<text text-anchor=\"start\" x=\"1413.5\" y=\"-104.3\" font-family=\"Helvetica,sans-Serif\" font-size=\"14.00\" fill=\"#000000\">value = [0, 113]</text>\n</g>\n<!-- 33&#45;&gt;37 -->\n<g id=\"edge37\" class=\"edge\">\n<title>33&#45;&gt;37</title>\n<path fill=\"none\" stroke=\"#000000\" d=\"M1369.3412,-192.9465C1385.5035,-180.9403 1403.6242,-167.4791 1419.6205,-155.5962\"/>\n<polygon fill=\"#000000\" stroke=\"#000000\" points=\"1421.8299,-158.3151 1427.7702,-149.5422 1417.6556,-152.6958 1421.8299,-158.3151\"/>\n</g>\n<!-- 35 -->\n<g id=\"node36\" class=\"node\">\n<title>35</title>\n<path fill=\"#e58139\" stroke=\"#000000\" d=\"M1353,-53C1353,-53 1270,-53 1270,-53 1264,-53 1258,-47 1258,-41 1258,-41 1258,-12 1258,-12 1258,-6 1264,0 1270,0 1270,0 1353,0 1353,0 1359,0 1365,-6 1365,-12 1365,-12 1365,-41 1365,-41 1365,-47 1359,-53 1353,-53\"/>\n<text text-anchor=\"start\" x=\"1282\" y=\"-37.8\" font-family=\"Helvetica,sans-Serif\" font-size=\"14.00\" fill=\"#000000\">gini = 0.0</text>\n<text text-anchor=\"start\" x=\"1267.5\" y=\"-22.8\" font-family=\"Helvetica,sans-Serif\" font-size=\"14.00\" fill=\"#000000\">samples = 95</text>\n<text text-anchor=\"start\" x=\"1266\" y=\"-7.8\" font-family=\"Helvetica,sans-Serif\" font-size=\"14.00\" fill=\"#000000\">value = [95, 0]</text>\n</g>\n<!-- 34&#45;&gt;35 -->\n<g id=\"edge35\" class=\"edge\">\n<title>34&#45;&gt;35</title>\n<path fill=\"none\" stroke=\"#000000\" d=\"M1319.2692,-88.9777C1318.233,-80.6449 1317.1195,-71.6903 1316.0683,-63.2364\"/>\n<polygon fill=\"#000000\" stroke=\"#000000\" points=\"1319.5336,-62.7401 1314.8262,-53.2485 1312.5871,-63.604 1319.5336,-62.7401\"/>\n</g>\n<!-- 36 -->\n<g id=\"node37\" class=\"node\">\n<title>36</title>\n<path fill=\"#399de5\" stroke=\"#000000\" d=\"M1470,-53C1470,-53 1395,-53 1395,-53 1389,-53 1383,-47 1383,-41 1383,-41 1383,-12 1383,-12 1383,-6 1389,0 1395,0 1395,0 1470,0 1470,0 1476,0 1482,-6 1482,-12 1482,-12 1482,-41 1482,-41 1482,-47 1476,-53 1470,-53\"/>\n<text text-anchor=\"start\" x=\"1403\" y=\"-37.8\" font-family=\"Helvetica,sans-Serif\" font-size=\"14.00\" fill=\"#000000\">gini = 0.0</text>\n<text text-anchor=\"start\" x=\"1393\" y=\"-22.8\" font-family=\"Helvetica,sans-Serif\" font-size=\"14.00\" fill=\"#000000\">samples = 6</text>\n<text text-anchor=\"start\" x=\"1391\" y=\"-7.8\" font-family=\"Helvetica,sans-Serif\" font-size=\"14.00\" fill=\"#000000\">value = [0, 6]</text>\n</g>\n<!-- 34&#45;&gt;36 -->\n<g id=\"edge36\" class=\"edge\">\n<title>34&#45;&gt;36</title>\n<path fill=\"none\" stroke=\"#000000\" d=\"M1361.9293,-88.9777C1372.5827,-79.546 1384.1359,-69.3178 1394.7501,-59.9208\"/>\n<polygon fill=\"#000000\" stroke=\"#000000\" points=\"1397.1194,-62.4978 1402.2867,-53.2485 1392.4793,-57.2566 1397.1194,-62.4978\"/>\n</g>\n</g>\n</svg>\n"
          },
          "metadata": {
            "tags": []
          },
          "execution_count": 21
        }
      ]
    },
    {
      "cell_type": "code",
      "metadata": {
        "id": "wE39oVxap30I",
        "colab_type": "code",
        "colab": {
          "base_uri": "https://localhost:8080/",
          "height": 34
        },
        "outputId": "194b7dbd-b9b0-4b4b-e299-b2149ee290af"
      },
      "source": [
        "acc_dtc = classifier.score(X_test,Y_test)\n",
        "print(\"Classification Accuracy : %.3f \" %  acc_dtc)"
      ],
      "execution_count": 22,
      "outputs": [
        {
          "output_type": "stream",
          "text": [
            "Classification Accuracy : 1.000 \n"
          ],
          "name": "stdout"
        }
      ]
    },
    {
      "cell_type": "markdown",
      "metadata": {
        "id": "Yoy3a1vC0l7b",
        "colab_type": "text"
      },
      "source": [
        "# Results \n",
        "\n",
        "Accuracy on test data :\n",
        "* Logistic Regression : 95% accuracy\n",
        "* SVM : 100% accuracy\n",
        "* Decision Tree Classifier : 100% accuracy"
      ]
    },
    {
      "cell_type": "markdown",
      "metadata": {
        "id": "2RWZc9ST2L_n",
        "colab_type": "text"
      },
      "source": [
        "Created on Wed Jun 03 15:30:04 2020\n",
        "\n",
        "@author: Nishidh Shekhawat"
      ]
    }
  ]
}