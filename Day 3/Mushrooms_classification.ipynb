{
  "nbformat": 4,
  "nbformat_minor": 0,
  "metadata": {
    "colab": {
      "name": "Mushrooms classification.ipynb",
      "provenance": [],
      "collapsed_sections": [
        "HZJn6LN6zd9s"
      ],
      "authorship_tag": "ABX9TyPiCl2ZcWqmyjBQNgRdHCw+",
      "include_colab_link": true
    },
    "kernelspec": {
      "name": "python3",
      "display_name": "Python 3"
    }
  },
  "cells": [
    {
      "cell_type": "markdown",
      "metadata": {
        "id": "view-in-github",
        "colab_type": "text"
      },
      "source": [
        "<a href=\"https://colab.research.google.com/github/Nishidh25/IEEE-Coders-Week---ML/blob/master/Day%203/Mushrooms_classification.ipynb\" target=\"_parent\"><img src=\"https://colab.research.google.com/assets/colab-badge.svg\" alt=\"Open In Colab\"/></a>"
      ]
    },
    {
      "cell_type": "markdown",
      "metadata": {
        "id": "8_BTLBS_1_rb",
        "colab_type": "text"
      },
      "source": [
        "Created on Wed Jun 03 15:30:04 2020\n",
        "\n",
        "@author: Nishidh Shekhawat"
      ]
    },
    {
      "cell_type": "markdown",
      "metadata": {
        "id": "oZRfpY8Utk3n",
        "colab_type": "text"
      },
      "source": [
        "Downloading the dataset - Mushroom Classification"
      ]
    },
    {
      "cell_type": "code",
      "metadata": {
        "id": "-NN86H03hSfX",
        "colab_type": "code",
        "colab": {
          "base_uri": "https://localhost:8080/",
          "height": 202
        },
        "outputId": "f55d7f9e-d975-47c8-dcc5-4ce581ff9ed5"
      },
      "source": [
        "#!wget http://iali.in/datasets/mushrooms.csv"
      ],
      "execution_count": 1,
      "outputs": [
        {
          "output_type": "stream",
          "text": [
            "--2020-06-03 11:44:43--  http://iali.in/datasets/mushrooms.csv\n",
            "Resolving iali.in (iali.in)... 156.67.222.125\n",
            "Connecting to iali.in (iali.in)|156.67.222.125|:80... connected.\n",
            "HTTP request sent, awaiting response... 200 OK\n",
            "Length: 374003 (365K) [text/plain]\n",
            "Saving to: ‘mushrooms.csv.3’\n",
            "\n",
            "mushrooms.csv.3     100%[===================>] 365.24K   311KB/s    in 1.2s    \n",
            "\n",
            "2020-06-03 11:44:45 (311 KB/s) - ‘mushrooms.csv.3’ saved [374003/374003]\n",
            "\n"
          ],
          "name": "stdout"
        }
      ]
    },
    {
      "cell_type": "markdown",
      "metadata": {
        "id": "no5qVWgDtuMD",
        "colab_type": "text"
      },
      "source": [
        "# Imports"
      ]
    },
    {
      "cell_type": "code",
      "metadata": {
        "id": "Ybwu9aKciBs5",
        "colab_type": "code",
        "colab": {}
      },
      "source": [
        "import pandas as pd\n",
        "import numpy as np\n",
        "from sklearn.preprocessing import LabelEncoder, StandardScaler\n",
        "from sklearn.model_selection import train_test_split\n",
        "from sklearn.tree import DecisionTreeClassifier, export_graphviz\n",
        "import graphviz \n",
        "from sklearn.metrics import classification_report\n",
        "from sklearn import svm\n",
        "from sklearn.linear_model import LogisticRegression\n",
        "from sklearn.model_selection import GridSearchCV\n",
        "from sklearn.svm import SVR\n",
        "from sklearn.pipeline import Pipeline\n",
        "from sklearn.ensemble import RandomForestClassifier"
      ],
      "execution_count": 0,
      "outputs": []
    },
    {
      "cell_type": "markdown",
      "metadata": {
        "id": "SjJSqy2zt0g8",
        "colab_type": "text"
      },
      "source": [
        "# Loading dataset into a dataframe"
      ]
    },
    {
      "cell_type": "code",
      "metadata": {
        "id": "Q79z5CR3iJCK",
        "colab_type": "code",
        "colab": {}
      },
      "source": [
        "df = pd.read_csv('mushrooms.csv')"
      ],
      "execution_count": 0,
      "outputs": []
    },
    {
      "cell_type": "markdown",
      "metadata": {
        "id": "cvnZo2iT0Yz3",
        "colab_type": "text"
      },
      "source": [
        "# Understanding the data"
      ]
    },
    {
      "cell_type": "code",
      "metadata": {
        "id": "d86a0Ah-ikMO",
        "colab_type": "code",
        "colab": {
          "base_uri": "https://localhost:8080/",
          "height": 177
        },
        "outputId": "097bf0db-7b26-4d39-86e1-8f76155196b7"
      },
      "source": [
        "df.head(2)"
      ],
      "execution_count": 4,
      "outputs": [
        {
          "output_type": "execute_result",
          "data": {
            "text/html": [
              "<div>\n",
              "<style scoped>\n",
              "    .dataframe tbody tr th:only-of-type {\n",
              "        vertical-align: middle;\n",
              "    }\n",
              "\n",
              "    .dataframe tbody tr th {\n",
              "        vertical-align: top;\n",
              "    }\n",
              "\n",
              "    .dataframe thead th {\n",
              "        text-align: right;\n",
              "    }\n",
              "</style>\n",
              "<table border=\"1\" class=\"dataframe\">\n",
              "  <thead>\n",
              "    <tr style=\"text-align: right;\">\n",
              "      <th></th>\n",
              "      <th>class</th>\n",
              "      <th>cap-shape</th>\n",
              "      <th>cap-surface</th>\n",
              "      <th>cap-color</th>\n",
              "      <th>bruises</th>\n",
              "      <th>odor</th>\n",
              "      <th>gill-attachment</th>\n",
              "      <th>gill-spacing</th>\n",
              "      <th>gill-size</th>\n",
              "      <th>gill-color</th>\n",
              "      <th>stalk-shape</th>\n",
              "      <th>stalk-root</th>\n",
              "      <th>stalk-surface-above-ring</th>\n",
              "      <th>stalk-surface-below-ring</th>\n",
              "      <th>stalk-color-above-ring</th>\n",
              "      <th>stalk-color-below-ring</th>\n",
              "      <th>veil-type</th>\n",
              "      <th>veil-color</th>\n",
              "      <th>ring-number</th>\n",
              "      <th>ring-type</th>\n",
              "      <th>spore-print-color</th>\n",
              "      <th>population</th>\n",
              "      <th>habitat</th>\n",
              "    </tr>\n",
              "  </thead>\n",
              "  <tbody>\n",
              "    <tr>\n",
              "      <th>0</th>\n",
              "      <td>p</td>\n",
              "      <td>x</td>\n",
              "      <td>s</td>\n",
              "      <td>n</td>\n",
              "      <td>t</td>\n",
              "      <td>p</td>\n",
              "      <td>f</td>\n",
              "      <td>c</td>\n",
              "      <td>n</td>\n",
              "      <td>k</td>\n",
              "      <td>e</td>\n",
              "      <td>e</td>\n",
              "      <td>s</td>\n",
              "      <td>s</td>\n",
              "      <td>w</td>\n",
              "      <td>w</td>\n",
              "      <td>p</td>\n",
              "      <td>w</td>\n",
              "      <td>o</td>\n",
              "      <td>p</td>\n",
              "      <td>k</td>\n",
              "      <td>s</td>\n",
              "      <td>u</td>\n",
              "    </tr>\n",
              "    <tr>\n",
              "      <th>1</th>\n",
              "      <td>e</td>\n",
              "      <td>x</td>\n",
              "      <td>s</td>\n",
              "      <td>y</td>\n",
              "      <td>t</td>\n",
              "      <td>a</td>\n",
              "      <td>f</td>\n",
              "      <td>c</td>\n",
              "      <td>b</td>\n",
              "      <td>k</td>\n",
              "      <td>e</td>\n",
              "      <td>c</td>\n",
              "      <td>s</td>\n",
              "      <td>s</td>\n",
              "      <td>w</td>\n",
              "      <td>w</td>\n",
              "      <td>p</td>\n",
              "      <td>w</td>\n",
              "      <td>o</td>\n",
              "      <td>p</td>\n",
              "      <td>n</td>\n",
              "      <td>n</td>\n",
              "      <td>g</td>\n",
              "    </tr>\n",
              "  </tbody>\n",
              "</table>\n",
              "</div>"
            ],
            "text/plain": [
              "  class cap-shape cap-surface  ... spore-print-color population habitat\n",
              "0     p         x           s  ...                 k          s       u\n",
              "1     e         x           s  ...                 n          n       g\n",
              "\n",
              "[2 rows x 23 columns]"
            ]
          },
          "metadata": {
            "tags": []
          },
          "execution_count": 4
        }
      ]
    },
    {
      "cell_type": "code",
      "metadata": {
        "id": "Mrn02V62imql",
        "colab_type": "code",
        "colab": {
          "base_uri": "https://localhost:8080/",
          "height": 236
        },
        "outputId": "800ab377-260d-4502-9178-5be9f4bdfc11"
      },
      "source": [
        "df.describe()"
      ],
      "execution_count": 5,
      "outputs": [
        {
          "output_type": "execute_result",
          "data": {
            "text/html": [
              "<div>\n",
              "<style scoped>\n",
              "    .dataframe tbody tr th:only-of-type {\n",
              "        vertical-align: middle;\n",
              "    }\n",
              "\n",
              "    .dataframe tbody tr th {\n",
              "        vertical-align: top;\n",
              "    }\n",
              "\n",
              "    .dataframe thead th {\n",
              "        text-align: right;\n",
              "    }\n",
              "</style>\n",
              "<table border=\"1\" class=\"dataframe\">\n",
              "  <thead>\n",
              "    <tr style=\"text-align: right;\">\n",
              "      <th></th>\n",
              "      <th>class</th>\n",
              "      <th>cap-shape</th>\n",
              "      <th>cap-surface</th>\n",
              "      <th>cap-color</th>\n",
              "      <th>bruises</th>\n",
              "      <th>odor</th>\n",
              "      <th>gill-attachment</th>\n",
              "      <th>gill-spacing</th>\n",
              "      <th>gill-size</th>\n",
              "      <th>gill-color</th>\n",
              "      <th>stalk-shape</th>\n",
              "      <th>stalk-root</th>\n",
              "      <th>stalk-surface-above-ring</th>\n",
              "      <th>stalk-surface-below-ring</th>\n",
              "      <th>stalk-color-above-ring</th>\n",
              "      <th>stalk-color-below-ring</th>\n",
              "      <th>veil-type</th>\n",
              "      <th>veil-color</th>\n",
              "      <th>ring-number</th>\n",
              "      <th>ring-type</th>\n",
              "      <th>spore-print-color</th>\n",
              "      <th>population</th>\n",
              "      <th>habitat</th>\n",
              "    </tr>\n",
              "  </thead>\n",
              "  <tbody>\n",
              "    <tr>\n",
              "      <th>count</th>\n",
              "      <td>8124</td>\n",
              "      <td>8124</td>\n",
              "      <td>8124</td>\n",
              "      <td>8124</td>\n",
              "      <td>8124</td>\n",
              "      <td>8124</td>\n",
              "      <td>8124</td>\n",
              "      <td>8124</td>\n",
              "      <td>8124</td>\n",
              "      <td>8124</td>\n",
              "      <td>8124</td>\n",
              "      <td>8124</td>\n",
              "      <td>8124</td>\n",
              "      <td>8124</td>\n",
              "      <td>8124</td>\n",
              "      <td>8124</td>\n",
              "      <td>8124</td>\n",
              "      <td>8124</td>\n",
              "      <td>8124</td>\n",
              "      <td>8124</td>\n",
              "      <td>8124</td>\n",
              "      <td>8124</td>\n",
              "      <td>8124</td>\n",
              "    </tr>\n",
              "    <tr>\n",
              "      <th>unique</th>\n",
              "      <td>2</td>\n",
              "      <td>6</td>\n",
              "      <td>4</td>\n",
              "      <td>10</td>\n",
              "      <td>2</td>\n",
              "      <td>9</td>\n",
              "      <td>2</td>\n",
              "      <td>2</td>\n",
              "      <td>2</td>\n",
              "      <td>12</td>\n",
              "      <td>2</td>\n",
              "      <td>5</td>\n",
              "      <td>4</td>\n",
              "      <td>4</td>\n",
              "      <td>9</td>\n",
              "      <td>9</td>\n",
              "      <td>1</td>\n",
              "      <td>4</td>\n",
              "      <td>3</td>\n",
              "      <td>5</td>\n",
              "      <td>9</td>\n",
              "      <td>6</td>\n",
              "      <td>7</td>\n",
              "    </tr>\n",
              "    <tr>\n",
              "      <th>top</th>\n",
              "      <td>e</td>\n",
              "      <td>x</td>\n",
              "      <td>y</td>\n",
              "      <td>n</td>\n",
              "      <td>f</td>\n",
              "      <td>n</td>\n",
              "      <td>f</td>\n",
              "      <td>c</td>\n",
              "      <td>b</td>\n",
              "      <td>b</td>\n",
              "      <td>t</td>\n",
              "      <td>b</td>\n",
              "      <td>s</td>\n",
              "      <td>s</td>\n",
              "      <td>w</td>\n",
              "      <td>w</td>\n",
              "      <td>p</td>\n",
              "      <td>w</td>\n",
              "      <td>o</td>\n",
              "      <td>p</td>\n",
              "      <td>w</td>\n",
              "      <td>v</td>\n",
              "      <td>d</td>\n",
              "    </tr>\n",
              "    <tr>\n",
              "      <th>freq</th>\n",
              "      <td>4208</td>\n",
              "      <td>3656</td>\n",
              "      <td>3244</td>\n",
              "      <td>2284</td>\n",
              "      <td>4748</td>\n",
              "      <td>3528</td>\n",
              "      <td>7914</td>\n",
              "      <td>6812</td>\n",
              "      <td>5612</td>\n",
              "      <td>1728</td>\n",
              "      <td>4608</td>\n",
              "      <td>3776</td>\n",
              "      <td>5176</td>\n",
              "      <td>4936</td>\n",
              "      <td>4464</td>\n",
              "      <td>4384</td>\n",
              "      <td>8124</td>\n",
              "      <td>7924</td>\n",
              "      <td>7488</td>\n",
              "      <td>3968</td>\n",
              "      <td>2388</td>\n",
              "      <td>4040</td>\n",
              "      <td>3148</td>\n",
              "    </tr>\n",
              "  </tbody>\n",
              "</table>\n",
              "</div>"
            ],
            "text/plain": [
              "       class cap-shape cap-surface  ... spore-print-color population habitat\n",
              "count   8124      8124        8124  ...              8124       8124    8124\n",
              "unique     2         6           4  ...                 9          6       7\n",
              "top        e         x           y  ...                 w          v       d\n",
              "freq    4208      3656        3244  ...              2388       4040    3148\n",
              "\n",
              "[4 rows x 23 columns]"
            ]
          },
          "metadata": {
            "tags": []
          },
          "execution_count": 5
        }
      ]
    },
    {
      "cell_type": "markdown",
      "metadata": {
        "id": "rm3eQ9EDkExy",
        "colab_type": "text"
      },
      "source": [
        "# Label Enoding"
      ]
    },
    {
      "cell_type": "code",
      "metadata": {
        "id": "75p4-odxiq6A",
        "colab_type": "code",
        "colab": {}
      },
      "source": [
        "labelencoder = LabelEncoder()\n",
        "\n",
        "# Encoding every column \n",
        "for column in df.columns:\n",
        "  df[column] = labelencoder.fit_transform(df[column])"
      ],
      "execution_count": 0,
      "outputs": []
    },
    {
      "cell_type": "code",
      "metadata": {
        "id": "rTEwYF7vkipG",
        "colab_type": "code",
        "colab": {
          "base_uri": "https://localhost:8080/",
          "height": 177
        },
        "outputId": "105fc954-6f1e-45bc-8bb2-3d4840cb2da3"
      },
      "source": [
        "df.head(2)"
      ],
      "execution_count": 7,
      "outputs": [
        {
          "output_type": "execute_result",
          "data": {
            "text/html": [
              "<div>\n",
              "<style scoped>\n",
              "    .dataframe tbody tr th:only-of-type {\n",
              "        vertical-align: middle;\n",
              "    }\n",
              "\n",
              "    .dataframe tbody tr th {\n",
              "        vertical-align: top;\n",
              "    }\n",
              "\n",
              "    .dataframe thead th {\n",
              "        text-align: right;\n",
              "    }\n",
              "</style>\n",
              "<table border=\"1\" class=\"dataframe\">\n",
              "  <thead>\n",
              "    <tr style=\"text-align: right;\">\n",
              "      <th></th>\n",
              "      <th>class</th>\n",
              "      <th>cap-shape</th>\n",
              "      <th>cap-surface</th>\n",
              "      <th>cap-color</th>\n",
              "      <th>bruises</th>\n",
              "      <th>odor</th>\n",
              "      <th>gill-attachment</th>\n",
              "      <th>gill-spacing</th>\n",
              "      <th>gill-size</th>\n",
              "      <th>gill-color</th>\n",
              "      <th>stalk-shape</th>\n",
              "      <th>stalk-root</th>\n",
              "      <th>stalk-surface-above-ring</th>\n",
              "      <th>stalk-surface-below-ring</th>\n",
              "      <th>stalk-color-above-ring</th>\n",
              "      <th>stalk-color-below-ring</th>\n",
              "      <th>veil-type</th>\n",
              "      <th>veil-color</th>\n",
              "      <th>ring-number</th>\n",
              "      <th>ring-type</th>\n",
              "      <th>spore-print-color</th>\n",
              "      <th>population</th>\n",
              "      <th>habitat</th>\n",
              "    </tr>\n",
              "  </thead>\n",
              "  <tbody>\n",
              "    <tr>\n",
              "      <th>0</th>\n",
              "      <td>1</td>\n",
              "      <td>5</td>\n",
              "      <td>2</td>\n",
              "      <td>4</td>\n",
              "      <td>1</td>\n",
              "      <td>6</td>\n",
              "      <td>1</td>\n",
              "      <td>0</td>\n",
              "      <td>1</td>\n",
              "      <td>4</td>\n",
              "      <td>0</td>\n",
              "      <td>3</td>\n",
              "      <td>2</td>\n",
              "      <td>2</td>\n",
              "      <td>7</td>\n",
              "      <td>7</td>\n",
              "      <td>0</td>\n",
              "      <td>2</td>\n",
              "      <td>1</td>\n",
              "      <td>4</td>\n",
              "      <td>2</td>\n",
              "      <td>3</td>\n",
              "      <td>5</td>\n",
              "    </tr>\n",
              "    <tr>\n",
              "      <th>1</th>\n",
              "      <td>0</td>\n",
              "      <td>5</td>\n",
              "      <td>2</td>\n",
              "      <td>9</td>\n",
              "      <td>1</td>\n",
              "      <td>0</td>\n",
              "      <td>1</td>\n",
              "      <td>0</td>\n",
              "      <td>0</td>\n",
              "      <td>4</td>\n",
              "      <td>0</td>\n",
              "      <td>2</td>\n",
              "      <td>2</td>\n",
              "      <td>2</td>\n",
              "      <td>7</td>\n",
              "      <td>7</td>\n",
              "      <td>0</td>\n",
              "      <td>2</td>\n",
              "      <td>1</td>\n",
              "      <td>4</td>\n",
              "      <td>3</td>\n",
              "      <td>2</td>\n",
              "      <td>1</td>\n",
              "    </tr>\n",
              "  </tbody>\n",
              "</table>\n",
              "</div>"
            ],
            "text/plain": [
              "   class  cap-shape  cap-surface  ...  spore-print-color  population  habitat\n",
              "0      1          5            2  ...                  2           3        5\n",
              "1      0          5            2  ...                  3           2        1\n",
              "\n",
              "[2 rows x 23 columns]"
            ]
          },
          "metadata": {
            "tags": []
          },
          "execution_count": 7
        }
      ]
    },
    {
      "cell_type": "code",
      "metadata": {
        "id": "KtSxZcUKklWm",
        "colab_type": "code",
        "colab": {
          "base_uri": "https://localhost:8080/",
          "height": 338
        },
        "outputId": "66627fec-ae6a-428f-b11c-b4a4f532cf04"
      },
      "source": [
        "df.describe()"
      ],
      "execution_count": 8,
      "outputs": [
        {
          "output_type": "execute_result",
          "data": {
            "text/html": [
              "<div>\n",
              "<style scoped>\n",
              "    .dataframe tbody tr th:only-of-type {\n",
              "        vertical-align: middle;\n",
              "    }\n",
              "\n",
              "    .dataframe tbody tr th {\n",
              "        vertical-align: top;\n",
              "    }\n",
              "\n",
              "    .dataframe thead th {\n",
              "        text-align: right;\n",
              "    }\n",
              "</style>\n",
              "<table border=\"1\" class=\"dataframe\">\n",
              "  <thead>\n",
              "    <tr style=\"text-align: right;\">\n",
              "      <th></th>\n",
              "      <th>class</th>\n",
              "      <th>cap-shape</th>\n",
              "      <th>cap-surface</th>\n",
              "      <th>cap-color</th>\n",
              "      <th>bruises</th>\n",
              "      <th>odor</th>\n",
              "      <th>gill-attachment</th>\n",
              "      <th>gill-spacing</th>\n",
              "      <th>gill-size</th>\n",
              "      <th>gill-color</th>\n",
              "      <th>stalk-shape</th>\n",
              "      <th>stalk-root</th>\n",
              "      <th>stalk-surface-above-ring</th>\n",
              "      <th>stalk-surface-below-ring</th>\n",
              "      <th>stalk-color-above-ring</th>\n",
              "      <th>stalk-color-below-ring</th>\n",
              "      <th>veil-type</th>\n",
              "      <th>veil-color</th>\n",
              "      <th>ring-number</th>\n",
              "      <th>ring-type</th>\n",
              "      <th>spore-print-color</th>\n",
              "      <th>population</th>\n",
              "      <th>habitat</th>\n",
              "    </tr>\n",
              "  </thead>\n",
              "  <tbody>\n",
              "    <tr>\n",
              "      <th>count</th>\n",
              "      <td>8124.000000</td>\n",
              "      <td>8124.000000</td>\n",
              "      <td>8124.000000</td>\n",
              "      <td>8124.000000</td>\n",
              "      <td>8124.000000</td>\n",
              "      <td>8124.000000</td>\n",
              "      <td>8124.000000</td>\n",
              "      <td>8124.000000</td>\n",
              "      <td>8124.000000</td>\n",
              "      <td>8124.000000</td>\n",
              "      <td>8124.000000</td>\n",
              "      <td>8124.000000</td>\n",
              "      <td>8124.000000</td>\n",
              "      <td>8124.000000</td>\n",
              "      <td>8124.000000</td>\n",
              "      <td>8124.000000</td>\n",
              "      <td>8124.0</td>\n",
              "      <td>8124.000000</td>\n",
              "      <td>8124.000000</td>\n",
              "      <td>8124.000000</td>\n",
              "      <td>8124.000000</td>\n",
              "      <td>8124.000000</td>\n",
              "      <td>8124.000000</td>\n",
              "    </tr>\n",
              "    <tr>\n",
              "      <th>mean</th>\n",
              "      <td>0.482029</td>\n",
              "      <td>3.348104</td>\n",
              "      <td>1.827671</td>\n",
              "      <td>4.504677</td>\n",
              "      <td>0.415559</td>\n",
              "      <td>4.144756</td>\n",
              "      <td>0.974151</td>\n",
              "      <td>0.161497</td>\n",
              "      <td>0.309207</td>\n",
              "      <td>4.810684</td>\n",
              "      <td>0.567208</td>\n",
              "      <td>1.109798</td>\n",
              "      <td>1.575086</td>\n",
              "      <td>1.603644</td>\n",
              "      <td>5.816347</td>\n",
              "      <td>5.794682</td>\n",
              "      <td>0.0</td>\n",
              "      <td>1.965534</td>\n",
              "      <td>1.069424</td>\n",
              "      <td>2.291974</td>\n",
              "      <td>3.596750</td>\n",
              "      <td>3.644018</td>\n",
              "      <td>1.508616</td>\n",
              "    </tr>\n",
              "    <tr>\n",
              "      <th>std</th>\n",
              "      <td>0.499708</td>\n",
              "      <td>1.604329</td>\n",
              "      <td>1.229873</td>\n",
              "      <td>2.545821</td>\n",
              "      <td>0.492848</td>\n",
              "      <td>2.103729</td>\n",
              "      <td>0.158695</td>\n",
              "      <td>0.368011</td>\n",
              "      <td>0.462195</td>\n",
              "      <td>3.540359</td>\n",
              "      <td>0.495493</td>\n",
              "      <td>1.061106</td>\n",
              "      <td>0.621459</td>\n",
              "      <td>0.675974</td>\n",
              "      <td>1.901747</td>\n",
              "      <td>1.907291</td>\n",
              "      <td>0.0</td>\n",
              "      <td>0.242669</td>\n",
              "      <td>0.271064</td>\n",
              "      <td>1.801672</td>\n",
              "      <td>2.382663</td>\n",
              "      <td>1.252082</td>\n",
              "      <td>1.719975</td>\n",
              "    </tr>\n",
              "    <tr>\n",
              "      <th>min</th>\n",
              "      <td>0.000000</td>\n",
              "      <td>0.000000</td>\n",
              "      <td>0.000000</td>\n",
              "      <td>0.000000</td>\n",
              "      <td>0.000000</td>\n",
              "      <td>0.000000</td>\n",
              "      <td>0.000000</td>\n",
              "      <td>0.000000</td>\n",
              "      <td>0.000000</td>\n",
              "      <td>0.000000</td>\n",
              "      <td>0.000000</td>\n",
              "      <td>0.000000</td>\n",
              "      <td>0.000000</td>\n",
              "      <td>0.000000</td>\n",
              "      <td>0.000000</td>\n",
              "      <td>0.000000</td>\n",
              "      <td>0.0</td>\n",
              "      <td>0.000000</td>\n",
              "      <td>0.000000</td>\n",
              "      <td>0.000000</td>\n",
              "      <td>0.000000</td>\n",
              "      <td>0.000000</td>\n",
              "      <td>0.000000</td>\n",
              "    </tr>\n",
              "    <tr>\n",
              "      <th>25%</th>\n",
              "      <td>0.000000</td>\n",
              "      <td>2.000000</td>\n",
              "      <td>0.000000</td>\n",
              "      <td>3.000000</td>\n",
              "      <td>0.000000</td>\n",
              "      <td>2.000000</td>\n",
              "      <td>1.000000</td>\n",
              "      <td>0.000000</td>\n",
              "      <td>0.000000</td>\n",
              "      <td>2.000000</td>\n",
              "      <td>0.000000</td>\n",
              "      <td>0.000000</td>\n",
              "      <td>1.000000</td>\n",
              "      <td>1.000000</td>\n",
              "      <td>6.000000</td>\n",
              "      <td>6.000000</td>\n",
              "      <td>0.0</td>\n",
              "      <td>2.000000</td>\n",
              "      <td>1.000000</td>\n",
              "      <td>0.000000</td>\n",
              "      <td>2.000000</td>\n",
              "      <td>3.000000</td>\n",
              "      <td>0.000000</td>\n",
              "    </tr>\n",
              "    <tr>\n",
              "      <th>50%</th>\n",
              "      <td>0.000000</td>\n",
              "      <td>3.000000</td>\n",
              "      <td>2.000000</td>\n",
              "      <td>4.000000</td>\n",
              "      <td>0.000000</td>\n",
              "      <td>5.000000</td>\n",
              "      <td>1.000000</td>\n",
              "      <td>0.000000</td>\n",
              "      <td>0.000000</td>\n",
              "      <td>5.000000</td>\n",
              "      <td>1.000000</td>\n",
              "      <td>1.000000</td>\n",
              "      <td>2.000000</td>\n",
              "      <td>2.000000</td>\n",
              "      <td>7.000000</td>\n",
              "      <td>7.000000</td>\n",
              "      <td>0.0</td>\n",
              "      <td>2.000000</td>\n",
              "      <td>1.000000</td>\n",
              "      <td>2.000000</td>\n",
              "      <td>3.000000</td>\n",
              "      <td>4.000000</td>\n",
              "      <td>1.000000</td>\n",
              "    </tr>\n",
              "    <tr>\n",
              "      <th>75%</th>\n",
              "      <td>1.000000</td>\n",
              "      <td>5.000000</td>\n",
              "      <td>3.000000</td>\n",
              "      <td>8.000000</td>\n",
              "      <td>1.000000</td>\n",
              "      <td>5.000000</td>\n",
              "      <td>1.000000</td>\n",
              "      <td>0.000000</td>\n",
              "      <td>1.000000</td>\n",
              "      <td>7.000000</td>\n",
              "      <td>1.000000</td>\n",
              "      <td>1.000000</td>\n",
              "      <td>2.000000</td>\n",
              "      <td>2.000000</td>\n",
              "      <td>7.000000</td>\n",
              "      <td>7.000000</td>\n",
              "      <td>0.0</td>\n",
              "      <td>2.000000</td>\n",
              "      <td>1.000000</td>\n",
              "      <td>4.000000</td>\n",
              "      <td>7.000000</td>\n",
              "      <td>4.000000</td>\n",
              "      <td>2.000000</td>\n",
              "    </tr>\n",
              "    <tr>\n",
              "      <th>max</th>\n",
              "      <td>1.000000</td>\n",
              "      <td>5.000000</td>\n",
              "      <td>3.000000</td>\n",
              "      <td>9.000000</td>\n",
              "      <td>1.000000</td>\n",
              "      <td>8.000000</td>\n",
              "      <td>1.000000</td>\n",
              "      <td>1.000000</td>\n",
              "      <td>1.000000</td>\n",
              "      <td>11.000000</td>\n",
              "      <td>1.000000</td>\n",
              "      <td>4.000000</td>\n",
              "      <td>3.000000</td>\n",
              "      <td>3.000000</td>\n",
              "      <td>8.000000</td>\n",
              "      <td>8.000000</td>\n",
              "      <td>0.0</td>\n",
              "      <td>3.000000</td>\n",
              "      <td>2.000000</td>\n",
              "      <td>4.000000</td>\n",
              "      <td>8.000000</td>\n",
              "      <td>5.000000</td>\n",
              "      <td>6.000000</td>\n",
              "    </tr>\n",
              "  </tbody>\n",
              "</table>\n",
              "</div>"
            ],
            "text/plain": [
              "             class    cap-shape  ...   population      habitat\n",
              "count  8124.000000  8124.000000  ...  8124.000000  8124.000000\n",
              "mean      0.482029     3.348104  ...     3.644018     1.508616\n",
              "std       0.499708     1.604329  ...     1.252082     1.719975\n",
              "min       0.000000     0.000000  ...     0.000000     0.000000\n",
              "25%       0.000000     2.000000  ...     3.000000     0.000000\n",
              "50%       0.000000     3.000000  ...     4.000000     1.000000\n",
              "75%       1.000000     5.000000  ...     4.000000     2.000000\n",
              "max       1.000000     5.000000  ...     5.000000     6.000000\n",
              "\n",
              "[8 rows x 23 columns]"
            ]
          },
          "metadata": {
            "tags": []
          },
          "execution_count": 8
        }
      ]
    },
    {
      "cell_type": "markdown",
      "metadata": {
        "id": "psbR6cSqk4yj",
        "colab_type": "text"
      },
      "source": [
        "Data in veil-type column is useless so dropping it"
      ]
    },
    {
      "cell_type": "code",
      "metadata": {
        "id": "KKDrtO8CktrX",
        "colab_type": "code",
        "colab": {}
      },
      "source": [
        "df = df.drop([\"veil-type\"],axis=1)"
      ],
      "execution_count": 0,
      "outputs": []
    },
    {
      "cell_type": "markdown",
      "metadata": {
        "id": "ryJZtrgQllf_",
        "colab_type": "text"
      },
      "source": [
        "# Splitting dataframe into Input data and labels"
      ]
    },
    {
      "cell_type": "code",
      "metadata": {
        "id": "KkXdR999li0N",
        "colab_type": "code",
        "colab": {}
      },
      "source": [
        "X = df.drop(['class'], axis=1) # Input Data\n",
        "Y = df['class'] # Labels"
      ],
      "execution_count": 0,
      "outputs": []
    },
    {
      "cell_type": "markdown",
      "metadata": {
        "id": "h_rpVahkmVD0",
        "colab_type": "text"
      },
      "source": [
        "# Splitting the dataset into the Training set and Test set\n",
        "75% training , 25% Test"
      ]
    },
    {
      "cell_type": "code",
      "metadata": {
        "id": "cV3_BjOFlWeZ",
        "colab_type": "code",
        "colab": {}
      },
      "source": [
        "X_train, X_test, Y_train, Y_test = train_test_split(X, Y, test_size = 0.25, random_state = 0)"
      ],
      "execution_count": 0,
      "outputs": []
    },
    {
      "cell_type": "markdown",
      "metadata": {
        "id": "wSRcNOgUnUEp",
        "colab_type": "text"
      },
      "source": [
        "# Standardize Data / Feature scaling"
      ]
    },
    {
      "cell_type": "code",
      "metadata": {
        "id": "OopwWWcOnazj",
        "colab_type": "code",
        "colab": {
          "base_uri": "https://localhost:8080/",
          "height": 151
        },
        "outputId": "55423944-4f86-4360-8807-ecc63cc0b4ea"
      },
      "source": [
        "# Standard Scaler  z = (x - u) / s , data mean becomes 0 , 68% values [-1, 1]\n",
        "sc = StandardScaler() \n",
        "X_train = sc.fit_transform(X_train)\n",
        "X_test = sc.transform(X_test)\n",
        "\n",
        "# For visualization\n",
        "print(\"X Train : \", X_train[:1])\n",
        "print(\"X Train : \", X_test[:1])"
      ],
      "execution_count": 12,
      "outputs": [
        {
          "output_type": "stream",
          "text": [
            "X Train :  [[-0.84654963  0.9504593   1.79845965 -0.8420905  -1.0367657   0.15778108\n",
            "  -0.44045832 -0.67366879  0.61563494 -1.14825657 -0.10955511 -0.91793374\n",
            "  -0.89126531 -3.05061536 -0.94758559  0.13592587 -0.25771163 -0.15070459\n",
            "  -1.09502697  1.07975868 -0.29613015]]\n",
            "X Train :  [[ 1.03000635  0.9504593  -0.18431722  1.18752082  0.8771908   0.15778108\n",
            "  -0.44045832  1.48440898  0.61563494 -1.14825657  1.76286927  0.68326016\n",
            "   0.5864162   0.62112512  0.62919338  0.13592587 -0.25771163  0.95694689\n",
            "  -0.67527237 -0.50610841  2.02155899]]\n"
          ],
          "name": "stdout"
        }
      ]
    },
    {
      "cell_type": "markdown",
      "metadata": {
        "id": "WbVBCUWankUb",
        "colab_type": "text"
      },
      "source": [
        "# Building Models \n"
      ]
    },
    {
      "cell_type": "markdown",
      "metadata": {
        "id": "Ze2hkNXiwf6a",
        "colab_type": "text"
      },
      "source": [
        "# 1. Using Logistic Regression"
      ]
    },
    {
      "cell_type": "code",
      "metadata": {
        "id": "Vd5LluV-wuJH",
        "colab_type": "code",
        "colab": {
          "base_uri": "https://localhost:8080/",
          "height": 101
        },
        "outputId": "e0048155-4c5c-4b5a-f5ff-422ab2aaa96a"
      },
      "source": [
        "model_lr = LogisticRegression(random_state = 0, solver='lbfgs')\n",
        "model_lr.fit(X_train,Y_train)"
      ],
      "execution_count": 13,
      "outputs": [
        {
          "output_type": "execute_result",
          "data": {
            "text/plain": [
              "LogisticRegression(C=1.0, class_weight=None, dual=False, fit_intercept=True,\n",
              "                   intercept_scaling=1, l1_ratio=None, max_iter=100,\n",
              "                   multi_class='auto', n_jobs=None, penalty='l2',\n",
              "                   random_state=0, solver='lbfgs', tol=0.0001, verbose=0,\n",
              "                   warm_start=False)"
            ]
          },
          "metadata": {
            "tags": []
          },
          "execution_count": 13
        }
      ]
    },
    {
      "cell_type": "markdown",
      "metadata": {
        "id": "4LNPlXrRyPzW",
        "colab_type": "text"
      },
      "source": [
        "Metrics : Classification Accuracy"
      ]
    },
    {
      "cell_type": "code",
      "metadata": {
        "id": "jO9XHq8Kw2h1",
        "colab_type": "code",
        "colab": {
          "base_uri": "https://localhost:8080/",
          "height": 34
        },
        "outputId": "0f4561b2-d79c-4de4-b0d9-123a6a4118f7"
      },
      "source": [
        "acc_lr = model_lr.score(X_test,Y_test)\n",
        "print(\"Classification Accuracy : %.3f \" %  acc_lr)"
      ],
      "execution_count": 14,
      "outputs": [
        {
          "output_type": "stream",
          "text": [
            "Classification Accuracy : 0.951 \n"
          ],
          "name": "stdout"
        }
      ]
    },
    {
      "cell_type": "code",
      "metadata": {
        "id": "WkfwvAUtyxAc",
        "colab_type": "code",
        "colab": {
          "base_uri": "https://localhost:8080/",
          "height": 168
        },
        "outputId": "59e3c2ab-2249-42bd-b467-8457b04bee93"
      },
      "source": [
        "predicted = model_lr.predict(X_test)\n",
        "report = classification_report(Y_test, predicted)\n",
        "print(report)"
      ],
      "execution_count": 15,
      "outputs": [
        {
          "output_type": "stream",
          "text": [
            "              precision    recall  f1-score   support\n",
            "\n",
            "           0       0.95      0.96      0.95      1061\n",
            "           1       0.96      0.94      0.95       970\n",
            "\n",
            "    accuracy                           0.95      2031\n",
            "   macro avg       0.95      0.95      0.95      2031\n",
            "weighted avg       0.95      0.95      0.95      2031\n",
            "\n"
          ],
          "name": "stdout"
        }
      ]
    },
    {
      "cell_type": "markdown",
      "metadata": {
        "id": "xNh3_O2kyHFN",
        "colab_type": "text"
      },
      "source": [
        "# 2. Using SVM Classifier"
      ]
    },
    {
      "cell_type": "code",
      "metadata": {
        "id": "varmwVV1yGq9",
        "colab_type": "code",
        "colab": {
          "base_uri": "https://localhost:8080/",
          "height": 84
        },
        "outputId": "942bdbd1-8528-4de0-e697-731c70114e89"
      },
      "source": [
        "model_svm = svm.SVC(kernel='rbf',gamma=0.3,C=1)\n",
        "model_svm.fit(X_train,Y_train)"
      ],
      "execution_count": 16,
      "outputs": [
        {
          "output_type": "execute_result",
          "data": {
            "text/plain": [
              "SVC(C=1, break_ties=False, cache_size=200, class_weight=None, coef0=0.0,\n",
              "    decision_function_shape='ovr', degree=3, gamma=0.3, kernel='rbf',\n",
              "    max_iter=-1, probability=False, random_state=None, shrinking=True,\n",
              "    tol=0.001, verbose=False)"
            ]
          },
          "metadata": {
            "tags": []
          },
          "execution_count": 16
        }
      ]
    },
    {
      "cell_type": "code",
      "metadata": {
        "id": "gYCZ9XBPybda",
        "colab_type": "code",
        "colab": {
          "base_uri": "https://localhost:8080/",
          "height": 34
        },
        "outputId": "2db468b3-0545-4607-f46d-87e2af6e5bb3"
      },
      "source": [
        "acc_svm = model_svm.score(X_test,Y_test)\n",
        "print(\"Classification Accuracy : %.3f \" %  acc_svm)"
      ],
      "execution_count": 17,
      "outputs": [
        {
          "output_type": "stream",
          "text": [
            "Classification Accuracy : 1.000 \n"
          ],
          "name": "stdout"
        }
      ]
    },
    {
      "cell_type": "markdown",
      "metadata": {
        "id": "Bi5F_za8zV22",
        "colab_type": "text"
      },
      "source": [
        "Classification Report "
      ]
    },
    {
      "cell_type": "code",
      "metadata": {
        "id": "COEGFHKAzG3O",
        "colab_type": "code",
        "colab": {
          "base_uri": "https://localhost:8080/",
          "height": 168
        },
        "outputId": "3eb92f1a-6518-4d38-e5f6-992732a534d9"
      },
      "source": [
        "predicted = model_svm.predict(X_test)\n",
        "report = classification_report(Y_test, predicted)\n",
        "print(report)"
      ],
      "execution_count": 18,
      "outputs": [
        {
          "output_type": "stream",
          "text": [
            "              precision    recall  f1-score   support\n",
            "\n",
            "           0       1.00      1.00      1.00      1061\n",
            "           1       1.00      1.00      1.00       970\n",
            "\n",
            "    accuracy                           1.00      2031\n",
            "   macro avg       1.00      1.00      1.00      2031\n",
            "weighted avg       1.00      1.00      1.00      2031\n",
            "\n"
          ],
          "name": "stdout"
        }
      ]
    },
    {
      "cell_type": "markdown",
      "metadata": {
        "id": "a-5vOSv2v9bC",
        "colab_type": "text"
      },
      "source": [
        "# 3. Using Decision Tree Classifier"
      ]
    },
    {
      "cell_type": "code",
      "metadata": {
        "id": "72fABzxrnjPA",
        "colab_type": "code",
        "colab": {}
      },
      "source": [
        "classifier = DecisionTreeClassifier()\n",
        "classifier = classifier.fit(X_train, Y_train)"
      ],
      "execution_count": 0,
      "outputs": []
    },
    {
      "cell_type": "markdown",
      "metadata": {
        "id": "FV6RBe76zO9t",
        "colab_type": "text"
      },
      "source": [
        "Classification Report"
      ]
    },
    {
      "cell_type": "code",
      "metadata": {
        "id": "ZL889G8moJSA",
        "colab_type": "code",
        "colab": {
          "base_uri": "https://localhost:8080/",
          "height": 168
        },
        "outputId": "9d2e1113-2829-462e-80a1-bfbea88e2bdb"
      },
      "source": [
        "predicted = classifier.predict(X_test)\n",
        "report = classification_report(Y_test, predicted)\n",
        "print(report)"
      ],
      "execution_count": 20,
      "outputs": [
        {
          "output_type": "stream",
          "text": [
            "              precision    recall  f1-score   support\n",
            "\n",
            "           0       1.00      1.00      1.00      1061\n",
            "           1       1.00      1.00      1.00       970\n",
            "\n",
            "    accuracy                           1.00      2031\n",
            "   macro avg       1.00      1.00      1.00      2031\n",
            "weighted avg       1.00      1.00      1.00      2031\n",
            "\n"
          ],
          "name": "stdout"
        }
      ]
    },
    {
      "cell_type": "markdown",
      "metadata": {
        "id": "HZJn6LN6zd9s",
        "colab_type": "text"
      },
      "source": [
        "Visualise the decision tree"
      ]
    },
    {
      "cell_type": "code",
      "metadata": {
        "id": "IzOT9luSo-xQ",
        "colab_type": "code",
        "colab": {
          "base_uri": "https://localhost:8080/",
          "height": 1000
        },
        "outputId": "f39c6415-713e-4534-d4d7-3388289064bc"
      },
      "source": [
        "data = export_graphviz(classifier, out_file=None, \n",
        "                         feature_names=X.columns,  \n",
        "                         filled=True, rounded=True,  \n",
        "                         special_characters=True)  \n",
        "graph = graphviz.Source(data)  \n",
        "graph "
      ],
      "execution_count": 21,
      "outputs": [
        {
          "output_type": "execute_result",
          "data": {
            "text/plain": [
              "<graphviz.files.Source at 0x7ff0c32fb208>"
            ],
            "image/svg+xml": "<?xml version=\"1.0\" encoding=\"UTF-8\" standalone=\"no\"?>\n<!DOCTYPE svg PUBLIC \"-//W3C//DTD SVG 1.1//EN\"\n \"http://www.w3.org/Graphics/SVG/1.1/DTD/svg11.dtd\">\n<!-- Generated by graphviz version 2.40.1 (20161225.0304)\n -->\n<!-- Title: Tree Pages: 1 -->\n<svg width=\"1536pt\" height=\"789pt\"\n viewBox=\"0.00 0.00 1535.50 789.00\" xmlns=\"http://www.w3.org/2000/svg\" xmlns:xlink=\"http://www.w3.org/1999/xlink\">\n<g id=\"graph0\" class=\"graph\" transform=\"scale(1 1) rotate(0) translate(4 785)\">\n<title>Tree</title>\n<polygon fill=\"#ffffff\" stroke=\"transparent\" points=\"-4,4 -4,-785 1531.5,-785 1531.5,4 -4,4\"/>\n<!-- 0 -->\n<g id=\"node1\" class=\"node\">\n<title>0</title>\n<path fill=\"#fdf7f2\" stroke=\"#000000\" d=\"M661,-781C661,-781 536,-781 536,-781 530,-781 524,-775 524,-769 524,-769 524,-725 524,-725 524,-719 530,-713 536,-713 536,-713 661,-713 661,-713 667,-713 673,-719 673,-725 673,-725 673,-769 673,-769 673,-775 667,-781 661,-781\"/>\n<text text-anchor=\"start\" x=\"543.5\" y=\"-765.8\" font-family=\"Helvetica,sans-Serif\" font-size=\"14.00\" fill=\"#000000\">gill&#45;color ≤ &#45;0.371</text>\n<text text-anchor=\"start\" x=\"560.5\" y=\"-750.8\" font-family=\"Helvetica,sans-Serif\" font-size=\"14.00\" fill=\"#000000\">gini = 0.499</text>\n<text text-anchor=\"start\" x=\"546.5\" y=\"-735.8\" font-family=\"Helvetica,sans-Serif\" font-size=\"14.00\" fill=\"#000000\">samples = 6093</text>\n<text text-anchor=\"start\" x=\"532\" y=\"-720.8\" font-family=\"Helvetica,sans-Serif\" font-size=\"14.00\" fill=\"#000000\">value = [3147, 2946]</text>\n</g>\n<!-- 1 -->\n<g id=\"node2\" class=\"node\">\n<title>1</title>\n<path fill=\"#60b0ea\" stroke=\"#000000\" d=\"M501.5,-677C501.5,-677 385.5,-677 385.5,-677 379.5,-677 373.5,-671 373.5,-665 373.5,-665 373.5,-621 373.5,-621 373.5,-615 379.5,-609 385.5,-609 385.5,-609 501.5,-609 501.5,-609 507.5,-609 513.5,-615 513.5,-621 513.5,-621 513.5,-665 513.5,-665 513.5,-671 507.5,-677 501.5,-677\"/>\n<text text-anchor=\"start\" x=\"385.5\" y=\"-661.8\" font-family=\"Helvetica,sans-Serif\" font-size=\"14.00\" fill=\"#000000\">population ≤ &#45;0.11</text>\n<text text-anchor=\"start\" x=\"405.5\" y=\"-646.8\" font-family=\"Helvetica,sans-Serif\" font-size=\"14.00\" fill=\"#000000\">gini = 0.273</text>\n<text text-anchor=\"start\" x=\"391.5\" y=\"-631.8\" font-family=\"Helvetica,sans-Serif\" font-size=\"14.00\" fill=\"#000000\">samples = 2480</text>\n<text text-anchor=\"start\" x=\"381.5\" y=\"-616.8\" font-family=\"Helvetica,sans-Serif\" font-size=\"14.00\" fill=\"#000000\">value = [404, 2076]</text>\n</g>\n<!-- 0&#45;&gt;1 -->\n<g id=\"edge1\" class=\"edge\">\n<title>0&#45;&gt;1</title>\n<path fill=\"none\" stroke=\"#000000\" d=\"M547.7472,-712.9465C533.429,-703.3395 517.7225,-692.8009 502.9437,-682.8848\"/>\n<polygon fill=\"#000000\" stroke=\"#000000\" points=\"504.6209,-679.7953 494.3668,-677.13 500.7207,-685.6081 504.6209,-679.7953\"/>\n<text text-anchor=\"middle\" x=\"499.1969\" y=\"-697.959\" font-family=\"Helvetica,sans-Serif\" font-size=\"14.00\" fill=\"#000000\">True</text>\n</g>\n<!-- 14 -->\n<g id=\"node15\" class=\"node\">\n<title>14</title>\n<path fill=\"#eda978\" stroke=\"#000000\" d=\"M829.5,-677C829.5,-677 675.5,-677 675.5,-677 669.5,-677 663.5,-671 663.5,-665 663.5,-665 663.5,-621 663.5,-621 663.5,-615 669.5,-609 675.5,-609 675.5,-609 829.5,-609 829.5,-609 835.5,-609 841.5,-615 841.5,-621 841.5,-621 841.5,-665 841.5,-665 841.5,-671 835.5,-677 829.5,-677\"/>\n<text text-anchor=\"start\" x=\"671.5\" y=\"-661.8\" font-family=\"Helvetica,sans-Serif\" font-size=\"14.00\" fill=\"#000000\">spore&#45;print&#45;color ≤ &#45;0.885</text>\n<text text-anchor=\"start\" x=\"714.5\" y=\"-646.8\" font-family=\"Helvetica,sans-Serif\" font-size=\"14.00\" fill=\"#000000\">gini = 0.366</text>\n<text text-anchor=\"start\" x=\"700.5\" y=\"-631.8\" font-family=\"Helvetica,sans-Serif\" font-size=\"14.00\" fill=\"#000000\">samples = 3613</text>\n<text text-anchor=\"start\" x=\"690.5\" y=\"-616.8\" font-family=\"Helvetica,sans-Serif\" font-size=\"14.00\" fill=\"#000000\">value = [2743, 870]</text>\n</g>\n<!-- 0&#45;&gt;14 -->\n<g id=\"edge14\" class=\"edge\">\n<title>0&#45;&gt;14</title>\n<path fill=\"none\" stroke=\"#000000\" d=\"M648.9254,-712.9465C663.1512,-703.3395 678.7563,-692.8009 693.4398,-682.8848\"/>\n<polygon fill=\"#000000\" stroke=\"#000000\" points=\"695.6329,-685.6272 701.9614,-677.13 691.7153,-679.8261 695.6329,-685.6272\"/>\n<text text-anchor=\"middle\" x=\"697.2049\" y=\"-697.9733\" font-family=\"Helvetica,sans-Serif\" font-size=\"14.00\" fill=\"#000000\">False</text>\n</g>\n<!-- 2 -->\n<g id=\"node3\" class=\"node\">\n<title>2</title>\n<path fill=\"#e99355\" stroke=\"#000000\" d=\"M264.5,-573C264.5,-573 110.5,-573 110.5,-573 104.5,-573 98.5,-567 98.5,-561 98.5,-561 98.5,-517 98.5,-517 98.5,-511 104.5,-505 110.5,-505 110.5,-505 264.5,-505 264.5,-505 270.5,-505 276.5,-511 276.5,-517 276.5,-517 276.5,-561 276.5,-561 276.5,-567 270.5,-573 264.5,-573\"/>\n<text text-anchor=\"start\" x=\"106.5\" y=\"-557.8\" font-family=\"Helvetica,sans-Serif\" font-size=\"14.00\" fill=\"#000000\">spore&#45;print&#45;color ≤ &#45;0.885</text>\n<text text-anchor=\"start\" x=\"149.5\" y=\"-542.8\" font-family=\"Helvetica,sans-Serif\" font-size=\"14.00\" fill=\"#000000\">gini = 0.215</text>\n<text text-anchor=\"start\" x=\"139.5\" y=\"-527.8\" font-family=\"Helvetica,sans-Serif\" font-size=\"14.00\" fill=\"#000000\">samples = 432</text>\n<text text-anchor=\"start\" x=\"133.5\" y=\"-512.8\" font-family=\"Helvetica,sans-Serif\" font-size=\"14.00\" fill=\"#000000\">value = [379, 53]</text>\n</g>\n<!-- 1&#45;&gt;2 -->\n<g id=\"edge2\" class=\"edge\">\n<title>1&#45;&gt;2</title>\n<path fill=\"none\" stroke=\"#000000\" d=\"M373.2083,-614.444C344.6358,-602.8364 311.2113,-589.2577 280.6546,-576.844\"/>\n<polygon fill=\"#000000\" stroke=\"#000000\" points=\"281.8541,-573.5536 271.2721,-573.0324 279.2194,-580.0389 281.8541,-573.5536\"/>\n</g>\n<!-- 7 -->\n<g id=\"node8\" class=\"node\">\n<title>7</title>\n<path fill=\"#3b9ee5\" stroke=\"#000000\" d=\"M497.5,-573C497.5,-573 389.5,-573 389.5,-573 383.5,-573 377.5,-567 377.5,-561 377.5,-561 377.5,-517 377.5,-517 377.5,-511 383.5,-505 389.5,-505 389.5,-505 497.5,-505 497.5,-505 503.5,-505 509.5,-511 509.5,-517 509.5,-517 509.5,-561 509.5,-561 509.5,-567 503.5,-573 497.5,-573\"/>\n<text text-anchor=\"start\" x=\"387.5\" y=\"-557.8\" font-family=\"Helvetica,sans-Serif\" font-size=\"14.00\" fill=\"#000000\">stalk&#45;root ≤ 0.827</text>\n<text text-anchor=\"start\" x=\"405.5\" y=\"-542.8\" font-family=\"Helvetica,sans-Serif\" font-size=\"14.00\" fill=\"#000000\">gini = 0.024</text>\n<text text-anchor=\"start\" x=\"391.5\" y=\"-527.8\" font-family=\"Helvetica,sans-Serif\" font-size=\"14.00\" fill=\"#000000\">samples = 2048</text>\n<text text-anchor=\"start\" x=\"385.5\" y=\"-512.8\" font-family=\"Helvetica,sans-Serif\" font-size=\"14.00\" fill=\"#000000\">value = [25, 2023]</text>\n</g>\n<!-- 1&#45;&gt;7 -->\n<g id=\"edge7\" class=\"edge\">\n<title>1&#45;&gt;7</title>\n<path fill=\"none\" stroke=\"#000000\" d=\"M443.5,-608.9465C443.5,-600.776 443.5,-591.9318 443.5,-583.3697\"/>\n<polygon fill=\"#000000\" stroke=\"#000000\" points=\"447.0001,-583.13 443.5,-573.13 440.0001,-583.13 447.0001,-583.13\"/>\n</g>\n<!-- 3 -->\n<g id=\"node4\" class=\"node\">\n<title>3</title>\n<path fill=\"#399de5\" stroke=\"#000000\" d=\"M95,-461.5C95,-461.5 12,-461.5 12,-461.5 6,-461.5 0,-455.5 0,-449.5 0,-449.5 0,-420.5 0,-420.5 0,-414.5 6,-408.5 12,-408.5 12,-408.5 95,-408.5 95,-408.5 101,-408.5 107,-414.5 107,-420.5 107,-420.5 107,-449.5 107,-449.5 107,-455.5 101,-461.5 95,-461.5\"/>\n<text text-anchor=\"start\" x=\"24\" y=\"-446.3\" font-family=\"Helvetica,sans-Serif\" font-size=\"14.00\" fill=\"#000000\">gini = 0.0</text>\n<text text-anchor=\"start\" x=\"9.5\" y=\"-431.3\" font-family=\"Helvetica,sans-Serif\" font-size=\"14.00\" fill=\"#000000\">samples = 37</text>\n<text text-anchor=\"start\" x=\"8\" y=\"-416.3\" font-family=\"Helvetica,sans-Serif\" font-size=\"14.00\" fill=\"#000000\">value = [0, 37]</text>\n</g>\n<!-- 2&#45;&gt;3 -->\n<g id=\"edge3\" class=\"edge\">\n<title>2&#45;&gt;3</title>\n<path fill=\"none\" stroke=\"#000000\" d=\"M143.6234,-504.9465C128.2957,-493.0504 111.1277,-479.726 95.9209,-467.9237\"/>\n<polygon fill=\"#000000\" stroke=\"#000000\" points=\"97.7444,-464.9085 87.6986,-461.5422 93.4525,-470.4384 97.7444,-464.9085\"/>\n</g>\n<!-- 4 -->\n<g id=\"node5\" class=\"node\">\n<title>4</title>\n<path fill=\"#e68641\" stroke=\"#000000\" d=\"M237.5,-469C237.5,-469 137.5,-469 137.5,-469 131.5,-469 125.5,-463 125.5,-457 125.5,-457 125.5,-413 125.5,-413 125.5,-407 131.5,-401 137.5,-401 137.5,-401 237.5,-401 237.5,-401 243.5,-401 249.5,-407 249.5,-413 249.5,-413 249.5,-457 249.5,-457 249.5,-463 243.5,-469 237.5,-469\"/>\n<text text-anchor=\"start\" x=\"137.5\" y=\"-453.8\" font-family=\"Helvetica,sans-Serif\" font-size=\"14.00\" fill=\"#000000\">gill&#45;size ≤ 0.405</text>\n<text text-anchor=\"start\" x=\"149.5\" y=\"-438.8\" font-family=\"Helvetica,sans-Serif\" font-size=\"14.00\" fill=\"#000000\">gini = 0.078</text>\n<text text-anchor=\"start\" x=\"139.5\" y=\"-423.8\" font-family=\"Helvetica,sans-Serif\" font-size=\"14.00\" fill=\"#000000\">samples = 395</text>\n<text text-anchor=\"start\" x=\"133.5\" y=\"-408.8\" font-family=\"Helvetica,sans-Serif\" font-size=\"14.00\" fill=\"#000000\">value = [379, 16]</text>\n</g>\n<!-- 2&#45;&gt;4 -->\n<g id=\"edge4\" class=\"edge\">\n<title>2&#45;&gt;4</title>\n<path fill=\"none\" stroke=\"#000000\" d=\"M187.5,-504.9465C187.5,-496.776 187.5,-487.9318 187.5,-479.3697\"/>\n<polygon fill=\"#000000\" stroke=\"#000000\" points=\"191.0001,-479.13 187.5,-469.13 184.0001,-479.13 191.0001,-479.13\"/>\n</g>\n<!-- 5 -->\n<g id=\"node6\" class=\"node\">\n<title>5</title>\n<path fill=\"#e58139\" stroke=\"#000000\" d=\"M117.5,-357.5C117.5,-357.5 25.5,-357.5 25.5,-357.5 19.5,-357.5 13.5,-351.5 13.5,-345.5 13.5,-345.5 13.5,-316.5 13.5,-316.5 13.5,-310.5 19.5,-304.5 25.5,-304.5 25.5,-304.5 117.5,-304.5 117.5,-304.5 123.5,-304.5 129.5,-310.5 129.5,-316.5 129.5,-316.5 129.5,-345.5 129.5,-345.5 129.5,-351.5 123.5,-357.5 117.5,-357.5\"/>\n<text text-anchor=\"start\" x=\"42\" y=\"-342.3\" font-family=\"Helvetica,sans-Serif\" font-size=\"14.00\" fill=\"#000000\">gini = 0.0</text>\n<text text-anchor=\"start\" x=\"23.5\" y=\"-327.3\" font-family=\"Helvetica,sans-Serif\" font-size=\"14.00\" fill=\"#000000\">samples = 379</text>\n<text text-anchor=\"start\" x=\"21.5\" y=\"-312.3\" font-family=\"Helvetica,sans-Serif\" font-size=\"14.00\" fill=\"#000000\">value = [379, 0]</text>\n</g>\n<!-- 4&#45;&gt;5 -->\n<g id=\"edge5\" class=\"edge\">\n<title>4&#45;&gt;5</title>\n<path fill=\"none\" stroke=\"#000000\" d=\"M149.5173,-400.9465C136.3714,-389.1606 121.6618,-375.9726 108.5887,-364.2519\"/>\n<polygon fill=\"#000000\" stroke=\"#000000\" points=\"110.8869,-361.6116 101.1047,-357.5422 106.214,-366.8236 110.8869,-361.6116\"/>\n</g>\n<!-- 6 -->\n<g id=\"node7\" class=\"node\">\n<title>6</title>\n<path fill=\"#399de5\" stroke=\"#000000\" d=\"M243,-357.5C243,-357.5 160,-357.5 160,-357.5 154,-357.5 148,-351.5 148,-345.5 148,-345.5 148,-316.5 148,-316.5 148,-310.5 154,-304.5 160,-304.5 160,-304.5 243,-304.5 243,-304.5 249,-304.5 255,-310.5 255,-316.5 255,-316.5 255,-345.5 255,-345.5 255,-351.5 249,-357.5 243,-357.5\"/>\n<text text-anchor=\"start\" x=\"172\" y=\"-342.3\" font-family=\"Helvetica,sans-Serif\" font-size=\"14.00\" fill=\"#000000\">gini = 0.0</text>\n<text text-anchor=\"start\" x=\"157.5\" y=\"-327.3\" font-family=\"Helvetica,sans-Serif\" font-size=\"14.00\" fill=\"#000000\">samples = 16</text>\n<text text-anchor=\"start\" x=\"156\" y=\"-312.3\" font-family=\"Helvetica,sans-Serif\" font-size=\"14.00\" fill=\"#000000\">value = [0, 16]</text>\n</g>\n<!-- 4&#45;&gt;6 -->\n<g id=\"edge6\" class=\"edge\">\n<title>4&#45;&gt;6</title>\n<path fill=\"none\" stroke=\"#000000\" d=\"M192.0841,-400.9465C193.5224,-390.2621 195.1158,-378.4254 196.5765,-367.5742\"/>\n<polygon fill=\"#000000\" stroke=\"#000000\" points=\"200.0615,-367.9197 197.927,-357.5422 193.1241,-366.9858 200.0615,-367.9197\"/>\n</g>\n<!-- 8 -->\n<g id=\"node9\" class=\"node\">\n<title>8</title>\n<path fill=\"#3a9de5\" stroke=\"#000000\" d=\"M473.5,-469C473.5,-469 279.5,-469 279.5,-469 273.5,-469 267.5,-463 267.5,-457 267.5,-457 267.5,-413 267.5,-413 267.5,-407 273.5,-401 279.5,-401 279.5,-401 473.5,-401 473.5,-401 479.5,-401 485.5,-407 485.5,-413 485.5,-413 485.5,-457 485.5,-457 485.5,-463 479.5,-469 473.5,-469\"/>\n<text text-anchor=\"start\" x=\"275.5\" y=\"-453.8\" font-family=\"Helvetica,sans-Serif\" font-size=\"14.00\" fill=\"#000000\">stalk&#45;surface&#45;below&#45;ring ≤ &#45;1.63</text>\n<text text-anchor=\"start\" x=\"338.5\" y=\"-438.8\" font-family=\"Helvetica,sans-Serif\" font-size=\"14.00\" fill=\"#000000\">gini = 0.009</text>\n<text text-anchor=\"start\" x=\"324.5\" y=\"-423.8\" font-family=\"Helvetica,sans-Serif\" font-size=\"14.00\" fill=\"#000000\">samples = 2032</text>\n<text text-anchor=\"start\" x=\"322.5\" y=\"-408.8\" font-family=\"Helvetica,sans-Serif\" font-size=\"14.00\" fill=\"#000000\">value = [9, 2023]</text>\n</g>\n<!-- 7&#45;&gt;8 -->\n<g id=\"edge8\" class=\"edge\">\n<title>7&#45;&gt;8</title>\n<path fill=\"none\" stroke=\"#000000\" d=\"M421.5617,-504.9465C415.951,-496.2373 409.8471,-486.7626 403.9958,-477.6801\"/>\n<polygon fill=\"#000000\" stroke=\"#000000\" points=\"406.8457,-475.641 398.4876,-469.13 400.9611,-479.4321 406.8457,-475.641\"/>\n</g>\n<!-- 13 -->\n<g id=\"node14\" class=\"node\">\n<title>13</title>\n<path fill=\"#e58139\" stroke=\"#000000\" d=\"M599,-461.5C599,-461.5 516,-461.5 516,-461.5 510,-461.5 504,-455.5 504,-449.5 504,-449.5 504,-420.5 504,-420.5 504,-414.5 510,-408.5 516,-408.5 516,-408.5 599,-408.5 599,-408.5 605,-408.5 611,-414.5 611,-420.5 611,-420.5 611,-449.5 611,-449.5 611,-455.5 605,-461.5 599,-461.5\"/>\n<text text-anchor=\"start\" x=\"528\" y=\"-446.3\" font-family=\"Helvetica,sans-Serif\" font-size=\"14.00\" fill=\"#000000\">gini = 0.0</text>\n<text text-anchor=\"start\" x=\"513.5\" y=\"-431.3\" font-family=\"Helvetica,sans-Serif\" font-size=\"14.00\" fill=\"#000000\">samples = 16</text>\n<text text-anchor=\"start\" x=\"512\" y=\"-416.3\" font-family=\"Helvetica,sans-Serif\" font-size=\"14.00\" fill=\"#000000\">value = [16, 0]</text>\n</g>\n<!-- 7&#45;&gt;13 -->\n<g id=\"edge13\" class=\"edge\">\n<title>7&#45;&gt;13</title>\n<path fill=\"none\" stroke=\"#000000\" d=\"M480.8279,-504.9465C493.6263,-493.2707 507.933,-480.219 520.6901,-468.5809\"/>\n<polygon fill=\"#000000\" stroke=\"#000000\" points=\"523.3769,-470.8675 528.4057,-461.5422 518.6591,-465.6961 523.3769,-470.8675\"/>\n</g>\n<!-- 9 -->\n<g id=\"node10\" class=\"node\">\n<title>9</title>\n<path fill=\"#9ccef2\" stroke=\"#000000\" d=\"M413,-365C413,-365 312,-365 312,-365 306,-365 300,-359 300,-353 300,-353 300,-309 300,-309 300,-303 306,-297 312,-297 312,-297 413,-297 413,-297 419,-297 425,-303 425,-309 425,-309 425,-353 425,-353 425,-359 419,-365 413,-365\"/>\n<text text-anchor=\"start\" x=\"308\" y=\"-349.8\" font-family=\"Helvetica,sans-Serif\" font-size=\"14.00\" fill=\"#000000\">ring&#45;type ≤ 0.126</text>\n<text text-anchor=\"start\" x=\"324.5\" y=\"-334.8\" font-family=\"Helvetica,sans-Serif\" font-size=\"14.00\" fill=\"#000000\">gini = 0.444</text>\n<text text-anchor=\"start\" x=\"318.5\" y=\"-319.8\" font-family=\"Helvetica,sans-Serif\" font-size=\"14.00\" fill=\"#000000\">samples = 27</text>\n<text text-anchor=\"start\" x=\"317\" y=\"-304.8\" font-family=\"Helvetica,sans-Serif\" font-size=\"14.00\" fill=\"#000000\">value = [9, 18]</text>\n</g>\n<!-- 8&#45;&gt;9 -->\n<g id=\"edge9\" class=\"edge\">\n<title>8&#45;&gt;9</title>\n<path fill=\"none\" stroke=\"#000000\" d=\"M371.9159,-400.9465C370.8039,-392.6863 369.5993,-383.7374 368.4349,-375.0875\"/>\n<polygon fill=\"#000000\" stroke=\"#000000\" points=\"371.8973,-374.5736 367.0944,-365.13 364.9599,-375.5076 371.8973,-374.5736\"/>\n</g>\n<!-- 12 -->\n<g id=\"node13\" class=\"node\">\n<title>12</title>\n<path fill=\"#399de5\" stroke=\"#000000\" d=\"M555.5,-357.5C555.5,-357.5 455.5,-357.5 455.5,-357.5 449.5,-357.5 443.5,-351.5 443.5,-345.5 443.5,-345.5 443.5,-316.5 443.5,-316.5 443.5,-310.5 449.5,-304.5 455.5,-304.5 455.5,-304.5 555.5,-304.5 555.5,-304.5 561.5,-304.5 567.5,-310.5 567.5,-316.5 567.5,-316.5 567.5,-345.5 567.5,-345.5 567.5,-351.5 561.5,-357.5 555.5,-357.5\"/>\n<text text-anchor=\"start\" x=\"476\" y=\"-342.3\" font-family=\"Helvetica,sans-Serif\" font-size=\"14.00\" fill=\"#000000\">gini = 0.0</text>\n<text text-anchor=\"start\" x=\"453.5\" y=\"-327.3\" font-family=\"Helvetica,sans-Serif\" font-size=\"14.00\" fill=\"#000000\">samples = 2005</text>\n<text text-anchor=\"start\" x=\"451.5\" y=\"-312.3\" font-family=\"Helvetica,sans-Serif\" font-size=\"14.00\" fill=\"#000000\">value = [0, 2005]</text>\n</g>\n<!-- 8&#45;&gt;12 -->\n<g id=\"edge12\" class=\"edge\">\n<title>8&#45;&gt;12</title>\n<path fill=\"none\" stroke=\"#000000\" d=\"M418.7394,-400.9465C433.4952,-389.0504 450.0225,-375.726 464.662,-363.9237\"/>\n<polygon fill=\"#000000\" stroke=\"#000000\" points=\"466.9891,-366.5433 472.5775,-357.5422 462.5957,-361.0938 466.9891,-366.5433\"/>\n</g>\n<!-- 10 -->\n<g id=\"node11\" class=\"node\">\n<title>10</title>\n<path fill=\"#e58139\" stroke=\"#000000\" d=\"M339,-253.5C339,-253.5 264,-253.5 264,-253.5 258,-253.5 252,-247.5 252,-241.5 252,-241.5 252,-212.5 252,-212.5 252,-206.5 258,-200.5 264,-200.5 264,-200.5 339,-200.5 339,-200.5 345,-200.5 351,-206.5 351,-212.5 351,-212.5 351,-241.5 351,-241.5 351,-247.5 345,-253.5 339,-253.5\"/>\n<text text-anchor=\"start\" x=\"272\" y=\"-238.3\" font-family=\"Helvetica,sans-Serif\" font-size=\"14.00\" fill=\"#000000\">gini = 0.0</text>\n<text text-anchor=\"start\" x=\"262\" y=\"-223.3\" font-family=\"Helvetica,sans-Serif\" font-size=\"14.00\" fill=\"#000000\">samples = 9</text>\n<text text-anchor=\"start\" x=\"260\" y=\"-208.3\" font-family=\"Helvetica,sans-Serif\" font-size=\"14.00\" fill=\"#000000\">value = [9, 0]</text>\n</g>\n<!-- 9&#45;&gt;10 -->\n<g id=\"edge10\" class=\"edge\">\n<title>9&#45;&gt;10</title>\n<path fill=\"none\" stroke=\"#000000\" d=\"M342.5263,-296.9465C336.001,-285.8215 328.7431,-273.4473 322.1678,-262.237\"/>\n<polygon fill=\"#000000\" stroke=\"#000000\" points=\"325.1464,-260.3971 317.068,-253.5422 319.1084,-263.9387 325.1464,-260.3971\"/>\n</g>\n<!-- 11 -->\n<g id=\"node12\" class=\"node\">\n<title>11</title>\n<path fill=\"#399de5\" stroke=\"#000000\" d=\"M464,-253.5C464,-253.5 381,-253.5 381,-253.5 375,-253.5 369,-247.5 369,-241.5 369,-241.5 369,-212.5 369,-212.5 369,-206.5 375,-200.5 381,-200.5 381,-200.5 464,-200.5 464,-200.5 470,-200.5 476,-206.5 476,-212.5 476,-212.5 476,-241.5 476,-241.5 476,-247.5 470,-253.5 464,-253.5\"/>\n<text text-anchor=\"start\" x=\"393\" y=\"-238.3\" font-family=\"Helvetica,sans-Serif\" font-size=\"14.00\" fill=\"#000000\">gini = 0.0</text>\n<text text-anchor=\"start\" x=\"378.5\" y=\"-223.3\" font-family=\"Helvetica,sans-Serif\" font-size=\"14.00\" fill=\"#000000\">samples = 18</text>\n<text text-anchor=\"start\" x=\"377\" y=\"-208.3\" font-family=\"Helvetica,sans-Serif\" font-size=\"14.00\" fill=\"#000000\">value = [0, 18]</text>\n</g>\n<!-- 9&#45;&gt;11 -->\n<g id=\"edge11\" class=\"edge\">\n<title>9&#45;&gt;11</title>\n<path fill=\"none\" stroke=\"#000000\" d=\"M382.1462,-296.9465C388.5645,-285.8215 395.7035,-273.4473 402.171,-262.237\"/>\n<polygon fill=\"#000000\" stroke=\"#000000\" points=\"405.2216,-263.9531 407.1872,-253.5422 399.1583,-260.455 405.2216,-263.9531\"/>\n</g>\n<!-- 15 -->\n<g id=\"node16\" class=\"node\">\n<title>15</title>\n<path fill=\"#55abe9\" stroke=\"#000000\" d=\"M802.5,-573C802.5,-573 702.5,-573 702.5,-573 696.5,-573 690.5,-567 690.5,-561 690.5,-561 690.5,-517 690.5,-517 690.5,-511 696.5,-505 702.5,-505 702.5,-505 802.5,-505 802.5,-505 808.5,-505 814.5,-511 814.5,-517 814.5,-517 814.5,-561 814.5,-561 814.5,-567 808.5,-573 802.5,-573\"/>\n<text text-anchor=\"start\" x=\"709.5\" y=\"-557.8\" font-family=\"Helvetica,sans-Serif\" font-size=\"14.00\" fill=\"#000000\">odor ≤ &#45;0.319</text>\n<text text-anchor=\"start\" x=\"714.5\" y=\"-542.8\" font-family=\"Helvetica,sans-Serif\" font-size=\"14.00\" fill=\"#000000\">gini = 0.217</text>\n<text text-anchor=\"start\" x=\"704.5\" y=\"-527.8\" font-family=\"Helvetica,sans-Serif\" font-size=\"14.00\" fill=\"#000000\">samples = 517</text>\n<text text-anchor=\"start\" x=\"698.5\" y=\"-512.8\" font-family=\"Helvetica,sans-Serif\" font-size=\"14.00\" fill=\"#000000\">value = [64, 453]</text>\n</g>\n<!-- 14&#45;&gt;15 -->\n<g id=\"edge15\" class=\"edge\">\n<title>14&#45;&gt;15</title>\n<path fill=\"none\" stroke=\"#000000\" d=\"M752.5,-608.9465C752.5,-600.776 752.5,-591.9318 752.5,-583.3697\"/>\n<polygon fill=\"#000000\" stroke=\"#000000\" points=\"756.0001,-583.13 752.5,-573.13 749.0001,-583.13 756.0001,-583.13\"/>\n</g>\n<!-- 18 -->\n<g id=\"node19\" class=\"node\">\n<title>18</title>\n<path fill=\"#e99558\" stroke=\"#000000\" d=\"M1053.5,-573C1053.5,-573 937.5,-573 937.5,-573 931.5,-573 925.5,-567 925.5,-561 925.5,-561 925.5,-517 925.5,-517 925.5,-511 931.5,-505 937.5,-505 937.5,-505 1053.5,-505 1053.5,-505 1059.5,-505 1065.5,-511 1065.5,-517 1065.5,-517 1065.5,-561 1065.5,-561 1065.5,-567 1059.5,-573 1053.5,-573\"/>\n<text text-anchor=\"start\" x=\"945.5\" y=\"-557.8\" font-family=\"Helvetica,sans-Serif\" font-size=\"14.00\" fill=\"#000000\">gill&#45;size ≤ 0.405</text>\n<text text-anchor=\"start\" x=\"957.5\" y=\"-542.8\" font-family=\"Helvetica,sans-Serif\" font-size=\"14.00\" fill=\"#000000\">gini = 0.233</text>\n<text text-anchor=\"start\" x=\"943.5\" y=\"-527.8\" font-family=\"Helvetica,sans-Serif\" font-size=\"14.00\" fill=\"#000000\">samples = 3096</text>\n<text text-anchor=\"start\" x=\"933.5\" y=\"-512.8\" font-family=\"Helvetica,sans-Serif\" font-size=\"14.00\" fill=\"#000000\">value = [2679, 417]</text>\n</g>\n<!-- 14&#45;&gt;18 -->\n<g id=\"edge18\" class=\"edge\">\n<title>14&#45;&gt;18</title>\n<path fill=\"none\" stroke=\"#000000\" d=\"M832.0673,-608.9465C858.9357,-597.4473 888.9224,-584.6134 915.801,-573.1099\"/>\n<polygon fill=\"#000000\" stroke=\"#000000\" points=\"917.3522,-576.2531 925.1685,-569.1007 914.5979,-569.8177 917.3522,-576.2531\"/>\n</g>\n<!-- 16 -->\n<g id=\"node17\" class=\"node\">\n<title>16</title>\n<path fill=\"#399de5\" stroke=\"#000000\" d=\"M733.5,-461.5C733.5,-461.5 641.5,-461.5 641.5,-461.5 635.5,-461.5 629.5,-455.5 629.5,-449.5 629.5,-449.5 629.5,-420.5 629.5,-420.5 629.5,-414.5 635.5,-408.5 641.5,-408.5 641.5,-408.5 733.5,-408.5 733.5,-408.5 739.5,-408.5 745.5,-414.5 745.5,-420.5 745.5,-420.5 745.5,-449.5 745.5,-449.5 745.5,-455.5 739.5,-461.5 733.5,-461.5\"/>\n<text text-anchor=\"start\" x=\"658\" y=\"-446.3\" font-family=\"Helvetica,sans-Serif\" font-size=\"14.00\" fill=\"#000000\">gini = 0.0</text>\n<text text-anchor=\"start\" x=\"639.5\" y=\"-431.3\" font-family=\"Helvetica,sans-Serif\" font-size=\"14.00\" fill=\"#000000\">samples = 453</text>\n<text text-anchor=\"start\" x=\"637.5\" y=\"-416.3\" font-family=\"Helvetica,sans-Serif\" font-size=\"14.00\" fill=\"#000000\">value = [0, 453]</text>\n</g>\n<!-- 15&#45;&gt;16 -->\n<g id=\"edge16\" class=\"edge\">\n<title>15&#45;&gt;16</title>\n<path fill=\"none\" stroke=\"#000000\" d=\"M731.2166,-504.9465C724.2634,-493.8215 716.5295,-481.4473 709.5231,-470.237\"/>\n<polygon fill=\"#000000\" stroke=\"#000000\" points=\"712.3569,-468.1671 704.0889,-461.5422 706.4209,-471.8772 712.3569,-468.1671\"/>\n</g>\n<!-- 17 -->\n<g id=\"node18\" class=\"node\">\n<title>17</title>\n<path fill=\"#e58139\" stroke=\"#000000\" d=\"M859,-461.5C859,-461.5 776,-461.5 776,-461.5 770,-461.5 764,-455.5 764,-449.5 764,-449.5 764,-420.5 764,-420.5 764,-414.5 770,-408.5 776,-408.5 776,-408.5 859,-408.5 859,-408.5 865,-408.5 871,-414.5 871,-420.5 871,-420.5 871,-449.5 871,-449.5 871,-455.5 865,-461.5 859,-461.5\"/>\n<text text-anchor=\"start\" x=\"788\" y=\"-446.3\" font-family=\"Helvetica,sans-Serif\" font-size=\"14.00\" fill=\"#000000\">gini = 0.0</text>\n<text text-anchor=\"start\" x=\"773.5\" y=\"-431.3\" font-family=\"Helvetica,sans-Serif\" font-size=\"14.00\" fill=\"#000000\">samples = 64</text>\n<text text-anchor=\"start\" x=\"772\" y=\"-416.3\" font-family=\"Helvetica,sans-Serif\" font-size=\"14.00\" fill=\"#000000\">value = [64, 0]</text>\n</g>\n<!-- 15&#45;&gt;17 -->\n<g id=\"edge17\" class=\"edge\">\n<title>15&#45;&gt;17</title>\n<path fill=\"none\" stroke=\"#000000\" d=\"M773.7834,-504.9465C780.7366,-493.8215 788.4705,-481.4473 795.4769,-470.237\"/>\n<polygon fill=\"#000000\" stroke=\"#000000\" points=\"798.5791,-471.8772 800.9111,-461.5422 792.6431,-468.1671 798.5791,-471.8772\"/>\n</g>\n<!-- 19 -->\n<g id=\"node20\" class=\"node\">\n<title>19</title>\n<path fill=\"#e6843e\" stroke=\"#000000\" d=\"M1089.5,-469C1089.5,-469 901.5,-469 901.5,-469 895.5,-469 889.5,-463 889.5,-457 889.5,-457 889.5,-413 889.5,-413 889.5,-407 895.5,-401 901.5,-401 901.5,-401 1089.5,-401 1089.5,-401 1095.5,-401 1101.5,-407 1101.5,-413 1101.5,-413 1101.5,-457 1101.5,-457 1101.5,-463 1095.5,-469 1089.5,-469\"/>\n<text text-anchor=\"start\" x=\"897.5\" y=\"-453.8\" font-family=\"Helvetica,sans-Serif\" font-size=\"14.00\" fill=\"#000000\">stalk&#45;color&#45;above&#45;ring ≤ &#45;2.264</text>\n<text text-anchor=\"start\" x=\"957.5\" y=\"-438.8\" font-family=\"Helvetica,sans-Serif\" font-size=\"14.00\" fill=\"#000000\">gini = 0.049</text>\n<text text-anchor=\"start\" x=\"943.5\" y=\"-423.8\" font-family=\"Helvetica,sans-Serif\" font-size=\"14.00\" fill=\"#000000\">samples = 2582</text>\n<text text-anchor=\"start\" x=\"937.5\" y=\"-408.8\" font-family=\"Helvetica,sans-Serif\" font-size=\"14.00\" fill=\"#000000\">value = [2517, 65]</text>\n</g>\n<!-- 18&#45;&gt;19 -->\n<g id=\"edge19\" class=\"edge\">\n<title>18&#45;&gt;19</title>\n<path fill=\"none\" stroke=\"#000000\" d=\"M995.5,-504.9465C995.5,-496.776 995.5,-487.9318 995.5,-479.3697\"/>\n<polygon fill=\"#000000\" stroke=\"#000000\" points=\"999.0001,-479.13 995.5,-469.13 992.0001,-479.13 999.0001,-479.13\"/>\n</g>\n<!-- 30 -->\n<g id=\"node31\" class=\"node\">\n<title>30</title>\n<path fill=\"#94caf1\" stroke=\"#000000\" d=\"M1255.5,-469C1255.5,-469 1131.5,-469 1131.5,-469 1125.5,-469 1119.5,-463 1119.5,-457 1119.5,-457 1119.5,-413 1119.5,-413 1119.5,-407 1125.5,-401 1131.5,-401 1131.5,-401 1255.5,-401 1255.5,-401 1261.5,-401 1267.5,-407 1267.5,-413 1267.5,-413 1267.5,-457 1267.5,-457 1267.5,-463 1261.5,-469 1255.5,-469\"/>\n<text text-anchor=\"start\" x=\"1127.5\" y=\"-453.8\" font-family=\"Helvetica,sans-Serif\" font-size=\"14.00\" fill=\"#000000\">stalk&#45;shape ≤ &#45;0.139</text>\n<text text-anchor=\"start\" x=\"1155.5\" y=\"-438.8\" font-family=\"Helvetica,sans-Serif\" font-size=\"14.00\" fill=\"#000000\">gini = 0.432</text>\n<text text-anchor=\"start\" x=\"1145.5\" y=\"-423.8\" font-family=\"Helvetica,sans-Serif\" font-size=\"14.00\" fill=\"#000000\">samples = 514</text>\n<text text-anchor=\"start\" x=\"1135.5\" y=\"-408.8\" font-family=\"Helvetica,sans-Serif\" font-size=\"14.00\" fill=\"#000000\">value = [162, 352]</text>\n</g>\n<!-- 18&#45;&gt;30 -->\n<g id=\"edge30\" class=\"edge\">\n<title>18&#45;&gt;30</title>\n<path fill=\"none\" stroke=\"#000000\" d=\"M1060.3326,-504.9465C1079.2212,-495.0252 1100.0012,-484.1105 1119.4142,-473.9138\"/>\n<polygon fill=\"#000000\" stroke=\"#000000\" points=\"1121.2962,-476.8787 1128.5217,-469.13 1118.0411,-470.6816 1121.2962,-476.8787\"/>\n</g>\n<!-- 20 -->\n<g id=\"node21\" class=\"node\">\n<title>20</title>\n<path fill=\"#399de5\" stroke=\"#000000\" d=\"M901,-357.5C901,-357.5 818,-357.5 818,-357.5 812,-357.5 806,-351.5 806,-345.5 806,-345.5 806,-316.5 806,-316.5 806,-310.5 812,-304.5 818,-304.5 818,-304.5 901,-304.5 901,-304.5 907,-304.5 913,-310.5 913,-316.5 913,-316.5 913,-345.5 913,-345.5 913,-351.5 907,-357.5 901,-357.5\"/>\n<text text-anchor=\"start\" x=\"830\" y=\"-342.3\" font-family=\"Helvetica,sans-Serif\" font-size=\"14.00\" fill=\"#000000\">gini = 0.0</text>\n<text text-anchor=\"start\" x=\"815.5\" y=\"-327.3\" font-family=\"Helvetica,sans-Serif\" font-size=\"14.00\" fill=\"#000000\">samples = 28</text>\n<text text-anchor=\"start\" x=\"814\" y=\"-312.3\" font-family=\"Helvetica,sans-Serif\" font-size=\"14.00\" fill=\"#000000\">value = [0, 28]</text>\n</g>\n<!-- 19&#45;&gt;20 -->\n<g id=\"edge20\" class=\"edge\">\n<title>19&#45;&gt;20</title>\n<path fill=\"none\" stroke=\"#000000\" d=\"M950.9685,-400.9465C935.4121,-389.0504 917.9879,-375.726 902.5541,-363.9237\"/>\n<polygon fill=\"#000000\" stroke=\"#000000\" points=\"904.2787,-360.8364 894.209,-357.5422 900.0265,-366.397 904.2787,-360.8364\"/>\n</g>\n<!-- 21 -->\n<g id=\"node22\" class=\"node\">\n<title>21</title>\n<path fill=\"#e5833c\" stroke=\"#000000\" d=\"M1052,-365C1052,-365 943,-365 943,-365 937,-365 931,-359 931,-353 931,-353 931,-309 931,-309 931,-303 937,-297 943,-297 943,-297 1052,-297 1052,-297 1058,-297 1064,-303 1064,-309 1064,-309 1064,-353 1064,-353 1064,-359 1058,-365 1052,-365\"/>\n<text text-anchor=\"start\" x=\"939\" y=\"-349.8\" font-family=\"Helvetica,sans-Serif\" font-size=\"14.00\" fill=\"#000000\">cap&#45;color ≤ &#45;1.572</text>\n<text text-anchor=\"start\" x=\"959.5\" y=\"-334.8\" font-family=\"Helvetica,sans-Serif\" font-size=\"14.00\" fill=\"#000000\">gini = 0.029</text>\n<text text-anchor=\"start\" x=\"945.5\" y=\"-319.8\" font-family=\"Helvetica,sans-Serif\" font-size=\"14.00\" fill=\"#000000\">samples = 2554</text>\n<text text-anchor=\"start\" x=\"939.5\" y=\"-304.8\" font-family=\"Helvetica,sans-Serif\" font-size=\"14.00\" fill=\"#000000\">value = [2517, 37]</text>\n</g>\n<!-- 19&#45;&gt;21 -->\n<g id=\"edge21\" class=\"edge\">\n<title>19&#45;&gt;21</title>\n<path fill=\"none\" stroke=\"#000000\" d=\"M996.1549,-400.9465C996.312,-392.776 996.4821,-383.9318 996.6467,-375.3697\"/>\n<polygon fill=\"#000000\" stroke=\"#000000\" points=\"1000.1506,-375.1955 996.8437,-365.13 993.1519,-375.0608 1000.1506,-375.1955\"/>\n</g>\n<!-- 22 -->\n<g id=\"node23\" class=\"node\">\n<title>22</title>\n<path fill=\"#f5d1b6\" stroke=\"#000000\" d=\"M895.5,-261C895.5,-261 803.5,-261 803.5,-261 797.5,-261 791.5,-255 791.5,-249 791.5,-249 791.5,-205 791.5,-205 791.5,-199 797.5,-193 803.5,-193 803.5,-193 895.5,-193 895.5,-193 901.5,-193 907.5,-199 907.5,-205 907.5,-205 907.5,-249 907.5,-249 907.5,-255 901.5,-261 895.5,-261\"/>\n<text text-anchor=\"start\" x=\"801.5\" y=\"-245.8\" font-family=\"Helvetica,sans-Serif\" font-size=\"14.00\" fill=\"#000000\">habitat ≤ 1.732</text>\n<text text-anchor=\"start\" x=\"811.5\" y=\"-230.8\" font-family=\"Helvetica,sans-Serif\" font-size=\"14.00\" fill=\"#000000\">gini = 0.475</text>\n<text text-anchor=\"start\" x=\"805.5\" y=\"-215.8\" font-family=\"Helvetica,sans-Serif\" font-size=\"14.00\" fill=\"#000000\">samples = 31</text>\n<text text-anchor=\"start\" x=\"799.5\" y=\"-200.8\" font-family=\"Helvetica,sans-Serif\" font-size=\"14.00\" fill=\"#000000\">value = [19, 12]</text>\n</g>\n<!-- 21&#45;&gt;22 -->\n<g id=\"edge22\" class=\"edge\">\n<title>21&#45;&gt;22</title>\n<path fill=\"none\" stroke=\"#000000\" d=\"M949.0393,-296.9465C935.3677,-287.3395 920.3706,-276.8009 906.2591,-266.8848\"/>\n<polygon fill=\"#000000\" stroke=\"#000000\" points=\"908.2639,-264.0158 898.0696,-261.13 904.2392,-269.7432 908.2639,-264.0158\"/>\n</g>\n<!-- 25 -->\n<g id=\"node26\" class=\"node\">\n<title>25</title>\n<path fill=\"#e5823b\" stroke=\"#000000\" d=\"M1059.5,-261C1059.5,-261 937.5,-261 937.5,-261 931.5,-261 925.5,-255 925.5,-249 925.5,-249 925.5,-205 925.5,-205 925.5,-199 931.5,-193 937.5,-193 937.5,-193 1059.5,-193 1059.5,-193 1065.5,-193 1071.5,-199 1071.5,-205 1071.5,-205 1071.5,-249 1071.5,-249 1071.5,-255 1065.5,-261 1059.5,-261\"/>\n<text text-anchor=\"start\" x=\"933.5\" y=\"-245.8\" font-family=\"Helvetica,sans-Serif\" font-size=\"14.00\" fill=\"#000000\">ring&#45;number ≤ 1.572</text>\n<text text-anchor=\"start\" x=\"965\" y=\"-230.8\" font-family=\"Helvetica,sans-Serif\" font-size=\"14.00\" fill=\"#000000\">gini = 0.02</text>\n<text text-anchor=\"start\" x=\"946.5\" y=\"-215.8\" font-family=\"Helvetica,sans-Serif\" font-size=\"14.00\" fill=\"#000000\">samples = 2523</text>\n<text text-anchor=\"start\" x=\"940.5\" y=\"-200.8\" font-family=\"Helvetica,sans-Serif\" font-size=\"14.00\" fill=\"#000000\">value = [2498, 25]</text>\n</g>\n<!-- 21&#45;&gt;25 -->\n<g id=\"edge25\" class=\"edge\">\n<title>21&#45;&gt;25</title>\n<path fill=\"none\" stroke=\"#000000\" d=\"M997.8274,-296.9465C997.906,-288.776 997.991,-279.9318 998.0734,-271.3697\"/>\n<polygon fill=\"#000000\" stroke=\"#000000\" points=\"1001.5754,-271.1632 998.1718,-261.13 994.5757,-271.0958 1001.5754,-271.1632\"/>\n</g>\n<!-- 23 -->\n<g id=\"node24\" class=\"node\">\n<title>23</title>\n<path fill=\"#399de5\" stroke=\"#000000\" d=\"M770,-149.5C770,-149.5 687,-149.5 687,-149.5 681,-149.5 675,-143.5 675,-137.5 675,-137.5 675,-108.5 675,-108.5 675,-102.5 681,-96.5 687,-96.5 687,-96.5 770,-96.5 770,-96.5 776,-96.5 782,-102.5 782,-108.5 782,-108.5 782,-137.5 782,-137.5 782,-143.5 776,-149.5 770,-149.5\"/>\n<text text-anchor=\"start\" x=\"699\" y=\"-134.3\" font-family=\"Helvetica,sans-Serif\" font-size=\"14.00\" fill=\"#000000\">gini = 0.0</text>\n<text text-anchor=\"start\" x=\"684.5\" y=\"-119.3\" font-family=\"Helvetica,sans-Serif\" font-size=\"14.00\" fill=\"#000000\">samples = 12</text>\n<text text-anchor=\"start\" x=\"683\" y=\"-104.3\" font-family=\"Helvetica,sans-Serif\" font-size=\"14.00\" fill=\"#000000\">value = [0, 12]</text>\n</g>\n<!-- 22&#45;&gt;23 -->\n<g id=\"edge23\" class=\"edge\">\n<title>22&#45;&gt;23</title>\n<path fill=\"none\" stroke=\"#000000\" d=\"M809.8801,-192.9465C796.1676,-181.1606 780.8239,-167.9726 767.1873,-156.2519\"/>\n<polygon fill=\"#000000\" stroke=\"#000000\" points=\"769.2459,-153.4061 759.3808,-149.5422 764.6831,-158.7147 769.2459,-153.4061\"/>\n</g>\n<!-- 24 -->\n<g id=\"node25\" class=\"node\">\n<title>24</title>\n<path fill=\"#e58139\" stroke=\"#000000\" d=\"M895,-149.5C895,-149.5 812,-149.5 812,-149.5 806,-149.5 800,-143.5 800,-137.5 800,-137.5 800,-108.5 800,-108.5 800,-102.5 806,-96.5 812,-96.5 812,-96.5 895,-96.5 895,-96.5 901,-96.5 907,-102.5 907,-108.5 907,-108.5 907,-137.5 907,-137.5 907,-143.5 901,-149.5 895,-149.5\"/>\n<text text-anchor=\"start\" x=\"824\" y=\"-134.3\" font-family=\"Helvetica,sans-Serif\" font-size=\"14.00\" fill=\"#000000\">gini = 0.0</text>\n<text text-anchor=\"start\" x=\"809.5\" y=\"-119.3\" font-family=\"Helvetica,sans-Serif\" font-size=\"14.00\" fill=\"#000000\">samples = 19</text>\n<text text-anchor=\"start\" x=\"808\" y=\"-104.3\" font-family=\"Helvetica,sans-Serif\" font-size=\"14.00\" fill=\"#000000\">value = [19, 0]</text>\n</g>\n<!-- 22&#45;&gt;24 -->\n<g id=\"edge24\" class=\"edge\">\n<title>22&#45;&gt;24</title>\n<path fill=\"none\" stroke=\"#000000\" d=\"M850.8097,-192.9465C851.2207,-182.2621 851.6759,-170.4254 852.0933,-159.5742\"/>\n<polygon fill=\"#000000\" stroke=\"#000000\" points=\"855.5921,-159.6693 852.4791,-149.5422 848.5973,-159.4002 855.5921,-159.6693\"/>\n</g>\n<!-- 26 -->\n<g id=\"node27\" class=\"node\">\n<title>26</title>\n<path fill=\"#e58139\" stroke=\"#000000\" d=\"M1044.5,-149.5C1044.5,-149.5 944.5,-149.5 944.5,-149.5 938.5,-149.5 932.5,-143.5 932.5,-137.5 932.5,-137.5 932.5,-108.5 932.5,-108.5 932.5,-102.5 938.5,-96.5 944.5,-96.5 944.5,-96.5 1044.5,-96.5 1044.5,-96.5 1050.5,-96.5 1056.5,-102.5 1056.5,-108.5 1056.5,-108.5 1056.5,-137.5 1056.5,-137.5 1056.5,-143.5 1050.5,-149.5 1044.5,-149.5\"/>\n<text text-anchor=\"start\" x=\"965\" y=\"-134.3\" font-family=\"Helvetica,sans-Serif\" font-size=\"14.00\" fill=\"#000000\">gini = 0.0</text>\n<text text-anchor=\"start\" x=\"942.5\" y=\"-119.3\" font-family=\"Helvetica,sans-Serif\" font-size=\"14.00\" fill=\"#000000\">samples = 2255</text>\n<text text-anchor=\"start\" x=\"940.5\" y=\"-104.3\" font-family=\"Helvetica,sans-Serif\" font-size=\"14.00\" fill=\"#000000\">value = [2255, 0]</text>\n</g>\n<!-- 25&#45;&gt;26 -->\n<g id=\"edge26\" class=\"edge\">\n<title>25&#45;&gt;26</title>\n<path fill=\"none\" stroke=\"#000000\" d=\"M997.1903,-192.9465C996.7793,-182.2621 996.3241,-170.4254 995.9067,-159.5742\"/>\n<polygon fill=\"#000000\" stroke=\"#000000\" points=\"999.4027,-159.4002 995.5209,-149.5422 992.4079,-159.6693 999.4027,-159.4002\"/>\n</g>\n<!-- 27 -->\n<g id=\"node28\" class=\"node\">\n<title>27</title>\n<path fill=\"#e88e4d\" stroke=\"#000000\" d=\"M1236,-157C1236,-157 1087,-157 1087,-157 1081,-157 1075,-151 1075,-145 1075,-145 1075,-101 1075,-101 1075,-95 1081,-89 1087,-89 1087,-89 1236,-89 1236,-89 1242,-89 1248,-95 1248,-101 1248,-101 1248,-145 1248,-145 1248,-151 1242,-157 1236,-157\"/>\n<text text-anchor=\"start\" x=\"1083\" y=\"-141.8\" font-family=\"Helvetica,sans-Serif\" font-size=\"14.00\" fill=\"#000000\">spore&#45;print&#45;color ≤ 1.004</text>\n<text text-anchor=\"start\" x=\"1123.5\" y=\"-126.8\" font-family=\"Helvetica,sans-Serif\" font-size=\"14.00\" fill=\"#000000\">gini = 0.169</text>\n<text text-anchor=\"start\" x=\"1113.5\" y=\"-111.8\" font-family=\"Helvetica,sans-Serif\" font-size=\"14.00\" fill=\"#000000\">samples = 268</text>\n<text text-anchor=\"start\" x=\"1107.5\" y=\"-96.8\" font-family=\"Helvetica,sans-Serif\" font-size=\"14.00\" fill=\"#000000\">value = [243, 25]</text>\n</g>\n<!-- 25&#45;&gt;27 -->\n<g id=\"edge27\" class=\"edge\">\n<title>25&#45;&gt;27</title>\n<path fill=\"none\" stroke=\"#000000\" d=\"M1051.8723,-192.9465C1067.0702,-183.2497 1083.7555,-172.6039 1099.4237,-162.6069\"/>\n<polygon fill=\"#000000\" stroke=\"#000000\" points=\"1101.4602,-165.4594 1108.0078,-157.13 1097.695,-159.5582 1101.4602,-165.4594\"/>\n</g>\n<!-- 28 -->\n<g id=\"node29\" class=\"node\">\n<title>28</title>\n<path fill=\"#399de5\" stroke=\"#000000\" d=\"M1083,-53C1083,-53 1000,-53 1000,-53 994,-53 988,-47 988,-41 988,-41 988,-12 988,-12 988,-6 994,0 1000,0 1000,0 1083,0 1083,0 1089,0 1095,-6 1095,-12 1095,-12 1095,-41 1095,-41 1095,-47 1089,-53 1083,-53\"/>\n<text text-anchor=\"start\" x=\"1012\" y=\"-37.8\" font-family=\"Helvetica,sans-Serif\" font-size=\"14.00\" fill=\"#000000\">gini = 0.0</text>\n<text text-anchor=\"start\" x=\"997.5\" y=\"-22.8\" font-family=\"Helvetica,sans-Serif\" font-size=\"14.00\" fill=\"#000000\">samples = 25</text>\n<text text-anchor=\"start\" x=\"996\" y=\"-7.8\" font-family=\"Helvetica,sans-Serif\" font-size=\"14.00\" fill=\"#000000\">value = [0, 25]</text>\n</g>\n<!-- 27&#45;&gt;28 -->\n<g id=\"edge28\" class=\"edge\">\n<title>27&#45;&gt;28</title>\n<path fill=\"none\" stroke=\"#000000\" d=\"M1119.1925,-88.9777C1107.3501,-79.4545 1094.4979,-69.1191 1082.7195,-59.6473\"/>\n<polygon fill=\"#000000\" stroke=\"#000000\" points=\"1084.7486,-56.7877 1074.7624,-53.2485 1080.3618,-62.2427 1084.7486,-56.7877\"/>\n</g>\n<!-- 29 -->\n<g id=\"node30\" class=\"node\">\n<title>29</title>\n<path fill=\"#e58139\" stroke=\"#000000\" d=\"M1217.5,-53C1217.5,-53 1125.5,-53 1125.5,-53 1119.5,-53 1113.5,-47 1113.5,-41 1113.5,-41 1113.5,-12 1113.5,-12 1113.5,-6 1119.5,0 1125.5,0 1125.5,0 1217.5,0 1217.5,0 1223.5,0 1229.5,-6 1229.5,-12 1229.5,-12 1229.5,-41 1229.5,-41 1229.5,-47 1223.5,-53 1217.5,-53\"/>\n<text text-anchor=\"start\" x=\"1142\" y=\"-37.8\" font-family=\"Helvetica,sans-Serif\" font-size=\"14.00\" fill=\"#000000\">gini = 0.0</text>\n<text text-anchor=\"start\" x=\"1123.5\" y=\"-22.8\" font-family=\"Helvetica,sans-Serif\" font-size=\"14.00\" fill=\"#000000\">samples = 243</text>\n<text text-anchor=\"start\" x=\"1121.5\" y=\"-7.8\" font-family=\"Helvetica,sans-Serif\" font-size=\"14.00\" fill=\"#000000\">value = [243, 0]</text>\n</g>\n<!-- 27&#45;&gt;29 -->\n<g id=\"edge29\" class=\"edge\">\n<title>27&#45;&gt;29</title>\n<path fill=\"none\" stroke=\"#000000\" d=\"M1165.0256,-88.9777C1165.8891,-80.6449 1166.8171,-71.6903 1167.6931,-63.2364\"/>\n<polygon fill=\"#000000\" stroke=\"#000000\" points=\"1171.1787,-63.556 1168.7281,-53.2485 1164.2159,-62.8344 1171.1787,-63.556\"/>\n</g>\n<!-- 31 -->\n<g id=\"node32\" class=\"node\">\n<title>31</title>\n<path fill=\"#6eb7ec\" stroke=\"#000000\" d=\"M1243.5,-365C1243.5,-365 1143.5,-365 1143.5,-365 1137.5,-365 1131.5,-359 1131.5,-353 1131.5,-353 1131.5,-309 1131.5,-309 1131.5,-303 1137.5,-297 1143.5,-297 1143.5,-297 1243.5,-297 1243.5,-297 1249.5,-297 1255.5,-303 1255.5,-309 1255.5,-309 1255.5,-353 1255.5,-353 1255.5,-359 1249.5,-365 1243.5,-365\"/>\n<text text-anchor=\"start\" x=\"1143.5\" y=\"-349.8\" font-family=\"Helvetica,sans-Serif\" font-size=\"14.00\" fill=\"#000000\">habitat ≤ &#45;0.006</text>\n<text text-anchor=\"start\" x=\"1155.5\" y=\"-334.8\" font-family=\"Helvetica,sans-Serif\" font-size=\"14.00\" fill=\"#000000\">gini = 0.335</text>\n<text text-anchor=\"start\" x=\"1145.5\" y=\"-319.8\" font-family=\"Helvetica,sans-Serif\" font-size=\"14.00\" fill=\"#000000\">samples = 447</text>\n<text text-anchor=\"start\" x=\"1139.5\" y=\"-304.8\" font-family=\"Helvetica,sans-Serif\" font-size=\"14.00\" fill=\"#000000\">value = [95, 352]</text>\n</g>\n<!-- 30&#45;&gt;31 -->\n<g id=\"edge31\" class=\"edge\">\n<title>30&#45;&gt;31</title>\n<path fill=\"none\" stroke=\"#000000\" d=\"M1193.5,-400.9465C1193.5,-392.776 1193.5,-383.9318 1193.5,-375.3697\"/>\n<polygon fill=\"#000000\" stroke=\"#000000\" points=\"1197.0001,-375.13 1193.5,-365.13 1190.0001,-375.13 1197.0001,-375.13\"/>\n</g>\n<!-- 38 -->\n<g id=\"node39\" class=\"node\">\n<title>38</title>\n<path fill=\"#e58139\" stroke=\"#000000\" d=\"M1369,-357.5C1369,-357.5 1286,-357.5 1286,-357.5 1280,-357.5 1274,-351.5 1274,-345.5 1274,-345.5 1274,-316.5 1274,-316.5 1274,-310.5 1280,-304.5 1286,-304.5 1286,-304.5 1369,-304.5 1369,-304.5 1375,-304.5 1381,-310.5 1381,-316.5 1381,-316.5 1381,-345.5 1381,-345.5 1381,-351.5 1375,-357.5 1369,-357.5\"/>\n<text text-anchor=\"start\" x=\"1298\" y=\"-342.3\" font-family=\"Helvetica,sans-Serif\" font-size=\"14.00\" fill=\"#000000\">gini = 0.0</text>\n<text text-anchor=\"start\" x=\"1283.5\" y=\"-327.3\" font-family=\"Helvetica,sans-Serif\" font-size=\"14.00\" fill=\"#000000\">samples = 67</text>\n<text text-anchor=\"start\" x=\"1282\" y=\"-312.3\" font-family=\"Helvetica,sans-Serif\" font-size=\"14.00\" fill=\"#000000\">value = [67, 0]</text>\n</g>\n<!-- 30&#45;&gt;38 -->\n<g id=\"edge38\" class=\"edge\">\n<title>30&#45;&gt;38</title>\n<path fill=\"none\" stroke=\"#000000\" d=\"M1237.3766,-400.9465C1252.7043,-389.0504 1269.8723,-375.726 1285.0791,-363.9237\"/>\n<polygon fill=\"#000000\" stroke=\"#000000\" points=\"1287.5475,-366.4384 1293.3014,-357.5422 1283.2556,-360.9085 1287.5475,-366.4384\"/>\n</g>\n<!-- 32 -->\n<g id=\"node33\" class=\"node\">\n<title>32</title>\n<path fill=\"#399de5\" stroke=\"#000000\" d=\"M1238.5,-253.5C1238.5,-253.5 1146.5,-253.5 1146.5,-253.5 1140.5,-253.5 1134.5,-247.5 1134.5,-241.5 1134.5,-241.5 1134.5,-212.5 1134.5,-212.5 1134.5,-206.5 1140.5,-200.5 1146.5,-200.5 1146.5,-200.5 1238.5,-200.5 1238.5,-200.5 1244.5,-200.5 1250.5,-206.5 1250.5,-212.5 1250.5,-212.5 1250.5,-241.5 1250.5,-241.5 1250.5,-247.5 1244.5,-253.5 1238.5,-253.5\"/>\n<text text-anchor=\"start\" x=\"1163\" y=\"-238.3\" font-family=\"Helvetica,sans-Serif\" font-size=\"14.00\" fill=\"#000000\">gini = 0.0</text>\n<text text-anchor=\"start\" x=\"1144.5\" y=\"-223.3\" font-family=\"Helvetica,sans-Serif\" font-size=\"14.00\" fill=\"#000000\">samples = 233</text>\n<text text-anchor=\"start\" x=\"1142.5\" y=\"-208.3\" font-family=\"Helvetica,sans-Serif\" font-size=\"14.00\" fill=\"#000000\">value = [0, 233]</text>\n</g>\n<!-- 31&#45;&gt;32 -->\n<g id=\"edge32\" class=\"edge\">\n<title>31&#45;&gt;32</title>\n<path fill=\"none\" stroke=\"#000000\" d=\"M1193.1726,-296.9465C1193.0698,-286.2621 1192.956,-274.4254 1192.8517,-263.5742\"/>\n<polygon fill=\"#000000\" stroke=\"#000000\" points=\"1196.3513,-263.508 1192.7552,-253.5422 1189.3516,-263.5754 1196.3513,-263.508\"/>\n</g>\n<!-- 33 -->\n<g id=\"node34\" class=\"node\">\n<title>33</title>\n<path fill=\"#d7ebfa\" stroke=\"#000000\" d=\"M1380.5,-261C1380.5,-261 1280.5,-261 1280.5,-261 1274.5,-261 1268.5,-255 1268.5,-249 1268.5,-249 1268.5,-205 1268.5,-205 1268.5,-199 1274.5,-193 1280.5,-193 1280.5,-193 1380.5,-193 1380.5,-193 1386.5,-193 1392.5,-199 1392.5,-205 1392.5,-205 1392.5,-249 1392.5,-249 1392.5,-255 1386.5,-261 1380.5,-261\"/>\n<text text-anchor=\"start\" x=\"1280.5\" y=\"-245.8\" font-family=\"Helvetica,sans-Serif\" font-size=\"14.00\" fill=\"#000000\">bruises ≤ 0.173</text>\n<text text-anchor=\"start\" x=\"1292.5\" y=\"-230.8\" font-family=\"Helvetica,sans-Serif\" font-size=\"14.00\" fill=\"#000000\">gini = 0.494</text>\n<text text-anchor=\"start\" x=\"1282.5\" y=\"-215.8\" font-family=\"Helvetica,sans-Serif\" font-size=\"14.00\" fill=\"#000000\">samples = 214</text>\n<text text-anchor=\"start\" x=\"1276.5\" y=\"-200.8\" font-family=\"Helvetica,sans-Serif\" font-size=\"14.00\" fill=\"#000000\">value = [95, 119]</text>\n</g>\n<!-- 31&#45;&gt;33 -->\n<g id=\"edge33\" class=\"edge\">\n<title>31&#45;&gt;33</title>\n<path fill=\"none\" stroke=\"#000000\" d=\"M1238.3589,-296.9465C1250.7778,-287.519 1264.3783,-277.1946 1277.2261,-267.4415\"/>\n<polygon fill=\"#000000\" stroke=\"#000000\" points=\"1279.6915,-269.9642 1285.5403,-261.13 1275.459,-264.3887 1279.6915,-269.9642\"/>\n</g>\n<!-- 34 -->\n<g id=\"node35\" class=\"node\">\n<title>34</title>\n<path fill=\"#e78946\" stroke=\"#000000\" d=\"M1381.5,-157C1381.5,-157 1279.5,-157 1279.5,-157 1273.5,-157 1267.5,-151 1267.5,-145 1267.5,-145 1267.5,-101 1267.5,-101 1267.5,-95 1273.5,-89 1279.5,-89 1279.5,-89 1381.5,-89 1381.5,-89 1387.5,-89 1393.5,-95 1393.5,-101 1393.5,-101 1393.5,-145 1393.5,-145 1393.5,-151 1387.5,-157 1381.5,-157\"/>\n<text text-anchor=\"start\" x=\"1275.5\" y=\"-141.8\" font-family=\"Helvetica,sans-Serif\" font-size=\"14.00\" fill=\"#000000\">veil&#45;color ≤ 2.282</text>\n<text text-anchor=\"start\" x=\"1292.5\" y=\"-126.8\" font-family=\"Helvetica,sans-Serif\" font-size=\"14.00\" fill=\"#000000\">gini = 0.112</text>\n<text text-anchor=\"start\" x=\"1282.5\" y=\"-111.8\" font-family=\"Helvetica,sans-Serif\" font-size=\"14.00\" fill=\"#000000\">samples = 101</text>\n<text text-anchor=\"start\" x=\"1285\" y=\"-96.8\" font-family=\"Helvetica,sans-Serif\" font-size=\"14.00\" fill=\"#000000\">value = [95, 6]</text>\n</g>\n<!-- 33&#45;&gt;34 -->\n<g id=\"edge34\" class=\"edge\">\n<title>33&#45;&gt;34</title>\n<path fill=\"none\" stroke=\"#000000\" d=\"M1330.5,-192.9465C1330.5,-184.776 1330.5,-175.9318 1330.5,-167.3697\"/>\n<polygon fill=\"#000000\" stroke=\"#000000\" points=\"1334.0001,-167.13 1330.5,-157.13 1327.0001,-167.13 1334.0001,-167.13\"/>\n</g>\n<!-- 37 -->\n<g id=\"node38\" class=\"node\">\n<title>37</title>\n<path fill=\"#399de5\" stroke=\"#000000\" d=\"M1515.5,-149.5C1515.5,-149.5 1423.5,-149.5 1423.5,-149.5 1417.5,-149.5 1411.5,-143.5 1411.5,-137.5 1411.5,-137.5 1411.5,-108.5 1411.5,-108.5 1411.5,-102.5 1417.5,-96.5 1423.5,-96.5 1423.5,-96.5 1515.5,-96.5 1515.5,-96.5 1521.5,-96.5 1527.5,-102.5 1527.5,-108.5 1527.5,-108.5 1527.5,-137.5 1527.5,-137.5 1527.5,-143.5 1521.5,-149.5 1515.5,-149.5\"/>\n<text text-anchor=\"start\" x=\"1440\" y=\"-134.3\" font-family=\"Helvetica,sans-Serif\" font-size=\"14.00\" fill=\"#000000\">gini = 0.0</text>\n<text text-anchor=\"start\" x=\"1421.5\" y=\"-119.3\" font-family=\"Helvetica,sans-Serif\" font-size=\"14.00\" fill=\"#000000\">samples = 113</text>\n<text text-anchor=\"start\" x=\"1419.5\" y=\"-104.3\" font-family=\"Helvetica,sans-Serif\" font-size=\"14.00\" fill=\"#000000\">value = [0, 113]</text>\n</g>\n<!-- 33&#45;&gt;37 -->\n<g id=\"edge37\" class=\"edge\">\n<title>33&#45;&gt;37</title>\n<path fill=\"none\" stroke=\"#000000\" d=\"M1376.0138,-192.9465C1392.0606,-180.9403 1410.0519,-167.4791 1425.9339,-155.5962\"/>\n<polygon fill=\"#000000\" stroke=\"#000000\" points=\"1428.1152,-158.3354 1434.0254,-149.5422 1423.9217,-152.7306 1428.1152,-158.3354\"/>\n</g>\n<!-- 35 -->\n<g id=\"node36\" class=\"node\">\n<title>35</title>\n<path fill=\"#e58139\" stroke=\"#000000\" d=\"M1362,-53C1362,-53 1279,-53 1279,-53 1273,-53 1267,-47 1267,-41 1267,-41 1267,-12 1267,-12 1267,-6 1273,0 1279,0 1279,0 1362,0 1362,0 1368,0 1374,-6 1374,-12 1374,-12 1374,-41 1374,-41 1374,-47 1368,-53 1362,-53\"/>\n<text text-anchor=\"start\" x=\"1291\" y=\"-37.8\" font-family=\"Helvetica,sans-Serif\" font-size=\"14.00\" fill=\"#000000\">gini = 0.0</text>\n<text text-anchor=\"start\" x=\"1276.5\" y=\"-22.8\" font-family=\"Helvetica,sans-Serif\" font-size=\"14.00\" fill=\"#000000\">samples = 95</text>\n<text text-anchor=\"start\" x=\"1275\" y=\"-7.8\" font-family=\"Helvetica,sans-Serif\" font-size=\"14.00\" fill=\"#000000\">value = [95, 0]</text>\n</g>\n<!-- 34&#45;&gt;35 -->\n<g id=\"edge35\" class=\"edge\">\n<title>34&#45;&gt;35</title>\n<path fill=\"none\" stroke=\"#000000\" d=\"M1326.9744,-88.9777C1326.1109,-80.6449 1325.1829,-71.6903 1324.3069,-63.2364\"/>\n<polygon fill=\"#000000\" stroke=\"#000000\" points=\"1327.7841,-62.8344 1323.2719,-53.2485 1320.8213,-63.556 1327.7841,-62.8344\"/>\n</g>\n<!-- 36 -->\n<g id=\"node37\" class=\"node\">\n<title>36</title>\n<path fill=\"#399de5\" stroke=\"#000000\" d=\"M1479,-53C1479,-53 1404,-53 1404,-53 1398,-53 1392,-47 1392,-41 1392,-41 1392,-12 1392,-12 1392,-6 1398,0 1404,0 1404,0 1479,0 1479,0 1485,0 1491,-6 1491,-12 1491,-12 1491,-41 1491,-41 1491,-47 1485,-53 1479,-53\"/>\n<text text-anchor=\"start\" x=\"1412\" y=\"-37.8\" font-family=\"Helvetica,sans-Serif\" font-size=\"14.00\" fill=\"#000000\">gini = 0.0</text>\n<text text-anchor=\"start\" x=\"1402\" y=\"-22.8\" font-family=\"Helvetica,sans-Serif\" font-size=\"14.00\" fill=\"#000000\">samples = 6</text>\n<text text-anchor=\"start\" x=\"1400\" y=\"-7.8\" font-family=\"Helvetica,sans-Serif\" font-size=\"14.00\" fill=\"#000000\">value = [0, 6]</text>\n</g>\n<!-- 34&#45;&gt;36 -->\n<g id=\"edge36\" class=\"edge\">\n<title>34&#45;&gt;36</title>\n<path fill=\"none\" stroke=\"#000000\" d=\"M1369.6344,-88.9777C1380.4833,-79.546 1392.2484,-69.3178 1403.0574,-59.9208\"/>\n<polygon fill=\"#000000\" stroke=\"#000000\" points=\"1405.4819,-62.4508 1410.7323,-53.2485 1400.8892,-57.1681 1405.4819,-62.4508\"/>\n</g>\n</g>\n</svg>\n"
          },
          "metadata": {
            "tags": []
          },
          "execution_count": 21
        }
      ]
    },
    {
      "cell_type": "code",
      "metadata": {
        "id": "wE39oVxap30I",
        "colab_type": "code",
        "colab": {
          "base_uri": "https://localhost:8080/",
          "height": 34
        },
        "outputId": "282cbe3b-18d1-4c29-8d18-a2e7f5b431f5"
      },
      "source": [
        "acc_dtc = classifier.score(X_test,Y_test)\n",
        "print(\"Classification Accuracy : %.3f \" %  acc_dtc)"
      ],
      "execution_count": 22,
      "outputs": [
        {
          "output_type": "stream",
          "text": [
            "Classification Accuracy : 1.000 \n"
          ],
          "name": "stdout"
        }
      ]
    },
    {
      "cell_type": "markdown",
      "metadata": {
        "id": "r8XrDyBj41Go",
        "colab_type": "text"
      },
      "source": [
        "# Hyper Parameter training for logistic model"
      ]
    },
    {
      "cell_type": "code",
      "metadata": {
        "id": "HR-6v3qd8FAa",
        "colab_type": "code",
        "colab": {
          "base_uri": "https://localhost:8080/",
          "height": 54
        },
        "outputId": "3badac7b-11e8-48e7-db17-e55fa98ccb7d"
      },
      "source": [
        "LogisticRegression().get_params().keys()"
      ],
      "execution_count": 23,
      "outputs": [
        {
          "output_type": "execute_result",
          "data": {
            "text/plain": [
              "dict_keys(['C', 'class_weight', 'dual', 'fit_intercept', 'intercept_scaling', 'l1_ratio', 'max_iter', 'multi_class', 'n_jobs', 'penalty', 'random_state', 'solver', 'tol', 'verbose', 'warm_start'])"
            ]
          },
          "metadata": {
            "tags": []
          },
          "execution_count": 23
        }
      ]
    },
    {
      "cell_type": "code",
      "metadata": {
        "id": "apXbx8aJ40tK",
        "colab_type": "code",
        "colab": {
          "base_uri": "https://localhost:8080/",
          "height": 84
        },
        "outputId": "fd137fb9-8086-4de8-8aa5-63af546ae80f"
      },
      "source": [
        "pipe = Pipeline([('classifier' , RandomForestClassifier())])\n",
        "\n",
        "param_grid = [\n",
        "    {'penalty' : ['l1', 'l2'],\n",
        "    'C' : [0.001, 0.01, 0.1, 1, 10,100, 1000],\n",
        "    'solver' : ['liblinear','newton-cg', 'sag', 'saga']\n",
        "     }\n",
        "]\n",
        "\n",
        "clf = GridSearchCV(estimator=LogisticRegression(), param_grid = param_grid, cv = 5, verbose=True, n_jobs=-1)\n",
        "best_clf = clf.fit(X_train, Y_train)"
      ],
      "execution_count": 24,
      "outputs": [
        {
          "output_type": "stream",
          "text": [
            "Fitting 5 folds for each of 56 candidates, totalling 280 fits\n"
          ],
          "name": "stdout"
        },
        {
          "output_type": "stream",
          "text": [
            "[Parallel(n_jobs=-1)]: Using backend LokyBackend with 2 concurrent workers.\n",
            "[Parallel(n_jobs=-1)]: Done 178 tasks      | elapsed:    9.2s\n",
            "[Parallel(n_jobs=-1)]: Done 280 out of 280 | elapsed:   18.1s finished\n"
          ],
          "name": "stderr"
        }
      ]
    },
    {
      "cell_type": "code",
      "metadata": {
        "id": "PSDMeCon67i_",
        "colab_type": "code",
        "colab": {
          "base_uri": "https://localhost:8080/",
          "height": 34
        },
        "outputId": "136839a1-27ca-4aac-9055-4c6a4773a7df"
      },
      "source": [
        "best_params = best_clf.best_params_\n",
        "print(best_params)"
      ],
      "execution_count": 25,
      "outputs": [
        {
          "output_type": "stream",
          "text": [
            "{'C': 10, 'penalty': 'l1', 'solver': 'liblinear'}\n"
          ],
          "name": "stdout"
        }
      ]
    },
    {
      "cell_type": "code",
      "metadata": {
        "id": "UL0cmJlt8iVT",
        "colab_type": "code",
        "colab": {
          "base_uri": "https://localhost:8080/",
          "height": 34
        },
        "outputId": "e45fbd0e-171c-4fd5-b6d0-dee4b608a3f7"
      },
      "source": [
        "model_cust = LogisticRegression(C= 10, penalty= 'l1', solver= 'liblinear')\n",
        "model_cust.fit(X_train,Y_train)\n",
        "acc_lr = model_cust.score(X_test,Y_test)\n",
        "print(\"Classification Accuracy : %.3f \" %  acc_lr)"
      ],
      "execution_count": 26,
      "outputs": [
        {
          "output_type": "stream",
          "text": [
            "Classification Accuracy : 0.963 \n"
          ],
          "name": "stdout"
        }
      ]
    },
    {
      "cell_type": "markdown",
      "metadata": {
        "id": "Yoy3a1vC0l7b",
        "colab_type": "text"
      },
      "source": [
        "# Results \n",
        "\n",
        "Accuracy on test data :\n",
        "* Logistic Regression : 96.3% accuracy with tuning , 95 without tuning\n",
        "* SVM : 100% accuracy\n",
        "* Decision Tree Classifier : 100% accuracy"
      ]
    },
    {
      "cell_type": "markdown",
      "metadata": {
        "id": "2RWZc9ST2L_n",
        "colab_type": "text"
      },
      "source": [
        "Created on Wed Jun 03 15:30:04 2020\n",
        "\n",
        "@author: Nishidh Shekhawat"
      ]
    }
  ]
}