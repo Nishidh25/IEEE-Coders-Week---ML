{
  "nbformat": 4,
  "nbformat_minor": 0,
  "metadata": {
    "colab": {
      "name": "Clustering Wholesale customers data - Unsupervised Learning",
      "provenance": [],
      "collapsed_sections": [],
      "authorship_tag": "ABX9TyNaFpzFOFrt53nJw4vlTdEl",
      "include_colab_link": true
    },
    "kernelspec": {
      "name": "python3",
      "display_name": "Python 3"
    }
  },
  "cells": [
    {
      "cell_type": "markdown",
      "metadata": {
        "id": "view-in-github",
        "colab_type": "text"
      },
      "source": [
        "<a href=\"https://colab.research.google.com/github/Nishidh25/IEEE-Coders-Week---ML/blob/master/Day%204/Clustering_Wholesale_customers_data_Unsupervised_Learning.ipynb\" target=\"_parent\"><img src=\"https://colab.research.google.com/assets/colab-badge.svg\" alt=\"Open In Colab\"/></a>"
      ]
    },
    {
      "cell_type": "markdown",
      "metadata": {
        "id": "6FtJplRSXhUL",
        "colab_type": "text"
      },
      "source": [
        "# Do unsupervised learning on this given dataset"
      ]
    },
    {
      "cell_type": "markdown",
      "metadata": {
        "id": "dbIq_h71Wnml",
        "colab_type": "text"
      },
      "source": [
        "# Dataset \n",
        "\n",
        "The dataset refers to clients of a wholesale distributor. It includes the annual spending in monetary units (m.u.) on diverse product categories\n",
        "\n",
        "Attribute Information:\n",
        "\n",
        "1.\tFRESH: annual spending (m.u.) on fresh products (Continuous); \n",
        "\n",
        "2.\tMILK: annual spending (m.u.) on milk products (Continuous); \n",
        "\n",
        "3.\tGROCERY: annual spending (m.u.)on grocery products (Continuous); \n",
        "\n",
        "4.\tFROZEN: annual spending (m.u.)on frozen products (Continuous) \n",
        "\n",
        "5.\tDETERGENTS_PAPER: annual spending (m.u.) on detergents and paper products \n",
        "(Continuous) \n",
        "6.\tDELICATESSEN: annual spending (m.u.)on and delicatessen products (Continuous)\n",
        "\n",
        "7.\tCHANNEL: customersÃ¢â‚¬â„¢ Channel - Horeca (Hotel/Restaurant/CafÃƒÂ©) or Retail channel (Nominal) \n",
        "\n",
        "8.\tREGION: customersÃ¢â‚¬â„¢ Region Ã¢â‚¬â€œ Lisnon, Oporto or Other (Nominal) \n",
        "\n",
        "Source: UCI Wholesale customers Data Set (https://archive.ics.uci.edu/ml/datasets/wholesale+customers)"
      ]
    },
    {
      "cell_type": "code",
      "metadata": {
        "id": "qzzWzp9SpooC",
        "colab_type": "code",
        "colab": {
          "base_uri": "https://localhost:8080/",
          "height": 202
        },
        "outputId": "67d0a8ab-6256-4ac3-861b-f673f02ced9d"
      },
      "source": [
        "!wget http://iali.in/datasets/IEEEAPSIT/unsupervised-ml/Wholesale%20customers%20data.csv"
      ],
      "execution_count": 1,
      "outputs": [
        {
          "output_type": "stream",
          "text": [
            "--2020-06-05 12:30:38--  http://iali.in/datasets/IEEEAPSIT/unsupervised-ml/Wholesale%20customers%20data.csv\n",
            "Resolving iali.in (iali.in)... 156.67.222.125\n",
            "Connecting to iali.in (iali.in)|156.67.222.125|:80... connected.\n",
            "HTTP request sent, awaiting response... 200 OK\n",
            "Length: 15021 (15K) [text/plain]\n",
            "Saving to: ‘Wholesale customers data.csv’\n",
            "\n",
            "Wholesale customers 100%[===================>]  14.67K  65.9KB/s    in 0.2s    \n",
            "\n",
            "2020-06-05 12:30:39 (65.9 KB/s) - ‘Wholesale customers data.csv’ saved [15021/15021]\n",
            "\n"
          ],
          "name": "stdout"
        }
      ]
    },
    {
      "cell_type": "markdown",
      "metadata": {
        "id": "iUijudatWkEp",
        "colab_type": "text"
      },
      "source": [
        "# Imports"
      ]
    },
    {
      "cell_type": "code",
      "metadata": {
        "id": "ObqrnLlhqi0K",
        "colab_type": "code",
        "colab": {
          "base_uri": "https://localhost:8080/",
          "height": 70
        },
        "outputId": "30507fe0-2961-4de3-f036-a97afab6aa65"
      },
      "source": [
        "import numpy as np \n",
        "import pandas as pd\n",
        "import matplotlib.pyplot as plt\n",
        "from sklearn.preprocessing import StandardScaler\n",
        "import pandas_profiling\n",
        "from sklearn.cluster import KMeans\n",
        "from sklearn.decomposition import PCA\n",
        "from sklearn.metrics import accuracy_score\n",
        "from sklearn.mixture import GaussianMixture\n",
        "from scipy.stats import multivariate_normal as mvn\n",
        "from sklearn.model_selection import GridSearchCV\n",
        "from sklearn.metrics import silhouette_score"
      ],
      "execution_count": 2,
      "outputs": [
        {
          "output_type": "stream",
          "text": [
            "/usr/local/lib/python3.6/dist-packages/statsmodels/tools/_testing.py:19: FutureWarning: pandas.util.testing is deprecated. Use the functions in the public API at pandas.testing instead.\n",
            "  import pandas.util.testing as tm\n"
          ],
          "name": "stderr"
        }
      ]
    },
    {
      "cell_type": "markdown",
      "metadata": {
        "id": "jCOYPVZGsHiN",
        "colab_type": "text"
      },
      "source": [
        "# Exploring Data"
      ]
    },
    {
      "cell_type": "code",
      "metadata": {
        "id": "2t7eCX_JqxQV",
        "colab_type": "code",
        "colab": {
          "base_uri": "https://localhost:8080/",
          "height": 195
        },
        "outputId": "bf748c7b-1a0b-41aa-8c70-4a456bdf365f"
      },
      "source": [
        "df = pd.read_csv(\"Wholesale customers data.csv\")\n",
        "df.head()"
      ],
      "execution_count": 3,
      "outputs": [
        {
          "output_type": "execute_result",
          "data": {
            "text/html": [
              "<div>\n",
              "<style scoped>\n",
              "    .dataframe tbody tr th:only-of-type {\n",
              "        vertical-align: middle;\n",
              "    }\n",
              "\n",
              "    .dataframe tbody tr th {\n",
              "        vertical-align: top;\n",
              "    }\n",
              "\n",
              "    .dataframe thead th {\n",
              "        text-align: right;\n",
              "    }\n",
              "</style>\n",
              "<table border=\"1\" class=\"dataframe\">\n",
              "  <thead>\n",
              "    <tr style=\"text-align: right;\">\n",
              "      <th></th>\n",
              "      <th>Channel</th>\n",
              "      <th>Region</th>\n",
              "      <th>Fresh</th>\n",
              "      <th>Milk</th>\n",
              "      <th>Grocery</th>\n",
              "      <th>Frozen</th>\n",
              "      <th>Detergents_Paper</th>\n",
              "      <th>Delicassen</th>\n",
              "    </tr>\n",
              "  </thead>\n",
              "  <tbody>\n",
              "    <tr>\n",
              "      <th>0</th>\n",
              "      <td>2</td>\n",
              "      <td>3</td>\n",
              "      <td>12669</td>\n",
              "      <td>9656</td>\n",
              "      <td>7561</td>\n",
              "      <td>214</td>\n",
              "      <td>2674</td>\n",
              "      <td>1338</td>\n",
              "    </tr>\n",
              "    <tr>\n",
              "      <th>1</th>\n",
              "      <td>2</td>\n",
              "      <td>3</td>\n",
              "      <td>7057</td>\n",
              "      <td>9810</td>\n",
              "      <td>9568</td>\n",
              "      <td>1762</td>\n",
              "      <td>3293</td>\n",
              "      <td>1776</td>\n",
              "    </tr>\n",
              "    <tr>\n",
              "      <th>2</th>\n",
              "      <td>2</td>\n",
              "      <td>3</td>\n",
              "      <td>6353</td>\n",
              "      <td>8808</td>\n",
              "      <td>7684</td>\n",
              "      <td>2405</td>\n",
              "      <td>3516</td>\n",
              "      <td>7844</td>\n",
              "    </tr>\n",
              "    <tr>\n",
              "      <th>3</th>\n",
              "      <td>1</td>\n",
              "      <td>3</td>\n",
              "      <td>13265</td>\n",
              "      <td>1196</td>\n",
              "      <td>4221</td>\n",
              "      <td>6404</td>\n",
              "      <td>507</td>\n",
              "      <td>1788</td>\n",
              "    </tr>\n",
              "    <tr>\n",
              "      <th>4</th>\n",
              "      <td>2</td>\n",
              "      <td>3</td>\n",
              "      <td>22615</td>\n",
              "      <td>5410</td>\n",
              "      <td>7198</td>\n",
              "      <td>3915</td>\n",
              "      <td>1777</td>\n",
              "      <td>5185</td>\n",
              "    </tr>\n",
              "  </tbody>\n",
              "</table>\n",
              "</div>"
            ],
            "text/plain": [
              "   Channel  Region  Fresh  Milk  Grocery  Frozen  Detergents_Paper  Delicassen\n",
              "0        2       3  12669  9656     7561     214              2674        1338\n",
              "1        2       3   7057  9810     9568    1762              3293        1776\n",
              "2        2       3   6353  8808     7684    2405              3516        7844\n",
              "3        1       3  13265  1196     4221    6404               507        1788\n",
              "4        2       3  22615  5410     7198    3915              1777        5185"
            ]
          },
          "metadata": {
            "tags": []
          },
          "execution_count": 3
        }
      ]
    },
    {
      "cell_type": "code",
      "metadata": {
        "id": "3vYB_Sb0rALp",
        "colab_type": "code",
        "colab": {
          "base_uri": "https://localhost:8080/",
          "height": 284
        },
        "outputId": "d7ca86b8-d60e-4ff8-d52a-996f2b2d09f4"
      },
      "source": [
        "df.describe()"
      ],
      "execution_count": 4,
      "outputs": [
        {
          "output_type": "execute_result",
          "data": {
            "text/html": [
              "<div>\n",
              "<style scoped>\n",
              "    .dataframe tbody tr th:only-of-type {\n",
              "        vertical-align: middle;\n",
              "    }\n",
              "\n",
              "    .dataframe tbody tr th {\n",
              "        vertical-align: top;\n",
              "    }\n",
              "\n",
              "    .dataframe thead th {\n",
              "        text-align: right;\n",
              "    }\n",
              "</style>\n",
              "<table border=\"1\" class=\"dataframe\">\n",
              "  <thead>\n",
              "    <tr style=\"text-align: right;\">\n",
              "      <th></th>\n",
              "      <th>Channel</th>\n",
              "      <th>Region</th>\n",
              "      <th>Fresh</th>\n",
              "      <th>Milk</th>\n",
              "      <th>Grocery</th>\n",
              "      <th>Frozen</th>\n",
              "      <th>Detergents_Paper</th>\n",
              "      <th>Delicassen</th>\n",
              "    </tr>\n",
              "  </thead>\n",
              "  <tbody>\n",
              "    <tr>\n",
              "      <th>count</th>\n",
              "      <td>440.000000</td>\n",
              "      <td>440.000000</td>\n",
              "      <td>440.000000</td>\n",
              "      <td>440.000000</td>\n",
              "      <td>440.000000</td>\n",
              "      <td>440.000000</td>\n",
              "      <td>440.000000</td>\n",
              "      <td>440.000000</td>\n",
              "    </tr>\n",
              "    <tr>\n",
              "      <th>mean</th>\n",
              "      <td>1.322727</td>\n",
              "      <td>2.543182</td>\n",
              "      <td>12000.297727</td>\n",
              "      <td>5796.265909</td>\n",
              "      <td>7951.277273</td>\n",
              "      <td>3071.931818</td>\n",
              "      <td>2881.493182</td>\n",
              "      <td>1524.870455</td>\n",
              "    </tr>\n",
              "    <tr>\n",
              "      <th>std</th>\n",
              "      <td>0.468052</td>\n",
              "      <td>0.774272</td>\n",
              "      <td>12647.328865</td>\n",
              "      <td>7380.377175</td>\n",
              "      <td>9503.162829</td>\n",
              "      <td>4854.673333</td>\n",
              "      <td>4767.854448</td>\n",
              "      <td>2820.105937</td>\n",
              "    </tr>\n",
              "    <tr>\n",
              "      <th>min</th>\n",
              "      <td>1.000000</td>\n",
              "      <td>1.000000</td>\n",
              "      <td>3.000000</td>\n",
              "      <td>55.000000</td>\n",
              "      <td>3.000000</td>\n",
              "      <td>25.000000</td>\n",
              "      <td>3.000000</td>\n",
              "      <td>3.000000</td>\n",
              "    </tr>\n",
              "    <tr>\n",
              "      <th>25%</th>\n",
              "      <td>1.000000</td>\n",
              "      <td>2.000000</td>\n",
              "      <td>3127.750000</td>\n",
              "      <td>1533.000000</td>\n",
              "      <td>2153.000000</td>\n",
              "      <td>742.250000</td>\n",
              "      <td>256.750000</td>\n",
              "      <td>408.250000</td>\n",
              "    </tr>\n",
              "    <tr>\n",
              "      <th>50%</th>\n",
              "      <td>1.000000</td>\n",
              "      <td>3.000000</td>\n",
              "      <td>8504.000000</td>\n",
              "      <td>3627.000000</td>\n",
              "      <td>4755.500000</td>\n",
              "      <td>1526.000000</td>\n",
              "      <td>816.500000</td>\n",
              "      <td>965.500000</td>\n",
              "    </tr>\n",
              "    <tr>\n",
              "      <th>75%</th>\n",
              "      <td>2.000000</td>\n",
              "      <td>3.000000</td>\n",
              "      <td>16933.750000</td>\n",
              "      <td>7190.250000</td>\n",
              "      <td>10655.750000</td>\n",
              "      <td>3554.250000</td>\n",
              "      <td>3922.000000</td>\n",
              "      <td>1820.250000</td>\n",
              "    </tr>\n",
              "    <tr>\n",
              "      <th>max</th>\n",
              "      <td>2.000000</td>\n",
              "      <td>3.000000</td>\n",
              "      <td>112151.000000</td>\n",
              "      <td>73498.000000</td>\n",
              "      <td>92780.000000</td>\n",
              "      <td>60869.000000</td>\n",
              "      <td>40827.000000</td>\n",
              "      <td>47943.000000</td>\n",
              "    </tr>\n",
              "  </tbody>\n",
              "</table>\n",
              "</div>"
            ],
            "text/plain": [
              "          Channel      Region  ...  Detergents_Paper    Delicassen\n",
              "count  440.000000  440.000000  ...        440.000000    440.000000\n",
              "mean     1.322727    2.543182  ...       2881.493182   1524.870455\n",
              "std      0.468052    0.774272  ...       4767.854448   2820.105937\n",
              "min      1.000000    1.000000  ...          3.000000      3.000000\n",
              "25%      1.000000    2.000000  ...        256.750000    408.250000\n",
              "50%      1.000000    3.000000  ...        816.500000    965.500000\n",
              "75%      2.000000    3.000000  ...       3922.000000   1820.250000\n",
              "max      2.000000    3.000000  ...      40827.000000  47943.000000\n",
              "\n",
              "[8 rows x 8 columns]"
            ]
          },
          "metadata": {
            "tags": []
          },
          "execution_count": 4
        }
      ]
    },
    {
      "cell_type": "code",
      "metadata": {
        "id": "shmi281OsdcI",
        "colab_type": "code",
        "colab": {}
      },
      "source": [
        "#!pip install -U pandas-profiling\n",
        "#df.profile_report()"
      ],
      "execution_count": 0,
      "outputs": []
    },
    {
      "cell_type": "markdown",
      "metadata": {
        "id": "8cPKCDMxW_5q",
        "colab_type": "text"
      },
      "source": [
        "## Standardize Data"
      ]
    },
    {
      "cell_type": "code",
      "metadata": {
        "id": "RuRz2IbSrhcz",
        "colab_type": "code",
        "colab": {}
      },
      "source": [
        "scaler = StandardScaler()\n",
        "scaled_df = scaler.fit_transform(df)"
      ],
      "execution_count": 0,
      "outputs": []
    },
    {
      "cell_type": "markdown",
      "metadata": {
        "id": "szG_mP9MXHJi",
        "colab_type": "text"
      },
      "source": [
        "## Linear dimensionality reduction \n",
        "(6 to 2)\n",
        "\n",
        "Using Singular Value Decomposition of the data to project it to a lower dimensional space.\n",
        "\n",
        "Principal component analysis (PCA)"
      ]
    },
    {
      "cell_type": "code",
      "metadata": {
        "id": "LoJed0yQElXd",
        "colab_type": "code",
        "colab": {}
      },
      "source": [
        "PCA_train = PCA(2).fit_transform(scaled_df)\n",
        "ps = PCA_train "
      ],
      "execution_count": 0,
      "outputs": []
    },
    {
      "cell_type": "markdown",
      "metadata": {
        "id": "djdyAH4qWIBl",
        "colab_type": "text"
      },
      "source": [
        "# Finding Clusters\n",
        "* Elbow Method\n",
        "* Silhouette Method"
      ]
    },
    {
      "cell_type": "markdown",
      "metadata": {
        "id": "BnqRWO29Drcu",
        "colab_type": "text"
      },
      "source": [
        "## Elbow Method\n",
        "Finding optimal value of K-Clusters using Elbow Method\n",
        "\n",
        "The method consists of plotting the explained variation as a function of the number of clusters, and picking the elbow of the curve as the number of clusters to use."
      ]
    },
    {
      "cell_type": "code",
      "metadata": {
        "id": "Cdl40fLnysAi",
        "colab_type": "code",
        "colab": {
          "base_uri": "https://localhost:8080/",
          "height": 397
        },
        "outputId": "35cf475c-c528-47e9-8f92-b24ff88b963a"
      },
      "source": [
        "inertia = []\n",
        "for i in range(1, 25):\n",
        "    km = KMeans(n_clusters = i, init = 'k-means++', max_iter = 300, n_init = 10)\n",
        "    km.fit(ps)\n",
        "    inertia.append(km.inertia_)\n",
        "plt.plot(range(1, 25), inertia)\n",
        "plt.title(\"Elbow Method\")\n",
        "plt.xlabel('No. of Clusters K')\n",
        "plt.ylabel('Inertia/SSE')\n",
        "plt.figure(figsize = (10,5))\n",
        "plt.show()"
      ],
      "execution_count": 8,
      "outputs": [
        {
          "output_type": "display_data",
          "data": {
            "image/png": "[encoded data removed]",
            "text/plain": [
              "<Figure size 576x396 with 1 Axes>"
            ]
          },
          "metadata": {
            "tags": []
          }
        },
        {
          "output_type": "display_data",
          "data": {
            "text/plain": [
              "<Figure size 720x360 with 0 Axes>"
            ]
          },
          "metadata": {
            "tags": []
          }
        }
      ]
    },
    {
      "cell_type": "markdown",
      "metadata": {
        "id": "psSRImfJD0WM",
        "colab_type": "text"
      },
      "source": [
        "We can see the elbow at K = 5 "
      ]
    },
    {
      "cell_type": "markdown",
      "metadata": {
        "id": "54eTFwjsU0lg",
        "colab_type": "text"
      },
      "source": [
        "## Silhouette Method\n",
        "Finding optimal value of K-Clusters using silhouette score\n",
        "\n",
        "The silhouette ranges from −1 to +1, where a high value indicates that the object is well matched to its own cluster and poorly matched to neighboring clusters"
      ]
    },
    {
      "cell_type": "code",
      "metadata": {
        "id": "kfOQa1en3Sdw",
        "colab_type": "code",
        "colab": {
          "base_uri": "https://localhost:8080/",
          "height": 381
        },
        "outputId": "1cbb60f3-1984-4b54-fb57-286937c3f61c"
      },
      "source": [
        "sil_score = []\n",
        "kmax = 10\n",
        "\n",
        "# Dissimilarity would not be defined for a single cluster, thus, minimum number of clusters should be 2\n",
        "for k in range(2, kmax+1):\n",
        "  kmeans = KMeans(n_clusters = k).fit(ps)\n",
        "  labels = kmeans.labels_\n",
        "  sil_score.append(silhouette_score(ps, labels, metric = 'euclidean'))\n",
        "\n",
        "plt.plot(range(2, kmax+1), sil_score)\n",
        "plt.xlabel('No. of components/clusters')\n",
        "plt.ylabel('Silhouette Score')\n",
        "plt.figure(figsize = (10,5))\n",
        "plt.show()"
      ],
      "execution_count": 9,
      "outputs": [
        {
          "output_type": "display_data",
          "data": {
            "image/png": "[encoded data removed]",
            "text/plain": [
              "<Figure size 576x396 with 1 Axes>"
            ]
          },
          "metadata": {
            "tags": []
          }
        },
        {
          "output_type": "display_data",
          "data": {
            "text/plain": [
              "<Figure size 720x360 with 0 Axes>"
            ]
          },
          "metadata": {
            "tags": []
          }
        }
      ]
    },
    {
      "cell_type": "markdown",
      "metadata": {
        "id": "jhtMMOWEDpJY",
        "colab_type": "text"
      },
      "source": [
        "# Models\n",
        "* K-Means\n",
        "* Gaussiam Mixture"
      ]
    },
    {
      "cell_type": "markdown",
      "metadata": {
        "id": "SsGLIRV6D9HA",
        "colab_type": "text"
      },
      "source": [
        "## K-Means Model"
      ]
    },
    {
      "cell_type": "code",
      "metadata": {
        "id": "UUsCZgk0tu_2",
        "colab_type": "code",
        "colab": {}
      },
      "source": [
        "model = KMeans(n_clusters = 5, \n",
        "               algorithm = 'full',\n",
        "               init = 'k-means++', \n",
        "               precompute_distances = 'auto') \n",
        "fitted = model.fit(ps)\n",
        "prediction = fitted.predict(ps)"
      ],
      "execution_count": 0,
      "outputs": []
    },
    {
      "cell_type": "markdown",
      "metadata": {
        "id": "VsXIrMb8bo7h",
        "colab_type": "text"
      },
      "source": [
        "Plotting "
      ]
    },
    {
      "cell_type": "code",
      "metadata": {
        "id": "_srZE8mYbntk",
        "colab_type": "code",
        "colab": {}
      },
      "source": [
        "def kmeans_plot(fitted, prediction ):\n",
        "  plt.figure(figsize = (10,8))\n",
        "  plt.scatter(ps[:, 0], ps[:, 1], c = prediction , s=45,cmap='viridis')\n",
        "  centers = fitted.cluster_centers_\n",
        "  plt.scatter(centers[:, 0], centers[:, 1], c='black', s=50, alpha=0.6);\n",
        "  plt.axis('equal')\n",
        "  plt.show()"
      ],
      "execution_count": 0,
      "outputs": []
    },
    {
      "cell_type": "code",
      "metadata": {
        "id": "HrUkGhzybTmN",
        "colab_type": "code",
        "colab": {
          "base_uri": "https://localhost:8080/",
          "height": 486
        },
        "outputId": "358a6f09-b6ff-4ade-ddd2-8eb84f74d5f3"
      },
      "source": [
        "kmeans_plot(fitted, prediction)"
      ],
      "execution_count": 12,
      "outputs": [
        {
          "output_type": "display_data",
          "data": {
            "image/png": "[encoded data removed]",
            "text/plain": [
              "<Figure size 720x576 with 1 Axes>"
            ]
          },
          "metadata": {
            "tags": []
          }
        }
      ]
    },
    {
      "cell_type": "code",
      "metadata": {
        "id": "mttQGjDWSEta",
        "colab_type": "code",
        "colab": {
          "base_uri": "https://localhost:8080/",
          "height": 34
        },
        "outputId": "38f9b565-eee3-4145-d73d-bb357bc4bc48"
      },
      "source": [
        "fitted.score(ps)"
      ],
      "execution_count": 13,
      "outputs": [
        {
          "output_type": "execute_result",
          "data": {
            "text/plain": [
              "-421.34718677056327"
            ]
          },
          "metadata": {
            "tags": []
          },
          "execution_count": 13
        }
      ]
    },
    {
      "cell_type": "markdown",
      "metadata": {
        "id": "O7UcpmEeMK5X",
        "colab_type": "text"
      },
      "source": [
        "### Hyper patamerter tuning"
      ]
    },
    {
      "cell_type": "code",
      "metadata": {
        "id": "meRSJ2gNMKOp",
        "colab_type": "code",
        "outputId": "117018d6-652e-463a-c6e1-a08e41d6a50f",
        "colab": {
          "base_uri": "https://localhost:8080/",
          "height": 54
        }
      },
      "source": [
        "model.get_params().keys()"
      ],
      "execution_count": 14,
      "outputs": [
        {
          "output_type": "execute_result",
          "data": {
            "text/plain": [
              "dict_keys(['algorithm', 'copy_x', 'init', 'max_iter', 'n_clusters', 'n_init', 'n_jobs', 'precompute_distances', 'random_state', 'tol', 'verbose'])"
            ]
          },
          "metadata": {
            "tags": []
          },
          "execution_count": 14
        }
      ]
    },
    {
      "cell_type": "code",
      "metadata": {
        "id": "0gG_G1ePMTfY",
        "colab_type": "code",
        "colab": {
          "base_uri": "https://localhost:8080/",
          "height": 84
        },
        "outputId": "5ef7efbf-5b62-4e67-bbed-44db9c1d03e3"
      },
      "source": [
        "param_grid = [\n",
        "    { 'n_clusters' : [5],\n",
        "    'algorithm' : ['auto', 'full', 'elkan'],\n",
        "    'init' : ['k-means++', 'random'],\n",
        "    'precompute_distances' : ['auto'],\n",
        "     'tol' : [0.01, 0.0001, 0.00001, 0.01]\n",
        "     }\n",
        "]\n",
        "\n",
        "model_sel = GridSearchCV(estimator= KMeans(n_clusters=5), param_grid = param_grid, cv = 5, verbose=True, n_jobs=-1)\n",
        "best_model = model_sel.fit(ps)"
      ],
      "execution_count": 15,
      "outputs": [
        {
          "output_type": "stream",
          "text": [
            "Fitting 5 folds for each of 24 candidates, totalling 120 fits\n"
          ],
          "name": "stdout"
        },
        {
          "output_type": "stream",
          "text": [
            "[Parallel(n_jobs=-1)]: Using backend LokyBackend with 2 concurrent workers.\n",
            "[Parallel(n_jobs=-1)]: Done 113 tasks      | elapsed:    5.6s\n",
            "[Parallel(n_jobs=-1)]: Done 120 out of 120 | elapsed:    5.7s finished\n"
          ],
          "name": "stderr"
        }
      ]
    },
    {
      "cell_type": "code",
      "metadata": {
        "id": "ULAwf-uPPXd6",
        "colab_type": "code",
        "colab": {
          "base_uri": "https://localhost:8080/",
          "height": 50
        },
        "outputId": "0b07c806-fc45-4cf1-df41-e12482bfed59"
      },
      "source": [
        "best_params = best_model.best_params_\n",
        "print(best_params)\n",
        "print(\"Score\",best_model.score(ps))"
      ],
      "execution_count": 16,
      "outputs": [
        {
          "output_type": "stream",
          "text": [
            "{'algorithm': 'full', 'init': 'k-means++', 'n_clusters': 5, 'precompute_distances': 'auto', 'tol': 0.01}\n",
            "Score -421.3146175003159\n"
          ],
          "name": "stdout"
        }
      ]
    },
    {
      "cell_type": "markdown",
      "metadata": {
        "id": "9RrvwKE4TG2b",
        "colab_type": "text"
      },
      "source": [
        "**Hyper parameter tuning does not have any/much impact on our model**"
      ]
    },
    {
      "cell_type": "markdown",
      "metadata": {
        "id": "D_k28uDGTOJt",
        "colab_type": "text"
      },
      "source": [
        "K-Means Results"
      ]
    },
    {
      "cell_type": "code",
      "metadata": {
        "id": "OcnvgSCowHax",
        "colab_type": "code",
        "colab": {
          "base_uri": "https://localhost:8080/",
          "height": 168
        },
        "outputId": "7007fefb-4bc2-402a-bee6-e7ce696baa35"
      },
      "source": [
        "print('SSE: ', fitted.inertia_) # - fitted.score(ps)\n",
        "df['cluster'] = prediction\n",
        "print('\\nCount in each cluster: \\n', df['cluster'].value_counts())"
      ],
      "execution_count": 17,
      "outputs": [
        {
          "output_type": "stream",
          "text": [
            "SSE:  421.34718677056327\n",
            "\n",
            "Count in each cluster: \n",
            " 0    236\n",
            "1    125\n",
            "4     65\n",
            "2     11\n",
            "3      3\n",
            "Name: cluster, dtype: int64\n"
          ],
          "name": "stdout"
        }
      ]
    },
    {
      "cell_type": "markdown",
      "metadata": {
        "id": "N4XAnDlAT5YP",
        "colab_type": "text"
      },
      "source": [
        "## Gaussian Mixture Model \n",
        "\n",
        "Uses Expectation Maximization E-M algorithm"
      ]
    },
    {
      "cell_type": "code",
      "metadata": {
        "id": "WEyrQqi68dCU",
        "colab_type": "code",
        "colab": {}
      },
      "source": [
        "n_components = 4 # Clusters , chosing form sihouette score rather than elbow method\n",
        "\n",
        "model_gmm = GaussianMixture(n_components = n_components, covariance_type='full').fit(ps)\n",
        "prediction_gmm = model_gmm.predict(ps)\n",
        "probs = model_gmm.predict_proba(ps)"
      ],
      "execution_count": 0,
      "outputs": []
    },
    {
      "cell_type": "markdown",
      "metadata": {
        "id": "nIkbXnOZb-06",
        "colab_type": "text"
      },
      "source": [
        "Plotting"
      ]
    },
    {
      "cell_type": "code",
      "metadata": {
        "id": "WfUQ6olKYTgK",
        "colab_type": "code",
        "colab": {}
      },
      "source": [
        "def gmm_plot(prediction_gmm, probs):\n",
        "  centers = np.zeros((n_components,2))\n",
        "  for i in range(n_components):\n",
        "      density = mvn(cov=model_gmm.covariances_[i], mean=model_gmm.means_[i]).logpdf(ps)\n",
        "      centers[i, :] = ps[np.argmax(density)]\n",
        "  plt.figure(figsize = (10,8))\n",
        "  plt.scatter(ps[:, 0], ps[:, 1],c=prediction_gmm ,s=45, cmap='viridis')\n",
        "  plt.scatter(centers[:, 0], centers[:, 1],c='black', s=50, alpha=0.6)\n",
        "  plt.show()"
      ],
      "execution_count": 0,
      "outputs": []
    },
    {
      "cell_type": "code",
      "metadata": {
        "id": "iKFlGmXQcDNs",
        "colab_type": "code",
        "colab": {
          "base_uri": "https://localhost:8080/",
          "height": 486
        },
        "outputId": "de2c4b22-e752-4fef-b4db-a27e08b09789"
      },
      "source": [
        "gmm_plot(prediction_gmm, probs)"
      ],
      "execution_count": 20,
      "outputs": [
        {
          "output_type": "display_data",
          "data": {
            "image/png": "[encoded data removed]",
            "text/plain": [
              "<Figure size 720x576 with 1 Axes>"
            ]
          },
          "metadata": {
            "tags": []
          }
        }
      ]
    },
    {
      "cell_type": "markdown",
      "metadata": {
        "id": "1FiEqeA_au1U",
        "colab_type": "text"
      },
      "source": [
        "GMM Results"
      ]
    },
    {
      "cell_type": "code",
      "metadata": {
        "id": "QZAfgMTA-Dyy",
        "colab_type": "code",
        "colab": {
          "base_uri": "https://localhost:8080/",
          "height": 302
        },
        "outputId": "ef7c3cc2-0ac0-4359-c90a-4adf9cd24531"
      },
      "source": [
        "print(\"\\nMeans: \", model_gmm.means_)\n",
        "print(\"\\nCovariance: \", model_gmm.covariances_)"
      ],
      "execution_count": 21,
      "outputs": [
        {
          "output_type": "stream",
          "text": [
            "\n",
            "Means:  [[ 0.94877738 -0.60241441]\n",
            " [ 2.86282818  1.01195386]\n",
            " [-1.11238261  0.0229686 ]\n",
            " [ 0.17746924  4.81984222]]\n",
            "\n",
            "Covariance:  [[[ 1.29156303 -0.20933681]\n",
            "  [-0.20933681  0.28435568]]\n",
            "\n",
            " [[11.43247599 -1.63115277]\n",
            "  [-1.63115277  2.10735937]]\n",
            "\n",
            " [[ 0.04589429  0.03847582]\n",
            "  [ 0.03847582  0.47461132]]\n",
            "\n",
            " [[ 2.95099297  5.84113327]\n",
            "  [ 5.84113327 15.05189507]]]\n"
          ],
          "name": "stdout"
        }
      ]
    },
    {
      "cell_type": "markdown",
      "metadata": {
        "id": "bVAgvQwzc4Rl",
        "colab_type": "text"
      },
      "source": [
        "# Implemented Unsupervised Learning on the dataset using 2 models"
      ]
    },
    {
      "cell_type": "markdown",
      "metadata": {
        "id": "rfNqS0SedRYV",
        "colab_type": "text"
      },
      "source": [
        "## K-Means with 5 Clusters"
      ]
    },
    {
      "cell_type": "code",
      "metadata": {
        "id": "th8h9NgAdP1X",
        "colab_type": "code",
        "colab": {
          "base_uri": "https://localhost:8080/",
          "height": 486
        },
        "outputId": "18c759f0-3dad-4e2d-f2d6-fe518d9e9935"
      },
      "source": [
        "kmeans_plot(fitted, prediction)"
      ],
      "execution_count": 22,
      "outputs": [
        {
          "output_type": "display_data",
          "data": {
            "image/png": "[encoded data removed]",
            "text/plain": [
              "<Figure size 720x576 with 1 Axes>"
            ]
          },
          "metadata": {
            "tags": []
          }
        }
      ]
    },
    {
      "cell_type": "markdown",
      "metadata": {
        "id": "hOPVUNK_dV5_",
        "colab_type": "text"
      },
      "source": [
        "## GMM with 4 Clusters"
      ]
    },
    {
      "cell_type": "code",
      "metadata": {
        "id": "8a_VO0QxdQaw",
        "colab_type": "code",
        "colab": {
          "base_uri": "https://localhost:8080/",
          "height": 486
        },
        "outputId": "7aed2169-8df0-4ddd-8bec-693258872e01"
      },
      "source": [
        "gmm_plot(prediction_gmm, probs)"
      ],
      "execution_count": 23,
      "outputs": [
        {
          "output_type": "display_data",
          "data": {
            "image/png": "[encoded data removed]",
            "text/plain": [
              "<Figure size 720x576 with 1 Axes>"
            ]
          },
          "metadata": {
            "tags": []
          }
        }
      ]
    }
  ]
}