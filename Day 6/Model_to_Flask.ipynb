{
  "nbformat": 4,
  "nbformat_minor": 0,
  "metadata": {
    "colab": {
      "name": "Model-to-Flask.ipynb",
      "provenance": [],
      "collapsed_sections": [],
      "authorship_tag": "ABX9TyNyCkKZdAK05bHCpMloCn84",
      "include_colab_link": true
    },
    "kernelspec": {
      "name": "python3",
      "display_name": "Python 3"
    }
  },
  "cells": [
    {
      "cell_type": "markdown",
      "metadata": {
        "id": "view-in-github",
        "colab_type": "text"
      },
      "source": [
        "<a href=\"https://colab.research.google.com/github/Nishidh25/IEEE-Coders-Week---ML/blob/master/Day%206/Model_to_Flask.ipynb\" target=\"_parent\"><img src=\"https://colab.research.google.com/assets/colab-badge.svg\" alt=\"Open In Colab\"/></a>"
      ]
    },
    {
      "cell_type": "markdown",
      "metadata": {
        "id": "14QCLreLgSEB",
        "colab_type": "text"
      },
      "source": [
        "# Imports"
      ]
    },
    {
      "cell_type": "code",
      "metadata": {
        "id": "_Al5rKFGNCOc",
        "colab_type": "code",
        "colab": {}
      },
      "source": [
        "from flask_ngrok import run_with_ngrok\n",
        "from flask import Flask, request, render_template\n",
        "import pickle\n",
        "import spacy"
      ],
      "execution_count": 0,
      "outputs": []
    },
    {
      "cell_type": "markdown",
      "metadata": {
        "id": "oLhtdd3zgVJe",
        "colab_type": "text"
      },
      "source": [
        "# Loading model"
      ]
    },
    {
      "cell_type": "code",
      "metadata": {
        "id": "fqw3x1wqOOOE",
        "colab_type": "code",
        "colab": {}
      },
      "source": [
        "Get the saved model\n",
        "#!get https://github.com/Nishidh25/IEEE-Coders-Week---ML/raw/master/Day%206/model.zip\n",
        "#!unzip model.zip"
      ],
      "execution_count": 0,
      "outputs": []
    },
    {
      "cell_type": "code",
      "metadata": {
        "id": "QUSIPOVtOhkH",
        "colab_type": "code",
        "colab": {}
      },
      "source": [
        "def predict(input):\n",
        "  nlp = spacy.load('content/my_model')\n",
        "  texts = [str(input)]\n",
        "  docs = [nlp.tokenizer(text) for text in texts]\n",
        "      \n",
        "  # Use textcat to get the scores for each doc\n",
        "  textcat = nlp.get_pipe('textcat')\n",
        "  nlp.to_disk('my_model')\n",
        "  scores, _ = textcat.predict(docs)\n",
        "  predicted_labels = scores.argmax(axis=1)\n",
        "  predicted_class = [textcat.labels[label] for label in predicted_labels]\n",
        "  return predicted_class[0]"
      ],
      "execution_count": 0,
      "outputs": []
    },
    {
      "cell_type": "markdown",
      "metadata": {
        "id": "ll0GCIqngaRP",
        "colab_type": "text"
      },
      "source": [
        "# Flask - Rest API of the Model "
      ]
    },
    {
      "cell_type": "code",
      "metadata": {
        "id": "bXptUm-XL9cZ",
        "colab_type": "code",
        "colab": {
          "base_uri": "https://localhost:8080/",
          "height": 538
        },
        "outputId": "e0ff2300-9f04-4ec9-d3ba-bed6dabf713b"
      },
      "source": [
        "app = Flask(__name__)\n",
        "run_with_ngrok(app)\n",
        "\n",
        "@app.route('/login',methods = ['POST'])\n",
        "def login():\n",
        "  input = request.form['text']\n",
        "  if input == \"\":\n",
        "    return \"\"\"\n",
        "    <meta http-equiv = \"refresh\" content = \"2; url = /\" />\n",
        "    <h1>Invalid Input</h1>\n",
        "    \"\"\"\n",
        "  else :\n",
        "    predicted_class = predict(input)\n",
        "    return \"<div class='content'> <h1> Prediction </h1><br>\" + \"<h2>\"+predicted_class+\"</h2></div>\"\n",
        "\n",
        "@app.route(\"/\")\n",
        "def home():\n",
        "  return \"\"\"\n",
        "  <head>\n",
        "  <title>Toxic or not ?</title>\n",
        "  </head>\n",
        "  <body>\n",
        "    <div class=\"content\">\n",
        "      <form action = \"/login\" method = \"POST\">\n",
        "         <p>Enter some text :</p>\n",
        "         <p><input type = \"text\" name = \"text\" /></p>\n",
        "         <p><input type = \"submit\" value = \"submit\" /></p>\n",
        "      </form>\n",
        "    </div>\n",
        "  </body>\n",
        "    \"\"\"\n",
        "\n",
        "\n",
        "if __name__ == '__main__':\n",
        "  \n",
        "  app.run()"
      ],
      "execution_count": 0,
      "outputs": [
        {
          "output_type": "stream",
          "text": [
            " * Serving Flask app \"__main__\" (lazy loading)\n",
            " * Environment: production\n",
            "\u001b[31m   WARNING: This is a development server. Do not use it in a production deployment.\u001b[0m\n",
            "\u001b[2m   Use a production WSGI server instead.\u001b[0m\n",
            " * Debug mode: off\n"
          ],
          "name": "stdout"
        },
        {
          "output_type": "stream",
          "text": [
            " * Running on http://127.0.0.1:5000/ (Press CTRL+C to quit)\n"
          ],
          "name": "stderr"
        },
        {
          "output_type": "stream",
          "text": [
            " * Running on http://4bfb25699d20.ngrok.io\n",
            " * Traffic stats available on http://127.0.0.1:4040\n"
          ],
          "name": "stdout"
        },
        {
          "output_type": "stream",
          "text": [
            "127.0.0.1 - - [07/Jun/2020 15:55:46] \"\u001b[37mGET / HTTP/1.1\u001b[0m\" 200 -\n",
            "127.0.0.1 - - [07/Jun/2020 15:55:46] \"\u001b[33mGET /favicon.ico HTTP/1.1\u001b[0m\" 404 -\n",
            "127.0.0.1 - - [07/Jun/2020 15:56:13] \"\u001b[37mGET / HTTP/1.1\u001b[0m\" 200 -\n",
            "127.0.0.1 - - [07/Jun/2020 15:56:14] \"\u001b[33mGET /favicon.ico HTTP/1.1\u001b[0m\" 404 -\n",
            "127.0.0.1 - - [07/Jun/2020 15:56:18] \"\u001b[37mPOST /login HTTP/1.1\u001b[0m\" 200 -\n",
            "127.0.0.1 - - [07/Jun/2020 15:56:25] \"\u001b[37mPOST /login HTTP/1.1\u001b[0m\" 200 -\n",
            "127.0.0.1 - - [07/Jun/2020 15:56:35] \"\u001b[37mPOST /login HTTP/1.1\u001b[0m\" 200 -\n",
            "127.0.0.1 - - [07/Jun/2020 15:56:43] \"\u001b[37mPOST /login HTTP/1.1\u001b[0m\" 200 -\n",
            "127.0.0.1 - - [07/Jun/2020 15:56:50] \"\u001b[37mPOST /login HTTP/1.1\u001b[0m\" 200 -\n",
            "127.0.0.1 - - [07/Jun/2020 15:56:58] \"\u001b[37mPOST /login HTTP/1.1\u001b[0m\" 200 -\n",
            "127.0.0.1 - - [07/Jun/2020 15:57:34] \"\u001b[37mPOST /login HTTP/1.1\u001b[0m\" 200 -\n",
            "127.0.0.1 - - [07/Jun/2020 15:57:55] \"\u001b[37mPOST /login HTTP/1.1\u001b[0m\" 200 -\n",
            "127.0.0.1 - - [07/Jun/2020 15:58:00] \"\u001b[37mPOST /login HTTP/1.1\u001b[0m\" 200 -\n",
            "127.0.0.1 - - [07/Jun/2020 15:59:33] \"\u001b[37mPOST /login HTTP/1.1\u001b[0m\" 200 -\n",
            "127.0.0.1 - - [07/Jun/2020 16:02:29] \"\u001b[37mGET / HTTP/1.1\u001b[0m\" 200 -\n",
            "127.0.0.1 - - [07/Jun/2020 16:02:30] \"\u001b[33mGET /favicon.ico HTTP/1.1\u001b[0m\" 404 -\n",
            "127.0.0.1 - - [07/Jun/2020 16:02:39] \"\u001b[37mPOST /login HTTP/1.1\u001b[0m\" 200 -\n",
            "127.0.0.1 - - [07/Jun/2020 16:02:56] \"\u001b[37mPOST /login HTTP/1.1\u001b[0m\" 200 -\n",
            "127.0.0.1 - - [07/Jun/2020 16:03:24] \"\u001b[37mPOST /login HTTP/1.1\u001b[0m\" 200 -\n",
            "127.0.0.1 - - [07/Jun/2020 16:03:30] \"\u001b[37mPOST /login HTTP/1.1\u001b[0m\" 200 -\n",
            "127.0.0.1 - - [07/Jun/2020 16:03:37] \"\u001b[37mPOST /login HTTP/1.1\u001b[0m\" 200 -\n",
            "127.0.0.1 - - [07/Jun/2020 16:13:21] \"\u001b[37mPOST /login HTTP/1.1\u001b[0m\" 200 -\n",
            "127.0.0.1 - - [07/Jun/2020 16:13:30] \"\u001b[37mPOST /login HTTP/1.1\u001b[0m\" 200 -\n"
          ],
          "name": "stderr"
        }
      ]
    }
  ]
}